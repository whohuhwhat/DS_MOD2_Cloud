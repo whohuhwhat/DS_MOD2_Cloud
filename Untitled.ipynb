{
 "cells": [
  {
   "cell_type": "code",
   "execution_count": 21,
   "metadata": {},
   "outputs": [],
   "source": [
    "import seaborn as sns\n",
    "import matplotlib.pyplot as plt\n",
    "import statsmodels.api as sm\n",
    "import statsmodels.stats.api as sms\n",
    "import statsmodels.formula.api as smf\n",
    "import scipy.stats as stats\n",
    "from statsmodels.formula.api import ols\n",
    "import pandas as pd"
   ]
  },
  {
   "cell_type": "markdown",
   "metadata": {},
   "source": [
    "Single Core represents single threaded performace, faster CPUS generally score better here.  Multi Core Score represents multi threaded performance, CPUS with more cores generally score better here."
   ]
  },
  {
   "cell_type": "code",
   "execution_count": 3,
   "metadata": {},
   "outputs": [
    {
     "data": {
      "text/html": [
       "<div>\n",
       "<style scoped>\n",
       "    .dataframe tbody tr th:only-of-type {\n",
       "        vertical-align: middle;\n",
       "    }\n",
       "\n",
       "    .dataframe tbody tr th {\n",
       "        vertical-align: top;\n",
       "    }\n",
       "\n",
       "    .dataframe thead th {\n",
       "        text-align: right;\n",
       "    }\n",
       "</style>\n",
       "<table border=\"1\" class=\"dataframe\">\n",
       "  <thead>\n",
       "    <tr style=\"text-align: right;\">\n",
       "      <th></th>\n",
       "      <th>Location</th>\n",
       "      <th>Provider</th>\n",
       "      <th>Category</th>\n",
       "      <th>VM</th>\n",
       "      <th>CPU</th>\n",
       "      <th>RAM (GB)</th>\n",
       "      <th>Single Score</th>\n",
       "      <th>Multi Score</th>\n",
       "      <th>Price</th>\n",
       "      <th>Price Score</th>\n",
       "    </tr>\n",
       "  </thead>\n",
       "  <tbody>\n",
       "    <tr>\n",
       "      <th>0</th>\n",
       "      <td>Worldwide</td>\n",
       "      <td>1&amp;1</td>\n",
       "      <td>General Purpose</td>\n",
       "      <td>M</td>\n",
       "      <td>1</td>\n",
       "      <td>1.0</td>\n",
       "      <td>2298</td>\n",
       "      <td>2963</td>\n",
       "      <td>0.013</td>\n",
       "      <td>2202.0</td>\n",
       "    </tr>\n",
       "    <tr>\n",
       "      <th>1</th>\n",
       "      <td>NaN</td>\n",
       "      <td>1&amp;1</td>\n",
       "      <td>General Purpose</td>\n",
       "      <td>M</td>\n",
       "      <td>1</td>\n",
       "      <td>1.0</td>\n",
       "      <td>2998</td>\n",
       "      <td>2863</td>\n",
       "      <td>0.013</td>\n",
       "      <td>2202.0</td>\n",
       "    </tr>\n",
       "    <tr>\n",
       "      <th>2</th>\n",
       "      <td>Worldwide</td>\n",
       "      <td>1&amp;1</td>\n",
       "      <td>General Purpose</td>\n",
       "      <td>S</td>\n",
       "      <td>1</td>\n",
       "      <td>0.5</td>\n",
       "      <td>2919</td>\n",
       "      <td>2794</td>\n",
       "      <td>0.007</td>\n",
       "      <td>3978.0</td>\n",
       "    </tr>\n",
       "    <tr>\n",
       "      <th>3</th>\n",
       "      <td>NaN</td>\n",
       "      <td>1&amp;1</td>\n",
       "      <td>General Purpose</td>\n",
       "      <td>S</td>\n",
       "      <td>1</td>\n",
       "      <td>0.5</td>\n",
       "      <td>2919</td>\n",
       "      <td>2794</td>\n",
       "      <td>0.007</td>\n",
       "      <td>3978.0</td>\n",
       "    </tr>\n",
       "    <tr>\n",
       "      <th>4</th>\n",
       "      <td>Worldwide</td>\n",
       "      <td>Amazon Web Services</td>\n",
       "      <td>Burstable Performance</td>\n",
       "      <td>t2.micro</td>\n",
       "      <td>1</td>\n",
       "      <td>1.0</td>\n",
       "      <td>3259</td>\n",
       "      <td>3106</td>\n",
       "      <td>0.012</td>\n",
       "      <td>2588.0</td>\n",
       "    </tr>\n",
       "    <tr>\n",
       "      <th>5</th>\n",
       "      <td>NaN</td>\n",
       "      <td>Amazon Web Services</td>\n",
       "      <td>Burstable Performance</td>\n",
       "      <td>t2.micro</td>\n",
       "      <td>1</td>\n",
       "      <td>1.0</td>\n",
       "      <td>3259</td>\n",
       "      <td>3106</td>\n",
       "      <td>0.012</td>\n",
       "      <td>2588.0</td>\n",
       "    </tr>\n",
       "    <tr>\n",
       "      <th>6</th>\n",
       "      <td>Worldwide</td>\n",
       "      <td>Amazon Web Services</td>\n",
       "      <td>Burstable Performance</td>\n",
       "      <td>t2.small</td>\n",
       "      <td>1</td>\n",
       "      <td>2.0</td>\n",
       "      <td>3264</td>\n",
       "      <td>3117</td>\n",
       "      <td>0.023</td>\n",
       "      <td>1355.0</td>\n",
       "    </tr>\n",
       "    <tr>\n",
       "      <th>7</th>\n",
       "      <td>NaN</td>\n",
       "      <td>Amazon Web Services</td>\n",
       "      <td>Burstable Performance</td>\n",
       "      <td>t2.small</td>\n",
       "      <td>1</td>\n",
       "      <td>2.0</td>\n",
       "      <td>3264</td>\n",
       "      <td>3117</td>\n",
       "      <td>0.023</td>\n",
       "      <td>1355.0</td>\n",
       "    </tr>\n",
       "    <tr>\n",
       "      <th>8</th>\n",
       "      <td>Worldwide</td>\n",
       "      <td>DigitalOcean</td>\n",
       "      <td>General Purpose</td>\n",
       "      <td>1CPU 1GB</td>\n",
       "      <td>1</td>\n",
       "      <td>1.0</td>\n",
       "      <td>2428</td>\n",
       "      <td>2311</td>\n",
       "      <td>0.015</td>\n",
       "      <td>1540.0</td>\n",
       "    </tr>\n",
       "    <tr>\n",
       "      <th>9</th>\n",
       "      <td>NaN</td>\n",
       "      <td>DigitalOcean</td>\n",
       "      <td>General Purpose</td>\n",
       "      <td>1CPU 1GB</td>\n",
       "      <td>1</td>\n",
       "      <td>1.0</td>\n",
       "      <td>2428</td>\n",
       "      <td>2311</td>\n",
       "      <td>0.015</td>\n",
       "      <td>1540.0</td>\n",
       "    </tr>\n",
       "    <tr>\n",
       "      <th>10</th>\n",
       "      <td>Worldwide</td>\n",
       "      <td>DigitalOcean</td>\n",
       "      <td>NaN</td>\n",
       "      <td>High Memory 1CPU 8GB</td>\n",
       "      <td>1</td>\n",
       "      <td>7.8</td>\n",
       "      <td>2365</td>\n",
       "      <td>2240</td>\n",
       "      <td>NaN</td>\n",
       "      <td>NaN</td>\n",
       "    </tr>\n",
       "    <tr>\n",
       "      <th>11</th>\n",
       "      <td>NaN</td>\n",
       "      <td>DigitalOcean</td>\n",
       "      <td>NaN</td>\n",
       "      <td>High Memory 1CPU 8GB</td>\n",
       "      <td>1</td>\n",
       "      <td>7.8</td>\n",
       "      <td>2365</td>\n",
       "      <td>2240</td>\n",
       "      <td>NaN</td>\n",
       "      <td>NaN</td>\n",
       "    </tr>\n",
       "    <tr>\n",
       "      <th>12</th>\n",
       "      <td>NaN</td>\n",
       "      <td>DigitalOcean</td>\n",
       "      <td>General Purpose</td>\n",
       "      <td>Standard 1CPU 1GB</td>\n",
       "      <td>1</td>\n",
       "      <td>1.0</td>\n",
       "      <td>3604</td>\n",
       "      <td>3481</td>\n",
       "      <td>0.007</td>\n",
       "      <td>4974.0</td>\n",
       "    </tr>\n",
       "    <tr>\n",
       "      <th>13</th>\n",
       "      <td>Worldwide</td>\n",
       "      <td>DigitalOcean</td>\n",
       "      <td>General Purpose</td>\n",
       "      <td>Standard 1CPU 1GB</td>\n",
       "      <td>1</td>\n",
       "      <td>1.0</td>\n",
       "      <td>2869</td>\n",
       "      <td>2743</td>\n",
       "      <td>0.007</td>\n",
       "      <td>3919.0</td>\n",
       "    </tr>\n",
       "    <tr>\n",
       "      <th>14</th>\n",
       "      <td>NaN</td>\n",
       "      <td>DigitalOcean</td>\n",
       "      <td>General Purpose</td>\n",
       "      <td>Standard 1CPU 2GB</td>\n",
       "      <td>1</td>\n",
       "      <td>2.0</td>\n",
       "      <td>3521</td>\n",
       "      <td>3403</td>\n",
       "      <td>0.015</td>\n",
       "      <td>2268.0</td>\n",
       "    </tr>\n",
       "    <tr>\n",
       "      <th>15</th>\n",
       "      <td>Worldwide</td>\n",
       "      <td>DigitalOcean</td>\n",
       "      <td>General Purpose</td>\n",
       "      <td>Standard 1CPU 2GB</td>\n",
       "      <td>1</td>\n",
       "      <td>2.0</td>\n",
       "      <td>3059</td>\n",
       "      <td>2927</td>\n",
       "      <td>0.015</td>\n",
       "      <td>1951.0</td>\n",
       "    </tr>\n",
       "    <tr>\n",
       "      <th>16</th>\n",
       "      <td>NaN</td>\n",
       "      <td>DigitalOcean</td>\n",
       "      <td>General Purpose</td>\n",
       "      <td>Standard 1CPU 3GB</td>\n",
       "      <td>1</td>\n",
       "      <td>3.0</td>\n",
       "      <td>2609</td>\n",
       "      <td>2528</td>\n",
       "      <td>0.022</td>\n",
       "      <td>1149.0</td>\n",
       "    </tr>\n",
       "    <tr>\n",
       "      <th>17</th>\n",
       "      <td>Worldwide</td>\n",
       "      <td>DigitalOcean</td>\n",
       "      <td>General Purpose</td>\n",
       "      <td>Standard 1CPU 3GB</td>\n",
       "      <td>1</td>\n",
       "      <td>3.0</td>\n",
       "      <td>3040</td>\n",
       "      <td>2913</td>\n",
       "      <td>0.022</td>\n",
       "      <td>1324.0</td>\n",
       "    </tr>\n",
       "    <tr>\n",
       "      <th>18</th>\n",
       "      <td>Worldwide</td>\n",
       "      <td>Exoscale</td>\n",
       "      <td>General Purpose</td>\n",
       "      <td>Tiny</td>\n",
       "      <td>1</td>\n",
       "      <td>1.0</td>\n",
       "      <td>4196</td>\n",
       "      <td>4000</td>\n",
       "      <td>0.013</td>\n",
       "      <td>3453.0</td>\n",
       "    </tr>\n",
       "    <tr>\n",
       "      <th>19</th>\n",
       "      <td>Worldwide</td>\n",
       "      <td>Google Cloud Platform</td>\n",
       "      <td>Tiny</td>\n",
       "      <td>g1-small Intel Skylake</td>\n",
       "      <td>1</td>\n",
       "      <td>1.7</td>\n",
       "      <td>3057</td>\n",
       "      <td>2954</td>\n",
       "      <td>0.027</td>\n",
       "      <td>1094.0</td>\n",
       "    </tr>\n",
       "    <tr>\n",
       "      <th>20</th>\n",
       "      <td>NaN</td>\n",
       "      <td>Google Cloud Platform</td>\n",
       "      <td>Tiny</td>\n",
       "      <td>g1-small Intel Skylake</td>\n",
       "      <td>1</td>\n",
       "      <td>1.7</td>\n",
       "      <td>3124</td>\n",
       "      <td>3001</td>\n",
       "      <td>0.027</td>\n",
       "      <td>1111.0</td>\n",
       "    </tr>\n",
       "    <tr>\n",
       "      <th>21</th>\n",
       "      <td>Worldwide</td>\n",
       "      <td>Google Cloud Platform</td>\n",
       "      <td>General Purpose</td>\n",
       "      <td>n1-standard-1 Intel Broadwell</td>\n",
       "      <td>1</td>\n",
       "      <td>3.8</td>\n",
       "      <td>2977</td>\n",
       "      <td>2914</td>\n",
       "      <td>0.048</td>\n",
       "      <td>607.0</td>\n",
       "    </tr>\n",
       "    <tr>\n",
       "      <th>22</th>\n",
       "      <td>NaN</td>\n",
       "      <td>Google Cloud Platform</td>\n",
       "      <td>General Purpose</td>\n",
       "      <td>n1-standard-1 Intel Broadwell</td>\n",
       "      <td>1</td>\n",
       "      <td>3.8</td>\n",
       "      <td>2977</td>\n",
       "      <td>2914</td>\n",
       "      <td>0.048</td>\n",
       "      <td>607.0</td>\n",
       "    </tr>\n",
       "    <tr>\n",
       "      <th>23</th>\n",
       "      <td>Worldwide</td>\n",
       "      <td>Google Cloud Platform</td>\n",
       "      <td>General Purpose</td>\n",
       "      <td>n1-standard-1 Intel Skylake</td>\n",
       "      <td>1</td>\n",
       "      <td>3.8</td>\n",
       "      <td>2995</td>\n",
       "      <td>2899</td>\n",
       "      <td>0.048</td>\n",
       "      <td>604.0</td>\n",
       "    </tr>\n",
       "    <tr>\n",
       "      <th>24</th>\n",
       "      <td>NaN</td>\n",
       "      <td>Google Cloud Platform</td>\n",
       "      <td>General Purpose</td>\n",
       "      <td>n1-standard-1 Intel Skylake</td>\n",
       "      <td>1</td>\n",
       "      <td>3.8</td>\n",
       "      <td>2949</td>\n",
       "      <td>2862</td>\n",
       "      <td>0.048</td>\n",
       "      <td>596.0</td>\n",
       "    </tr>\n",
       "    <tr>\n",
       "      <th>25</th>\n",
       "      <td>Worldwide</td>\n",
       "      <td>IBM Softlayer</td>\n",
       "      <td>General Purpose</td>\n",
       "      <td>1 Cores 1GB</td>\n",
       "      <td>1</td>\n",
       "      <td>1.0</td>\n",
       "      <td>2852</td>\n",
       "      <td>2785</td>\n",
       "      <td>0.039</td>\n",
       "      <td>714.0</td>\n",
       "    </tr>\n",
       "    <tr>\n",
       "      <th>26</th>\n",
       "      <td>NaN</td>\n",
       "      <td>IBM Softlayer</td>\n",
       "      <td>General Purpose</td>\n",
       "      <td>1 Cores 1GB</td>\n",
       "      <td>1</td>\n",
       "      <td>1.0</td>\n",
       "      <td>2852</td>\n",
       "      <td>2785</td>\n",
       "      <td>0.039</td>\n",
       "      <td>714.0</td>\n",
       "    </tr>\n",
       "    <tr>\n",
       "      <th>27</th>\n",
       "      <td>Worldwide</td>\n",
       "      <td>IBM Softlayer</td>\n",
       "      <td>General Purpose</td>\n",
       "      <td>1 Cores 2 GB</td>\n",
       "      <td>1</td>\n",
       "      <td>2.0</td>\n",
       "      <td>2818</td>\n",
       "      <td>2747</td>\n",
       "      <td>0.043</td>\n",
       "      <td>638.0</td>\n",
       "    </tr>\n",
       "    <tr>\n",
       "      <th>28</th>\n",
       "      <td>NaN</td>\n",
       "      <td>IBM Softlayer</td>\n",
       "      <td>General Purpose</td>\n",
       "      <td>1 Cores 2 GB</td>\n",
       "      <td>1</td>\n",
       "      <td>2.0</td>\n",
       "      <td>2818</td>\n",
       "      <td>2747</td>\n",
       "      <td>0.043</td>\n",
       "      <td>638.0</td>\n",
       "    </tr>\n",
       "    <tr>\n",
       "      <th>29</th>\n",
       "      <td>Worldwide</td>\n",
       "      <td>IBM Softlayer</td>\n",
       "      <td>General Purpose</td>\n",
       "      <td>1 Cores 4 GB</td>\n",
       "      <td>1</td>\n",
       "      <td>4.0</td>\n",
       "      <td>2793</td>\n",
       "      <td>2713</td>\n",
       "      <td>0.034</td>\n",
       "      <td>798.0</td>\n",
       "    </tr>\n",
       "    <tr>\n",
       "      <th>...</th>\n",
       "      <td>...</td>\n",
       "      <td>...</td>\n",
       "      <td>...</td>\n",
       "      <td>...</td>\n",
       "      <td>...</td>\n",
       "      <td>...</td>\n",
       "      <td>...</td>\n",
       "      <td>...</td>\n",
       "      <td>...</td>\n",
       "      <td>...</td>\n",
       "    </tr>\n",
       "    <tr>\n",
       "      <th>56</th>\n",
       "      <td>NaN</td>\n",
       "      <td>Microsoft Azure</td>\n",
       "      <td>General Purpose</td>\n",
       "      <td>Standard_D 1</td>\n",
       "      <td>1</td>\n",
       "      <td>3.5</td>\n",
       "      <td>2113</td>\n",
       "      <td>2036</td>\n",
       "      <td>0.067</td>\n",
       "      <td>304.0</td>\n",
       "    </tr>\n",
       "    <tr>\n",
       "      <th>57</th>\n",
       "      <td>Worldwide</td>\n",
       "      <td>Microsoft Azure</td>\n",
       "      <td>General Purpose</td>\n",
       "      <td>Standard_D 1_v2</td>\n",
       "      <td>1</td>\n",
       "      <td>3.5</td>\n",
       "      <td>3050</td>\n",
       "      <td>2940</td>\n",
       "      <td>0.057</td>\n",
       "      <td>515.0</td>\n",
       "    </tr>\n",
       "    <tr>\n",
       "      <th>58</th>\n",
       "      <td>NaN</td>\n",
       "      <td>Microsoft Azure</td>\n",
       "      <td>General Purpose</td>\n",
       "      <td>Standard_D 1_v2</td>\n",
       "      <td>1</td>\n",
       "      <td>3.5</td>\n",
       "      <td>3222</td>\n",
       "      <td>3107</td>\n",
       "      <td>0.057</td>\n",
       "      <td>545.0</td>\n",
       "    </tr>\n",
       "    <tr>\n",
       "      <th>59</th>\n",
       "      <td>Worldwide</td>\n",
       "      <td>Microsoft Azure</td>\n",
       "      <td>General Purpose</td>\n",
       "      <td>Standard_D S1</td>\n",
       "      <td>1</td>\n",
       "      <td>3.5</td>\n",
       "      <td>2074</td>\n",
       "      <td>2000</td>\n",
       "      <td>NaN</td>\n",
       "      <td>NaN</td>\n",
       "    </tr>\n",
       "    <tr>\n",
       "      <th>60</th>\n",
       "      <td>NaN</td>\n",
       "      <td>Microsoft Azure</td>\n",
       "      <td>General Purpose</td>\n",
       "      <td>Standard_D S1</td>\n",
       "      <td>1</td>\n",
       "      <td>3.5</td>\n",
       "      <td>2074</td>\n",
       "      <td>2000</td>\n",
       "      <td>NaN</td>\n",
       "      <td>NaN</td>\n",
       "    </tr>\n",
       "    <tr>\n",
       "      <th>61</th>\n",
       "      <td>Worldwide</td>\n",
       "      <td>Microsoft Azure</td>\n",
       "      <td>General Purpose</td>\n",
       "      <td>Standard_D S1_v2</td>\n",
       "      <td>1</td>\n",
       "      <td>3.5</td>\n",
       "      <td>3328</td>\n",
       "      <td>3227</td>\n",
       "      <td>0.057</td>\n",
       "      <td>566.0</td>\n",
       "    </tr>\n",
       "    <tr>\n",
       "      <th>62</th>\n",
       "      <td>NaN</td>\n",
       "      <td>Microsoft Azure</td>\n",
       "      <td>General Purpose</td>\n",
       "      <td>Standard_D S1_v2</td>\n",
       "      <td>1</td>\n",
       "      <td>3.5</td>\n",
       "      <td>3328</td>\n",
       "      <td>3227</td>\n",
       "      <td>0.057</td>\n",
       "      <td>566.0</td>\n",
       "    </tr>\n",
       "    <tr>\n",
       "      <th>63</th>\n",
       "      <td>NaN</td>\n",
       "      <td>Microsoft Azure</td>\n",
       "      <td>Compute optimized</td>\n",
       "      <td>Standard_F 1</td>\n",
       "      <td>1</td>\n",
       "      <td>2.0</td>\n",
       "      <td>3173</td>\n",
       "      <td>3043</td>\n",
       "      <td>NaN</td>\n",
       "      <td>NaN</td>\n",
       "    </tr>\n",
       "    <tr>\n",
       "      <th>64</th>\n",
       "      <td>Worldwide</td>\n",
       "      <td>Microsoft Azure</td>\n",
       "      <td>Compute optimized</td>\n",
       "      <td>Standard_F 1</td>\n",
       "      <td>1</td>\n",
       "      <td>2.0</td>\n",
       "      <td>3173</td>\n",
       "      <td>3043</td>\n",
       "      <td>NaN</td>\n",
       "      <td>NaN</td>\n",
       "    </tr>\n",
       "    <tr>\n",
       "      <th>65</th>\n",
       "      <td>NaN</td>\n",
       "      <td>Microsoft Azure</td>\n",
       "      <td>Compute optimized</td>\n",
       "      <td>Standard_F 1s</td>\n",
       "      <td>1</td>\n",
       "      <td>2.0</td>\n",
       "      <td>3476</td>\n",
       "      <td>3252</td>\n",
       "      <td>NaN</td>\n",
       "      <td>NaN</td>\n",
       "    </tr>\n",
       "    <tr>\n",
       "      <th>66</th>\n",
       "      <td>Worldwide</td>\n",
       "      <td>Microsoft Azure</td>\n",
       "      <td>Compute optimized</td>\n",
       "      <td>Standard_F 1s</td>\n",
       "      <td>1</td>\n",
       "      <td>2.0</td>\n",
       "      <td>3476</td>\n",
       "      <td>3252</td>\n",
       "      <td>NaN</td>\n",
       "      <td>NaN</td>\n",
       "    </tr>\n",
       "    <tr>\n",
       "      <th>67</th>\n",
       "      <td>Worldwide</td>\n",
       "      <td>OVH Group</td>\n",
       "      <td>Tiny</td>\n",
       "      <td>S1-2</td>\n",
       "      <td>1</td>\n",
       "      <td>2.0</td>\n",
       "      <td>2965</td>\n",
       "      <td>2818</td>\n",
       "      <td>NaN</td>\n",
       "      <td>NaN</td>\n",
       "    </tr>\n",
       "    <tr>\n",
       "      <th>68</th>\n",
       "      <td>NaN</td>\n",
       "      <td>OVH Group</td>\n",
       "      <td>Tiny</td>\n",
       "      <td>S1-2</td>\n",
       "      <td>1</td>\n",
       "      <td>2.0</td>\n",
       "      <td>3025</td>\n",
       "      <td>2866</td>\n",
       "      <td>NaN</td>\n",
       "      <td>NaN</td>\n",
       "    </tr>\n",
       "    <tr>\n",
       "      <th>69</th>\n",
       "      <td>Worldwide</td>\n",
       "      <td>OVH Group</td>\n",
       "      <td>Tiny</td>\n",
       "      <td>S1-4</td>\n",
       "      <td>1</td>\n",
       "      <td>3.9</td>\n",
       "      <td>2938</td>\n",
       "      <td>2810</td>\n",
       "      <td>NaN</td>\n",
       "      <td>NaN</td>\n",
       "    </tr>\n",
       "    <tr>\n",
       "      <th>70</th>\n",
       "      <td>NaN</td>\n",
       "      <td>OVH Group</td>\n",
       "      <td>Tiny</td>\n",
       "      <td>S1-4</td>\n",
       "      <td>1</td>\n",
       "      <td>3.9</td>\n",
       "      <td>3035</td>\n",
       "      <td>2894</td>\n",
       "      <td>NaN</td>\n",
       "      <td>NaN</td>\n",
       "    </tr>\n",
       "    <tr>\n",
       "      <th>71</th>\n",
       "      <td>Worldwide</td>\n",
       "      <td>T-Systems Open Telekom Cloud</td>\n",
       "      <td>General Purpose</td>\n",
       "      <td>c1.medium</td>\n",
       "      <td>1</td>\n",
       "      <td>1.0</td>\n",
       "      <td>2353</td>\n",
       "      <td>2230</td>\n",
       "      <td>0.014</td>\n",
       "      <td>1807.0</td>\n",
       "    </tr>\n",
       "    <tr>\n",
       "      <th>72</th>\n",
       "      <td>Worldwide</td>\n",
       "      <td>T-Systems Open Telekom Cloud</td>\n",
       "      <td>General Purpose</td>\n",
       "      <td>c2.medium</td>\n",
       "      <td>1</td>\n",
       "      <td>2.0</td>\n",
       "      <td>2276</td>\n",
       "      <td>2213</td>\n",
       "      <td>0.021</td>\n",
       "      <td>1203.0</td>\n",
       "    </tr>\n",
       "    <tr>\n",
       "      <th>73</th>\n",
       "      <td>Worldwide</td>\n",
       "      <td>T-Systems Open Telekom Cloud</td>\n",
       "      <td>General Purpose</td>\n",
       "      <td>s1.medium</td>\n",
       "      <td>1</td>\n",
       "      <td>4.0</td>\n",
       "      <td>2229</td>\n",
       "      <td>2133</td>\n",
       "      <td>0.046</td>\n",
       "      <td>523.0</td>\n",
       "    </tr>\n",
       "    <tr>\n",
       "      <th>74</th>\n",
       "      <td>Worldwide</td>\n",
       "      <td>T-Systems Open Telekom Cloud</td>\n",
       "      <td>General Purpose</td>\n",
       "      <td>s2.medium.1</td>\n",
       "      <td>1</td>\n",
       "      <td>1.0</td>\n",
       "      <td>2972</td>\n",
       "      <td>2818</td>\n",
       "      <td>NaN</td>\n",
       "      <td>NaN</td>\n",
       "    </tr>\n",
       "    <tr>\n",
       "      <th>75</th>\n",
       "      <td>Worldwide</td>\n",
       "      <td>T-Systems Open Telekom Cloud</td>\n",
       "      <td>General Purpose</td>\n",
       "      <td>s2.medium.2</td>\n",
       "      <td>1</td>\n",
       "      <td>2.0</td>\n",
       "      <td>2938</td>\n",
       "      <td>2817</td>\n",
       "      <td>NaN</td>\n",
       "      <td>NaN</td>\n",
       "    </tr>\n",
       "    <tr>\n",
       "      <th>76</th>\n",
       "      <td>Worldwide</td>\n",
       "      <td>T-Systems Open Telekom Cloud</td>\n",
       "      <td>General Purpose</td>\n",
       "      <td>s2.medium.4</td>\n",
       "      <td>1</td>\n",
       "      <td>4.0</td>\n",
       "      <td>2904</td>\n",
       "      <td>2794</td>\n",
       "      <td>NaN</td>\n",
       "      <td>NaN</td>\n",
       "    </tr>\n",
       "    <tr>\n",
       "      <th>77</th>\n",
       "      <td>Worldwide</td>\n",
       "      <td>T-Systems Open Telekom Cloud</td>\n",
       "      <td>General Purpose</td>\n",
       "      <td>s2.medium.8</td>\n",
       "      <td>1</td>\n",
       "      <td>8.0</td>\n",
       "      <td>2890</td>\n",
       "      <td>2781</td>\n",
       "      <td>NaN</td>\n",
       "      <td>NaN</td>\n",
       "    </tr>\n",
       "    <tr>\n",
       "      <th>78</th>\n",
       "      <td>Worldwide</td>\n",
       "      <td>UpCloud</td>\n",
       "      <td>General Purpose</td>\n",
       "      <td>1xCPU-1GB</td>\n",
       "      <td>1</td>\n",
       "      <td>1.0</td>\n",
       "      <td>3386</td>\n",
       "      <td>3268</td>\n",
       "      <td>0.007</td>\n",
       "      <td>4669.0</td>\n",
       "    </tr>\n",
       "    <tr>\n",
       "      <th>79</th>\n",
       "      <td>NaN</td>\n",
       "      <td>UpCloud</td>\n",
       "      <td>General Purpose</td>\n",
       "      <td>1xCPU-1GB</td>\n",
       "      <td>1</td>\n",
       "      <td>1.0</td>\n",
       "      <td>3003</td>\n",
       "      <td>2919</td>\n",
       "      <td>0.007</td>\n",
       "      <td>4171.0</td>\n",
       "    </tr>\n",
       "    <tr>\n",
       "      <th>80</th>\n",
       "      <td>Worldwide</td>\n",
       "      <td>UpCloud</td>\n",
       "      <td>General Purpose</td>\n",
       "      <td>1xCPU-2GB</td>\n",
       "      <td>1</td>\n",
       "      <td>2.0</td>\n",
       "      <td>3445</td>\n",
       "      <td>3315</td>\n",
       "      <td>0.015</td>\n",
       "      <td>2210.0</td>\n",
       "    </tr>\n",
       "    <tr>\n",
       "      <th>81</th>\n",
       "      <td>NaN</td>\n",
       "      <td>UpCloud</td>\n",
       "      <td>General Purpose</td>\n",
       "      <td>1xCPU-2GB</td>\n",
       "      <td>1</td>\n",
       "      <td>2.0</td>\n",
       "      <td>3024</td>\n",
       "      <td>2908</td>\n",
       "      <td>0.015</td>\n",
       "      <td>1938.0</td>\n",
       "    </tr>\n",
       "    <tr>\n",
       "      <th>82</th>\n",
       "      <td>NaN</td>\n",
       "      <td>Vultr</td>\n",
       "      <td>General Purpose</td>\n",
       "      <td>1CPU 1024MB SSD</td>\n",
       "      <td>1</td>\n",
       "      <td>1.0</td>\n",
       "      <td>2932</td>\n",
       "      <td>2820</td>\n",
       "      <td>0.007</td>\n",
       "      <td>4029.0</td>\n",
       "    </tr>\n",
       "    <tr>\n",
       "      <th>83</th>\n",
       "      <td>Worldwide</td>\n",
       "      <td>Vultr</td>\n",
       "      <td>General Purpose</td>\n",
       "      <td>1CPU 1024MB SSD</td>\n",
       "      <td>1</td>\n",
       "      <td>1.0</td>\n",
       "      <td>3154</td>\n",
       "      <td>3027</td>\n",
       "      <td>0.007</td>\n",
       "      <td>4325.0</td>\n",
       "    </tr>\n",
       "    <tr>\n",
       "      <th>84</th>\n",
       "      <td>NaN</td>\n",
       "      <td>Vultr</td>\n",
       "      <td>General Purpose</td>\n",
       "      <td>1CPU 2048MB SSD</td>\n",
       "      <td>1</td>\n",
       "      <td>2.0</td>\n",
       "      <td>3749</td>\n",
       "      <td>3665</td>\n",
       "      <td>0.015</td>\n",
       "      <td>2443.0</td>\n",
       "    </tr>\n",
       "    <tr>\n",
       "      <th>85</th>\n",
       "      <td>Worldwide</td>\n",
       "      <td>Vultr</td>\n",
       "      <td>General Purpose</td>\n",
       "      <td>1CPU 2048MB SSD</td>\n",
       "      <td>1</td>\n",
       "      <td>2.0</td>\n",
       "      <td>3628</td>\n",
       "      <td>3532</td>\n",
       "      <td>0.015</td>\n",
       "      <td>2355.0</td>\n",
       "    </tr>\n",
       "  </tbody>\n",
       "</table>\n",
       "<p>86 rows × 10 columns</p>\n",
       "</div>"
      ],
      "text/plain": [
       "     Location                      Provider               Category  \\\n",
       "0   Worldwide                           1&1        General Purpose   \n",
       "1         NaN                           1&1        General Purpose   \n",
       "2   Worldwide                           1&1        General Purpose   \n",
       "3         NaN                           1&1        General Purpose   \n",
       "4   Worldwide           Amazon Web Services  Burstable Performance   \n",
       "5         NaN           Amazon Web Services  Burstable Performance   \n",
       "6   Worldwide           Amazon Web Services  Burstable Performance   \n",
       "7         NaN           Amazon Web Services  Burstable Performance   \n",
       "8   Worldwide                  DigitalOcean        General Purpose   \n",
       "9         NaN                  DigitalOcean        General Purpose   \n",
       "10  Worldwide                  DigitalOcean                    NaN   \n",
       "11        NaN                  DigitalOcean                    NaN   \n",
       "12        NaN                  DigitalOcean        General Purpose   \n",
       "13  Worldwide                  DigitalOcean        General Purpose   \n",
       "14        NaN                  DigitalOcean        General Purpose   \n",
       "15  Worldwide                  DigitalOcean        General Purpose   \n",
       "16        NaN                  DigitalOcean        General Purpose   \n",
       "17  Worldwide                  DigitalOcean        General Purpose   \n",
       "18  Worldwide                      Exoscale        General Purpose   \n",
       "19  Worldwide         Google Cloud Platform                   Tiny   \n",
       "20        NaN         Google Cloud Platform                   Tiny   \n",
       "21  Worldwide         Google Cloud Platform        General Purpose   \n",
       "22        NaN         Google Cloud Platform        General Purpose   \n",
       "23  Worldwide         Google Cloud Platform        General Purpose   \n",
       "24        NaN         Google Cloud Platform        General Purpose   \n",
       "25  Worldwide                 IBM Softlayer        General Purpose   \n",
       "26        NaN                 IBM Softlayer        General Purpose   \n",
       "27  Worldwide                 IBM Softlayer        General Purpose   \n",
       "28        NaN                 IBM Softlayer        General Purpose   \n",
       "29  Worldwide                 IBM Softlayer        General Purpose   \n",
       "..        ...                           ...                    ...   \n",
       "56        NaN               Microsoft Azure        General Purpose   \n",
       "57  Worldwide               Microsoft Azure        General Purpose   \n",
       "58        NaN               Microsoft Azure        General Purpose   \n",
       "59  Worldwide               Microsoft Azure        General Purpose   \n",
       "60        NaN               Microsoft Azure        General Purpose   \n",
       "61  Worldwide               Microsoft Azure        General Purpose   \n",
       "62        NaN               Microsoft Azure        General Purpose   \n",
       "63        NaN               Microsoft Azure      Compute optimized   \n",
       "64  Worldwide               Microsoft Azure      Compute optimized   \n",
       "65        NaN               Microsoft Azure      Compute optimized   \n",
       "66  Worldwide               Microsoft Azure      Compute optimized   \n",
       "67  Worldwide                     OVH Group                   Tiny   \n",
       "68        NaN                     OVH Group                   Tiny   \n",
       "69  Worldwide                     OVH Group                   Tiny   \n",
       "70        NaN                     OVH Group                   Tiny   \n",
       "71  Worldwide  T-Systems Open Telekom Cloud        General Purpose   \n",
       "72  Worldwide  T-Systems Open Telekom Cloud        General Purpose   \n",
       "73  Worldwide  T-Systems Open Telekom Cloud        General Purpose   \n",
       "74  Worldwide  T-Systems Open Telekom Cloud        General Purpose   \n",
       "75  Worldwide  T-Systems Open Telekom Cloud        General Purpose   \n",
       "76  Worldwide  T-Systems Open Telekom Cloud        General Purpose   \n",
       "77  Worldwide  T-Systems Open Telekom Cloud        General Purpose   \n",
       "78  Worldwide                       UpCloud        General Purpose   \n",
       "79        NaN                       UpCloud        General Purpose   \n",
       "80  Worldwide                       UpCloud        General Purpose   \n",
       "81        NaN                       UpCloud        General Purpose   \n",
       "82        NaN                         Vultr        General Purpose   \n",
       "83  Worldwide                         Vultr        General Purpose   \n",
       "84        NaN                         Vultr        General Purpose   \n",
       "85  Worldwide                         Vultr        General Purpose   \n",
       "\n",
       "                               VM  CPU  RAM (GB)  Single Score  Multi Score  \\\n",
       "0                               M    1       1.0          2298         2963   \n",
       "1                               M    1       1.0          2998         2863   \n",
       "2                               S    1       0.5          2919         2794   \n",
       "3                               S    1       0.5          2919         2794   \n",
       "4                        t2.micro    1       1.0          3259         3106   \n",
       "5                        t2.micro    1       1.0          3259         3106   \n",
       "6                        t2.small    1       2.0          3264         3117   \n",
       "7                        t2.small    1       2.0          3264         3117   \n",
       "8                        1CPU 1GB    1       1.0          2428         2311   \n",
       "9                        1CPU 1GB    1       1.0          2428         2311   \n",
       "10           High Memory 1CPU 8GB    1       7.8          2365         2240   \n",
       "11           High Memory 1CPU 8GB    1       7.8          2365         2240   \n",
       "12              Standard 1CPU 1GB    1       1.0          3604         3481   \n",
       "13              Standard 1CPU 1GB    1       1.0          2869         2743   \n",
       "14              Standard 1CPU 2GB    1       2.0          3521         3403   \n",
       "15              Standard 1CPU 2GB    1       2.0          3059         2927   \n",
       "16              Standard 1CPU 3GB    1       3.0          2609         2528   \n",
       "17              Standard 1CPU 3GB    1       3.0          3040         2913   \n",
       "18                           Tiny    1       1.0          4196         4000   \n",
       "19         g1-small Intel Skylake    1       1.7          3057         2954   \n",
       "20         g1-small Intel Skylake    1       1.7          3124         3001   \n",
       "21  n1-standard-1 Intel Broadwell    1       3.8          2977         2914   \n",
       "22  n1-standard-1 Intel Broadwell    1       3.8          2977         2914   \n",
       "23    n1-standard-1 Intel Skylake    1       3.8          2995         2899   \n",
       "24    n1-standard-1 Intel Skylake    1       3.8          2949         2862   \n",
       "25                    1 Cores 1GB    1       1.0          2852         2785   \n",
       "26                    1 Cores 1GB    1       1.0          2852         2785   \n",
       "27                   1 Cores 2 GB    1       2.0          2818         2747   \n",
       "28                   1 Cores 2 GB    1       2.0          2818         2747   \n",
       "29                   1 Cores 4 GB    1       4.0          2793         2713   \n",
       "..                            ...  ...       ...           ...          ...   \n",
       "56                   Standard_D 1    1       3.5          2113         2036   \n",
       "57                Standard_D 1_v2    1       3.5          3050         2940   \n",
       "58                Standard_D 1_v2    1       3.5          3222         3107   \n",
       "59                  Standard_D S1    1       3.5          2074         2000   \n",
       "60                  Standard_D S1    1       3.5          2074         2000   \n",
       "61               Standard_D S1_v2    1       3.5          3328         3227   \n",
       "62               Standard_D S1_v2    1       3.5          3328         3227   \n",
       "63                   Standard_F 1    1       2.0          3173         3043   \n",
       "64                   Standard_F 1    1       2.0          3173         3043   \n",
       "65                  Standard_F 1s    1       2.0          3476         3252   \n",
       "66                  Standard_F 1s    1       2.0          3476         3252   \n",
       "67                           S1-2    1       2.0          2965         2818   \n",
       "68                           S1-2    1       2.0          3025         2866   \n",
       "69                           S1-4    1       3.9          2938         2810   \n",
       "70                           S1-4    1       3.9          3035         2894   \n",
       "71                      c1.medium    1       1.0          2353         2230   \n",
       "72                      c2.medium    1       2.0          2276         2213   \n",
       "73                      s1.medium    1       4.0          2229         2133   \n",
       "74                    s2.medium.1    1       1.0          2972         2818   \n",
       "75                    s2.medium.2    1       2.0          2938         2817   \n",
       "76                    s2.medium.4    1       4.0          2904         2794   \n",
       "77                    s2.medium.8    1       8.0          2890         2781   \n",
       "78                      1xCPU-1GB    1       1.0          3386         3268   \n",
       "79                      1xCPU-1GB    1       1.0          3003         2919   \n",
       "80                      1xCPU-2GB    1       2.0          3445         3315   \n",
       "81                      1xCPU-2GB    1       2.0          3024         2908   \n",
       "82                1CPU 1024MB SSD    1       1.0          2932         2820   \n",
       "83                1CPU 1024MB SSD    1       1.0          3154         3027   \n",
       "84                1CPU 2048MB SSD    1       2.0          3749         3665   \n",
       "85                1CPU 2048MB SSD    1       2.0          3628         3532   \n",
       "\n",
       "    Price  Price Score  \n",
       "0   0.013       2202.0  \n",
       "1   0.013       2202.0  \n",
       "2   0.007       3978.0  \n",
       "3   0.007       3978.0  \n",
       "4   0.012       2588.0  \n",
       "5   0.012       2588.0  \n",
       "6   0.023       1355.0  \n",
       "7   0.023       1355.0  \n",
       "8   0.015       1540.0  \n",
       "9   0.015       1540.0  \n",
       "10    NaN          NaN  \n",
       "11    NaN          NaN  \n",
       "12  0.007       4974.0  \n",
       "13  0.007       3919.0  \n",
       "14  0.015       2268.0  \n",
       "15  0.015       1951.0  \n",
       "16  0.022       1149.0  \n",
       "17  0.022       1324.0  \n",
       "18  0.013       3453.0  \n",
       "19  0.027       1094.0  \n",
       "20  0.027       1111.0  \n",
       "21  0.048        607.0  \n",
       "22  0.048        607.0  \n",
       "23  0.048        604.0  \n",
       "24  0.048        596.0  \n",
       "25  0.039        714.0  \n",
       "26  0.039        714.0  \n",
       "27  0.043        638.0  \n",
       "28  0.043        638.0  \n",
       "29  0.034        798.0  \n",
       "..    ...          ...  \n",
       "56  0.067        304.0  \n",
       "57  0.057        515.0  \n",
       "58  0.057        545.0  \n",
       "59    NaN          NaN  \n",
       "60    NaN          NaN  \n",
       "61  0.057        566.0  \n",
       "62  0.057        566.0  \n",
       "63    NaN          NaN  \n",
       "64    NaN          NaN  \n",
       "65    NaN          NaN  \n",
       "66    NaN          NaN  \n",
       "67    NaN          NaN  \n",
       "68    NaN          NaN  \n",
       "69    NaN          NaN  \n",
       "70    NaN          NaN  \n",
       "71  0.014       1807.0  \n",
       "72  0.021       1203.0  \n",
       "73  0.046        523.0  \n",
       "74    NaN          NaN  \n",
       "75    NaN          NaN  \n",
       "76    NaN          NaN  \n",
       "77    NaN          NaN  \n",
       "78  0.007       4669.0  \n",
       "79  0.007       4171.0  \n",
       "80  0.015       2210.0  \n",
       "81  0.015       1938.0  \n",
       "82  0.007       4029.0  \n",
       "83  0.007       4325.0  \n",
       "84  0.015       2443.0  \n",
       "85  0.015       2355.0  \n",
       "\n",
       "[86 rows x 10 columns]"
      ]
     },
     "execution_count": 3,
     "metadata": {},
     "output_type": "execute_result"
    }
   ],
   "source": [
    "data = pd.read_csv(\"Compute Score.csv\") \n",
    "data"
   ]
  },
  {
   "cell_type": "code",
   "execution_count": 4,
   "metadata": {},
   "outputs": [
    {
     "data": {
      "text/html": [
       "<div>\n",
       "<style scoped>\n",
       "    .dataframe tbody tr th:only-of-type {\n",
       "        vertical-align: middle;\n",
       "    }\n",
       "\n",
       "    .dataframe tbody tr th {\n",
       "        vertical-align: top;\n",
       "    }\n",
       "\n",
       "    .dataframe thead th {\n",
       "        text-align: right;\n",
       "    }\n",
       "</style>\n",
       "<table border=\"1\" class=\"dataframe\">\n",
       "  <thead>\n",
       "    <tr style=\"text-align: right;\">\n",
       "      <th></th>\n",
       "      <th>CPU</th>\n",
       "      <th>RAM (GB)</th>\n",
       "      <th>Single Score</th>\n",
       "      <th>Multi Score</th>\n",
       "      <th>Price</th>\n",
       "      <th>Price Score</th>\n",
       "    </tr>\n",
       "  </thead>\n",
       "  <tbody>\n",
       "    <tr>\n",
       "      <th>count</th>\n",
       "      <td>86.0</td>\n",
       "      <td>86.000000</td>\n",
       "      <td>86.000000</td>\n",
       "      <td>86.000000</td>\n",
       "      <td>59.000000</td>\n",
       "      <td>59.000000</td>\n",
       "    </tr>\n",
       "    <tr>\n",
       "      <th>mean</th>\n",
       "      <td>1.0</td>\n",
       "      <td>2.888372</td>\n",
       "      <td>2822.581395</td>\n",
       "      <td>2828.546512</td>\n",
       "      <td>0.032454</td>\n",
       "      <td>1672.559322</td>\n",
       "    </tr>\n",
       "    <tr>\n",
       "      <th>std</th>\n",
       "      <td>0.0</td>\n",
       "      <td>3.597366</td>\n",
       "      <td>618.968544</td>\n",
       "      <td>965.285275</td>\n",
       "      <td>0.023930</td>\n",
       "      <td>1337.119914</td>\n",
       "    </tr>\n",
       "    <tr>\n",
       "      <th>min</th>\n",
       "      <td>1.0</td>\n",
       "      <td>0.500000</td>\n",
       "      <td>878.000000</td>\n",
       "      <td>849.000000</td>\n",
       "      <td>0.007000</td>\n",
       "      <td>236.000000</td>\n",
       "    </tr>\n",
       "    <tr>\n",
       "      <th>25%</th>\n",
       "      <td>1.0</td>\n",
       "      <td>1.000000</td>\n",
       "      <td>2506.250000</td>\n",
       "      <td>2673.500000</td>\n",
       "      <td>0.013500</td>\n",
       "      <td>600.000000</td>\n",
       "    </tr>\n",
       "    <tr>\n",
       "      <th>50%</th>\n",
       "      <td>1.0</td>\n",
       "      <td>2.000000</td>\n",
       "      <td>2974.500000</td>\n",
       "      <td>2862.500000</td>\n",
       "      <td>0.023000</td>\n",
       "      <td>1203.000000</td>\n",
       "    </tr>\n",
       "    <tr>\n",
       "      <th>75%</th>\n",
       "      <td>1.0</td>\n",
       "      <td>3.500000</td>\n",
       "      <td>3146.500000</td>\n",
       "      <td>3020.500000</td>\n",
       "      <td>0.048000</td>\n",
       "      <td>2311.500000</td>\n",
       "    </tr>\n",
       "    <tr>\n",
       "      <th>max</th>\n",
       "      <td>1.0</td>\n",
       "      <td>24.000000</td>\n",
       "      <td>4196.000000</td>\n",
       "      <td>8211.000000</td>\n",
       "      <td>0.090000</td>\n",
       "      <td>4974.000000</td>\n",
       "    </tr>\n",
       "  </tbody>\n",
       "</table>\n",
       "</div>"
      ],
      "text/plain": [
       "        CPU   RAM (GB)  Single Score  Multi Score      Price  Price Score\n",
       "count  86.0  86.000000     86.000000    86.000000  59.000000    59.000000\n",
       "mean    1.0   2.888372   2822.581395  2828.546512   0.032454  1672.559322\n",
       "std     0.0   3.597366    618.968544   965.285275   0.023930  1337.119914\n",
       "min     1.0   0.500000    878.000000   849.000000   0.007000   236.000000\n",
       "25%     1.0   1.000000   2506.250000  2673.500000   0.013500   600.000000\n",
       "50%     1.0   2.000000   2974.500000  2862.500000   0.023000  1203.000000\n",
       "75%     1.0   3.500000   3146.500000  3020.500000   0.048000  2311.500000\n",
       "max     1.0  24.000000   4196.000000  8211.000000   0.090000  4974.000000"
      ]
     },
     "execution_count": 4,
     "metadata": {},
     "output_type": "execute_result"
    }
   ],
   "source": [
    "data.describe()"
   ]
  },
  {
   "cell_type": "code",
   "execution_count": 5,
   "metadata": {},
   "outputs": [
    {
     "data": {
      "text/html": [
       "<div>\n",
       "<style scoped>\n",
       "    .dataframe tbody tr th:only-of-type {\n",
       "        vertical-align: middle;\n",
       "    }\n",
       "\n",
       "    .dataframe tbody tr th {\n",
       "        vertical-align: top;\n",
       "    }\n",
       "\n",
       "    .dataframe thead th {\n",
       "        text-align: right;\n",
       "    }\n",
       "</style>\n",
       "<table border=\"1\" class=\"dataframe\">\n",
       "  <thead>\n",
       "    <tr style=\"text-align: right;\">\n",
       "      <th></th>\n",
       "      <th>Location</th>\n",
       "      <th>Provider</th>\n",
       "      <th>VM</th>\n",
       "      <th>Size</th>\n",
       "      <th>Volume Type</th>\n",
       "      <th>Read IOPS</th>\n",
       "      <th>Write IOPS</th>\n",
       "      <th>Read Bandwidth</th>\n",
       "      <th>Write Bandwidth</th>\n",
       "    </tr>\n",
       "  </thead>\n",
       "  <tbody>\n",
       "    <tr>\n",
       "      <th>0</th>\n",
       "      <td>Worldwide</td>\n",
       "      <td>1&amp;1</td>\n",
       "      <td>M</td>\n",
       "      <td>50</td>\n",
       "      <td>SSD</td>\n",
       "      <td>175077</td>\n",
       "      <td>26983</td>\n",
       "      <td>613</td>\n",
       "      <td>264</td>\n",
       "    </tr>\n",
       "    <tr>\n",
       "      <th>1</th>\n",
       "      <td>Worldwide</td>\n",
       "      <td>1&amp;1</td>\n",
       "      <td>S</td>\n",
       "      <td>50</td>\n",
       "      <td>SSD</td>\n",
       "      <td>180611</td>\n",
       "      <td>33262</td>\n",
       "      <td>614</td>\n",
       "      <td>501</td>\n",
       "    </tr>\n",
       "    <tr>\n",
       "      <th>2</th>\n",
       "      <td>Worldwide</td>\n",
       "      <td>Google Cloud Platform</td>\n",
       "      <td>n1-standard-1 Intel Broadwell</td>\n",
       "      <td>30</td>\n",
       "      <td>SSD Persistent Disk</td>\n",
       "      <td>2611</td>\n",
       "      <td>1697</td>\n",
       "      <td>41</td>\n",
       "      <td>41</td>\n",
       "    </tr>\n",
       "    <tr>\n",
       "      <th>3</th>\n",
       "      <td>Worldwide</td>\n",
       "      <td>Google Cloud Platform</td>\n",
       "      <td>n1-standard-1 Intel Broadwell</td>\n",
       "      <td>50</td>\n",
       "      <td>SSD Persistent Disk</td>\n",
       "      <td>2611</td>\n",
       "      <td>2489</td>\n",
       "      <td>41</td>\n",
       "      <td>42</td>\n",
       "    </tr>\n",
       "    <tr>\n",
       "      <th>4</th>\n",
       "      <td>Worldwide</td>\n",
       "      <td>Microsoft Azure</td>\n",
       "      <td>Basic_A0</td>\n",
       "      <td>50</td>\n",
       "      <td>No cache Standard LRS</td>\n",
       "      <td>501</td>\n",
       "      <td>503</td>\n",
       "      <td>60</td>\n",
       "      <td>59</td>\n",
       "    </tr>\n",
       "    <tr>\n",
       "      <th>5</th>\n",
       "      <td>Worldwide</td>\n",
       "      <td>Microsoft Azure</td>\n",
       "      <td>Basic_A1</td>\n",
       "      <td>50</td>\n",
       "      <td>No cache Standard LRS</td>\n",
       "      <td>504</td>\n",
       "      <td>501</td>\n",
       "      <td>59</td>\n",
       "      <td>59</td>\n",
       "    </tr>\n",
       "    <tr>\n",
       "      <th>6</th>\n",
       "      <td>Worldwide</td>\n",
       "      <td>Microsoft Azure</td>\n",
       "      <td>Standard_A0</td>\n",
       "      <td>30</td>\n",
       "      <td>No cache Standard LRS</td>\n",
       "      <td>679</td>\n",
       "      <td>113</td>\n",
       "      <td>123</td>\n",
       "      <td>41</td>\n",
       "    </tr>\n",
       "    <tr>\n",
       "      <th>7</th>\n",
       "      <td>Worldwide</td>\n",
       "      <td>Microsoft Azure</td>\n",
       "      <td>Standard_A0</td>\n",
       "      <td>50</td>\n",
       "      <td>No cache Standard LRS</td>\n",
       "      <td>503</td>\n",
       "      <td>500</td>\n",
       "      <td>60</td>\n",
       "      <td>59</td>\n",
       "    </tr>\n",
       "    <tr>\n",
       "      <th>8</th>\n",
       "      <td>Worldwide</td>\n",
       "      <td>Microsoft Azure</td>\n",
       "      <td>Standard_A1</td>\n",
       "      <td>50</td>\n",
       "      <td>No cache Standard LRS</td>\n",
       "      <td>503</td>\n",
       "      <td>500</td>\n",
       "      <td>59</td>\n",
       "      <td>59</td>\n",
       "    </tr>\n",
       "    <tr>\n",
       "      <th>9</th>\n",
       "      <td>Worldwide</td>\n",
       "      <td>Microsoft Azure</td>\n",
       "      <td>Standard_A1</td>\n",
       "      <td>30</td>\n",
       "      <td>No cache Standard LRS</td>\n",
       "      <td>688</td>\n",
       "      <td>109</td>\n",
       "      <td>198</td>\n",
       "      <td>42</td>\n",
       "    </tr>\n",
       "    <tr>\n",
       "      <th>10</th>\n",
       "      <td>Worldwide</td>\n",
       "      <td>Microsoft Azure</td>\n",
       "      <td>Standard_D 1</td>\n",
       "      <td>50</td>\n",
       "      <td>No cache Standard LRS</td>\n",
       "      <td>505</td>\n",
       "      <td>504</td>\n",
       "      <td>60</td>\n",
       "      <td>59</td>\n",
       "    </tr>\n",
       "    <tr>\n",
       "      <th>11</th>\n",
       "      <td>Worldwide</td>\n",
       "      <td>Microsoft Azure</td>\n",
       "      <td>Standard_D 1_v2</td>\n",
       "      <td>50</td>\n",
       "      <td>No cache Standard LRS</td>\n",
       "      <td>504</td>\n",
       "      <td>501</td>\n",
       "      <td>60</td>\n",
       "      <td>59</td>\n",
       "    </tr>\n",
       "    <tr>\n",
       "      <th>12</th>\n",
       "      <td>Worldwide</td>\n",
       "      <td>Microsoft Azure</td>\n",
       "      <td>Standard_D 1_v2</td>\n",
       "      <td>30</td>\n",
       "      <td>No cache Standard LRS</td>\n",
       "      <td>674</td>\n",
       "      <td>114</td>\n",
       "      <td>196</td>\n",
       "      <td>21</td>\n",
       "    </tr>\n",
       "    <tr>\n",
       "      <th>13</th>\n",
       "      <td>Worldwide</td>\n",
       "      <td>Microsoft Azure</td>\n",
       "      <td>Standard_D S1</td>\n",
       "      <td>30</td>\n",
       "      <td>No cache Standard LRS</td>\n",
       "      <td>1985</td>\n",
       "      <td>228</td>\n",
       "      <td>32</td>\n",
       "      <td>31</td>\n",
       "    </tr>\n",
       "    <tr>\n",
       "      <th>14</th>\n",
       "      <td>Worldwide</td>\n",
       "      <td>Microsoft Azure</td>\n",
       "      <td>Standard_D S1</td>\n",
       "      <td>50</td>\n",
       "      <td>No cache Standard LRS</td>\n",
       "      <td>510</td>\n",
       "      <td>509</td>\n",
       "      <td>31</td>\n",
       "      <td>31</td>\n",
       "    </tr>\n",
       "    <tr>\n",
       "      <th>15</th>\n",
       "      <td>NaN</td>\n",
       "      <td>Microsoft Azure</td>\n",
       "      <td>Standard_D S1_v2</td>\n",
       "      <td>30</td>\n",
       "      <td>No cache Standard LRS</td>\n",
       "      <td>2021</td>\n",
       "      <td>245</td>\n",
       "      <td>33</td>\n",
       "      <td>32</td>\n",
       "    </tr>\n",
       "    <tr>\n",
       "      <th>16</th>\n",
       "      <td>NaN</td>\n",
       "      <td>Microsoft Azure</td>\n",
       "      <td>Standard_D S1_v2</td>\n",
       "      <td>50</td>\n",
       "      <td>No cache Standard LRS</td>\n",
       "      <td>510</td>\n",
       "      <td>509</td>\n",
       "      <td>47</td>\n",
       "      <td>46</td>\n",
       "    </tr>\n",
       "    <tr>\n",
       "      <th>17</th>\n",
       "      <td>NaN</td>\n",
       "      <td>Microsoft Azure</td>\n",
       "      <td>Standard_F 1</td>\n",
       "      <td>50</td>\n",
       "      <td>No cache Standard LRS</td>\n",
       "      <td>504</td>\n",
       "      <td>504</td>\n",
       "      <td>60</td>\n",
       "      <td>60</td>\n",
       "    </tr>\n",
       "    <tr>\n",
       "      <th>18</th>\n",
       "      <td>NaN</td>\n",
       "      <td>Microsoft Azure</td>\n",
       "      <td>Standard_F 1s</td>\n",
       "      <td>30</td>\n",
       "      <td>No cache Premium LRS</td>\n",
       "      <td>2026</td>\n",
       "      <td>340</td>\n",
       "      <td>33</td>\n",
       "      <td>24</td>\n",
       "    </tr>\n",
       "    <tr>\n",
       "      <th>19</th>\n",
       "      <td>NaN</td>\n",
       "      <td>Microsoft Azure</td>\n",
       "      <td>Standard_F 1s</td>\n",
       "      <td>50</td>\n",
       "      <td>No cache Premium LRS</td>\n",
       "      <td>243</td>\n",
       "      <td>242</td>\n",
       "      <td>32</td>\n",
       "      <td>32</td>\n",
       "    </tr>\n",
       "    <tr>\n",
       "      <th>20</th>\n",
       "      <td>Worldwide</td>\n",
       "      <td>OVH Group</td>\n",
       "      <td>S1-2</td>\n",
       "      <td>50</td>\n",
       "      <td>High Speed</td>\n",
       "      <td>3054</td>\n",
       "      <td>3035</td>\n",
       "      <td>719</td>\n",
       "      <td>441</td>\n",
       "    </tr>\n",
       "    <tr>\n",
       "      <th>21</th>\n",
       "      <td>Worldwide</td>\n",
       "      <td>OVH Group</td>\n",
       "      <td>s1-4</td>\n",
       "      <td>50</td>\n",
       "      <td>High Speed</td>\n",
       "      <td>3054</td>\n",
       "      <td>3036</td>\n",
       "      <td>655</td>\n",
       "      <td>432</td>\n",
       "    </tr>\n",
       "  </tbody>\n",
       "</table>\n",
       "</div>"
      ],
      "text/plain": [
       "     Location               Provider                             VM  Size  \\\n",
       "0   Worldwide                    1&1                              M    50   \n",
       "1   Worldwide                    1&1                              S    50   \n",
       "2   Worldwide  Google Cloud Platform  n1-standard-1 Intel Broadwell    30   \n",
       "3   Worldwide  Google Cloud Platform  n1-standard-1 Intel Broadwell    50   \n",
       "4   Worldwide        Microsoft Azure                      Basic_A0     50   \n",
       "5   Worldwide        Microsoft Azure                       Basic_A1    50   \n",
       "6   Worldwide        Microsoft Azure                    Standard_A0    30   \n",
       "7   Worldwide        Microsoft Azure                    Standard_A0    50   \n",
       "8   Worldwide        Microsoft Azure                    Standard_A1    50   \n",
       "9   Worldwide        Microsoft Azure                    Standard_A1    30   \n",
       "10  Worldwide        Microsoft Azure                   Standard_D 1    50   \n",
       "11  Worldwide        Microsoft Azure                Standard_D 1_v2    50   \n",
       "12  Worldwide        Microsoft Azure                Standard_D 1_v2    30   \n",
       "13  Worldwide        Microsoft Azure                  Standard_D S1    30   \n",
       "14  Worldwide        Microsoft Azure                  Standard_D S1    50   \n",
       "15        NaN        Microsoft Azure               Standard_D S1_v2    30   \n",
       "16        NaN        Microsoft Azure               Standard_D S1_v2    50   \n",
       "17        NaN        Microsoft Azure                   Standard_F 1    50   \n",
       "18        NaN        Microsoft Azure                  Standard_F 1s    30   \n",
       "19        NaN        Microsoft Azure                  Standard_F 1s    50   \n",
       "20  Worldwide              OVH Group                           S1-2    50   \n",
       "21  Worldwide              OVH Group                           s1-4    50   \n",
       "\n",
       "              Volume Type  Read IOPS  Write IOPS  Read Bandwidth  \\\n",
       "0                     SSD     175077       26983             613   \n",
       "1                     SSD     180611       33262             614   \n",
       "2     SSD Persistent Disk       2611        1697              41   \n",
       "3     SSD Persistent Disk       2611        2489              41   \n",
       "4   No cache Standard LRS        501         503              60   \n",
       "5   No cache Standard LRS        504         501              59   \n",
       "6   No cache Standard LRS        679         113             123   \n",
       "7   No cache Standard LRS        503         500              60   \n",
       "8   No cache Standard LRS        503         500              59   \n",
       "9   No cache Standard LRS        688         109             198   \n",
       "10  No cache Standard LRS        505         504              60   \n",
       "11  No cache Standard LRS        504         501              60   \n",
       "12  No cache Standard LRS        674         114             196   \n",
       "13  No cache Standard LRS       1985         228              32   \n",
       "14  No cache Standard LRS        510         509              31   \n",
       "15  No cache Standard LRS       2021         245              33   \n",
       "16  No cache Standard LRS        510         509              47   \n",
       "17  No cache Standard LRS        504         504              60   \n",
       "18   No cache Premium LRS       2026         340              33   \n",
       "19   No cache Premium LRS        243         242              32   \n",
       "20             High Speed       3054        3035             719   \n",
       "21             High Speed       3054        3036             655   \n",
       "\n",
       "    Write Bandwidth  \n",
       "0               264  \n",
       "1               501  \n",
       "2                41  \n",
       "3                42  \n",
       "4                59  \n",
       "5                59  \n",
       "6                41  \n",
       "7                59  \n",
       "8                59  \n",
       "9                42  \n",
       "10               59  \n",
       "11               59  \n",
       "12               21  \n",
       "13               31  \n",
       "14               31  \n",
       "15               32  \n",
       "16               46  \n",
       "17               60  \n",
       "18               24  \n",
       "19               32  \n",
       "20              441  \n",
       "21              432  "
      ]
     },
     "execution_count": 5,
     "metadata": {},
     "output_type": "execute_result"
    }
   ],
   "source": [
    "storage = pd.read_csv(\"Storage Performance.csv\")\n",
    "storage"
   ]
  },
  {
   "cell_type": "code",
   "execution_count": 6,
   "metadata": {},
   "outputs": [
    {
     "data": {
      "text/html": [
       "<div>\n",
       "<style scoped>\n",
       "    .dataframe tbody tr th:only-of-type {\n",
       "        vertical-align: middle;\n",
       "    }\n",
       "\n",
       "    .dataframe tbody tr th {\n",
       "        vertical-align: top;\n",
       "    }\n",
       "\n",
       "    .dataframe thead th {\n",
       "        text-align: right;\n",
       "    }\n",
       "</style>\n",
       "<table border=\"1\" class=\"dataframe\">\n",
       "  <thead>\n",
       "    <tr style=\"text-align: right;\">\n",
       "      <th></th>\n",
       "      <th>Size</th>\n",
       "      <th>Read IOPS</th>\n",
       "      <th>Write IOPS</th>\n",
       "      <th>Read Bandwidth</th>\n",
       "      <th>Write Bandwidth</th>\n",
       "    </tr>\n",
       "  </thead>\n",
       "  <tbody>\n",
       "    <tr>\n",
       "      <th>count</th>\n",
       "      <td>22.000000</td>\n",
       "      <td>22.000000</td>\n",
       "      <td>22.000000</td>\n",
       "      <td>22.000000</td>\n",
       "      <td>22.000000</td>\n",
       "    </tr>\n",
       "    <tr>\n",
       "      <th>mean</th>\n",
       "      <td>43.636364</td>\n",
       "      <td>17267.181818</td>\n",
       "      <td>3473.818182</td>\n",
       "      <td>173.909091</td>\n",
       "      <td>110.681818</td>\n",
       "    </tr>\n",
       "    <tr>\n",
       "      <th>std</th>\n",
       "      <td>9.534626</td>\n",
       "      <td>51989.479968</td>\n",
       "      <td>8726.173894</td>\n",
       "      <td>235.214575</td>\n",
       "      <td>149.725268</td>\n",
       "    </tr>\n",
       "    <tr>\n",
       "      <th>min</th>\n",
       "      <td>30.000000</td>\n",
       "      <td>243.000000</td>\n",
       "      <td>109.000000</td>\n",
       "      <td>31.000000</td>\n",
       "      <td>21.000000</td>\n",
       "    </tr>\n",
       "    <tr>\n",
       "      <th>25%</th>\n",
       "      <td>30.000000</td>\n",
       "      <td>504.000000</td>\n",
       "      <td>268.750000</td>\n",
       "      <td>41.000000</td>\n",
       "      <td>34.250000</td>\n",
       "    </tr>\n",
       "    <tr>\n",
       "      <th>50%</th>\n",
       "      <td>50.000000</td>\n",
       "      <td>676.500000</td>\n",
       "      <td>502.000000</td>\n",
       "      <td>60.000000</td>\n",
       "      <td>52.500000</td>\n",
       "    </tr>\n",
       "    <tr>\n",
       "      <th>75%</th>\n",
       "      <td>50.000000</td>\n",
       "      <td>2464.750000</td>\n",
       "      <td>1400.000000</td>\n",
       "      <td>177.750000</td>\n",
       "      <td>59.000000</td>\n",
       "    </tr>\n",
       "    <tr>\n",
       "      <th>max</th>\n",
       "      <td>50.000000</td>\n",
       "      <td>180611.000000</td>\n",
       "      <td>33262.000000</td>\n",
       "      <td>719.000000</td>\n",
       "      <td>501.000000</td>\n",
       "    </tr>\n",
       "  </tbody>\n",
       "</table>\n",
       "</div>"
      ],
      "text/plain": [
       "            Size      Read IOPS    Write IOPS  Read Bandwidth  Write Bandwidth\n",
       "count  22.000000      22.000000     22.000000       22.000000        22.000000\n",
       "mean   43.636364   17267.181818   3473.818182      173.909091       110.681818\n",
       "std     9.534626   51989.479968   8726.173894      235.214575       149.725268\n",
       "min    30.000000     243.000000    109.000000       31.000000        21.000000\n",
       "25%    30.000000     504.000000    268.750000       41.000000        34.250000\n",
       "50%    50.000000     676.500000    502.000000       60.000000        52.500000\n",
       "75%    50.000000    2464.750000   1400.000000      177.750000        59.000000\n",
       "max    50.000000  180611.000000  33262.000000      719.000000       501.000000"
      ]
     },
     "execution_count": 6,
     "metadata": {},
     "output_type": "execute_result"
    }
   ],
   "source": [
    "storage.describe()"
   ]
  },
  {
   "cell_type": "code",
   "execution_count": 7,
   "metadata": {},
   "outputs": [
    {
     "data": {
      "text/plain": [
       "Ttest_indResult(statistic=-0.048241649974128276, pvalue=0.9615802854492471)"
      ]
     },
     "execution_count": 7,
     "metadata": {},
     "output_type": "execute_result"
    }
   ],
   "source": [
    "stats.ttest_ind(data[\"Single Score\"], data[\"Multi Score\"])"
   ]
  },
  {
   "cell_type": "code",
   "execution_count": 8,
   "metadata": {},
   "outputs": [
    {
     "data": {
      "text/plain": [
       "Index(['Location', 'Provider', 'Category', 'VM', 'CPU', 'RAM (GB)',\n",
       "       'Single Score', 'Multi Score', 'Price', 'Price Score'],\n",
       "      dtype='object')"
      ]
     },
     "execution_count": 8,
     "metadata": {},
     "output_type": "execute_result"
    }
   ],
   "source": [
    "data.columns"
   ]
  },
  {
   "cell_type": "code",
   "execution_count": 12,
   "metadata": {},
   "outputs": [],
   "source": [
    "data.rename(index=str, columns={\"RAM (GB)\": \"RAM_GB\", \"Single Score\": \"Single_Score\", \"Multi Score\": \"Multi_Score\", \"Price Score\": \"Price_Score\"}, inplace=True)"
   ]
  },
  {
   "cell_type": "code",
   "execution_count": 13,
   "metadata": {},
   "outputs": [
    {
     "data": {
      "text/html": [
       "<div>\n",
       "<style scoped>\n",
       "    .dataframe tbody tr th:only-of-type {\n",
       "        vertical-align: middle;\n",
       "    }\n",
       "\n",
       "    .dataframe tbody tr th {\n",
       "        vertical-align: top;\n",
       "    }\n",
       "\n",
       "    .dataframe thead th {\n",
       "        text-align: right;\n",
       "    }\n",
       "</style>\n",
       "<table border=\"1\" class=\"dataframe\">\n",
       "  <thead>\n",
       "    <tr style=\"text-align: right;\">\n",
       "      <th></th>\n",
       "      <th>Location</th>\n",
       "      <th>Provider</th>\n",
       "      <th>Category</th>\n",
       "      <th>VM</th>\n",
       "      <th>CPU</th>\n",
       "      <th>RAM_GB</th>\n",
       "      <th>Single_Score</th>\n",
       "      <th>Multi_Score</th>\n",
       "      <th>Price</th>\n",
       "      <th>Price_Score</th>\n",
       "    </tr>\n",
       "  </thead>\n",
       "  <tbody>\n",
       "    <tr>\n",
       "      <th>0</th>\n",
       "      <td>Worldwide</td>\n",
       "      <td>1&amp;1</td>\n",
       "      <td>General Purpose</td>\n",
       "      <td>M</td>\n",
       "      <td>1</td>\n",
       "      <td>1.0</td>\n",
       "      <td>2298</td>\n",
       "      <td>2963</td>\n",
       "      <td>0.013</td>\n",
       "      <td>2202.0</td>\n",
       "    </tr>\n",
       "    <tr>\n",
       "      <th>1</th>\n",
       "      <td>NaN</td>\n",
       "      <td>1&amp;1</td>\n",
       "      <td>General Purpose</td>\n",
       "      <td>M</td>\n",
       "      <td>1</td>\n",
       "      <td>1.0</td>\n",
       "      <td>2998</td>\n",
       "      <td>2863</td>\n",
       "      <td>0.013</td>\n",
       "      <td>2202.0</td>\n",
       "    </tr>\n",
       "    <tr>\n",
       "      <th>2</th>\n",
       "      <td>Worldwide</td>\n",
       "      <td>1&amp;1</td>\n",
       "      <td>General Purpose</td>\n",
       "      <td>S</td>\n",
       "      <td>1</td>\n",
       "      <td>0.5</td>\n",
       "      <td>2919</td>\n",
       "      <td>2794</td>\n",
       "      <td>0.007</td>\n",
       "      <td>3978.0</td>\n",
       "    </tr>\n",
       "    <tr>\n",
       "      <th>3</th>\n",
       "      <td>NaN</td>\n",
       "      <td>1&amp;1</td>\n",
       "      <td>General Purpose</td>\n",
       "      <td>S</td>\n",
       "      <td>1</td>\n",
       "      <td>0.5</td>\n",
       "      <td>2919</td>\n",
       "      <td>2794</td>\n",
       "      <td>0.007</td>\n",
       "      <td>3978.0</td>\n",
       "    </tr>\n",
       "    <tr>\n",
       "      <th>4</th>\n",
       "      <td>Worldwide</td>\n",
       "      <td>Amazon Web Services</td>\n",
       "      <td>Burstable Performance</td>\n",
       "      <td>t2.micro</td>\n",
       "      <td>1</td>\n",
       "      <td>1.0</td>\n",
       "      <td>3259</td>\n",
       "      <td>3106</td>\n",
       "      <td>0.012</td>\n",
       "      <td>2588.0</td>\n",
       "    </tr>\n",
       "  </tbody>\n",
       "</table>\n",
       "</div>"
      ],
      "text/plain": [
       "    Location             Provider               Category        VM  CPU  \\\n",
       "0  Worldwide                  1&1        General Purpose         M    1   \n",
       "1        NaN                  1&1        General Purpose         M    1   \n",
       "2  Worldwide                  1&1        General Purpose         S    1   \n",
       "3        NaN                  1&1        General Purpose         S    1   \n",
       "4  Worldwide  Amazon Web Services  Burstable Performance  t2.micro    1   \n",
       "\n",
       "   RAM_GB  Single_Score  Multi_Score  Price  Price_Score  \n",
       "0     1.0          2298         2963  0.013       2202.0  \n",
       "1     1.0          2998         2863  0.013       2202.0  \n",
       "2     0.5          2919         2794  0.007       3978.0  \n",
       "3     0.5          2919         2794  0.007       3978.0  \n",
       "4     1.0          3259         3106  0.012       2588.0  "
      ]
     },
     "execution_count": 13,
     "metadata": {},
     "output_type": "execute_result"
    }
   ],
   "source": [
    "data.head()"
   ]
  },
  {
   "cell_type": "code",
   "execution_count": 16,
   "metadata": {},
   "outputs": [
    {
     "name": "stderr",
     "output_type": "stream",
     "text": [
      "/Users/fhel/anaconda3/lib/python3.7/site-packages/numpy/lib/histograms.py:754: RuntimeWarning: invalid value encountered in greater_equal\n",
      "  keep = (tmp_a >= first_edge)\n",
      "/Users/fhel/anaconda3/lib/python3.7/site-packages/numpy/lib/histograms.py:755: RuntimeWarning: invalid value encountered in less_equal\n",
      "  keep &= (tmp_a <= last_edge)\n"
     ]
    },
    {
     "data": {
      "text/plain": [
       "<seaborn.axisgrid.PairGrid at 0x1a208d2e10>"
      ]
     },
     "execution_count": 16,
     "metadata": {},
     "output_type": "execute_result"
    },
    {
     "data": {
      "image/png": "[encoded data removed]",
      "text/plain": [
       "<Figure size 1080x1080 with 42 Axes>"
      ]
     },
     "metadata": {
      "needs_background": "light"
     },
     "output_type": "display_data"
    }
   ],
   "source": [
    "sns.pairplot(data)"
   ]
  },
  {
   "cell_type": "code",
   "execution_count": 17,
   "metadata": {},
   "outputs": [
    {
     "data": {
      "text/plain": [
       "Ttest_indResult(statistic=-42.244983251550316, pvalue=4.4988647547587305e-92)"
      ]
     },
     "execution_count": 17,
     "metadata": {},
     "output_type": "execute_result"
    }
   ],
   "source": [
    "stats.ttest_ind(data.RAM_GB, data.Single_Score)"
   ]
  },
  {
   "cell_type": "code",
   "execution_count": 103,
   "metadata": {},
   "outputs": [
    {
     "data": {
      "text/html": [
       "<table class=\"simpletable\">\n",
       "<caption>OLS Regression Results</caption>\n",
       "<tr>\n",
       "  <th>Dep. Variable:</th>          <td>Price</td>      <th>  R-squared:         </th> <td>   0.788</td>\n",
       "</tr>\n",
       "<tr>\n",
       "  <th>Model:</th>                   <td>OLS</td>       <th>  Adj. R-squared:    </th> <td>   0.772</td>\n",
       "</tr>\n",
       "<tr>\n",
       "  <th>Method:</th>             <td>Least Squares</td>  <th>  F-statistic:       </th> <td>   50.03</td>\n",
       "</tr>\n",
       "<tr>\n",
       "  <th>Date:</th>             <td>Thu, 18 Apr 2019</td> <th>  Prob (F-statistic):</th> <td>1.53e-17</td>\n",
       "</tr>\n",
       "<tr>\n",
       "  <th>Time:</th>                 <td>10:22:44</td>     <th>  Log-Likelihood:    </th> <td>  182.71</td>\n",
       "</tr>\n",
       "<tr>\n",
       "  <th>No. Observations:</th>      <td>    59</td>      <th>  AIC:               </th> <td>  -355.4</td>\n",
       "</tr>\n",
       "<tr>\n",
       "  <th>Df Residuals:</th>          <td>    54</td>      <th>  BIC:               </th> <td>  -345.0</td>\n",
       "</tr>\n",
       "<tr>\n",
       "  <th>Df Model:</th>              <td>     4</td>      <th>                     </th>     <td> </td>   \n",
       "</tr>\n",
       "<tr>\n",
       "  <th>Covariance Type:</th>      <td>nonrobust</td>    <th>                     </th>     <td> </td>   \n",
       "</tr>\n",
       "</table>\n",
       "<table class=\"simpletable\">\n",
       "<tr>\n",
       "        <td></td>          <th>coef</th>     <th>std err</th>      <th>t</th>      <th>P>|t|</th>  <th>[0.025</th>    <th>0.975]</th>  \n",
       "</tr>\n",
       "<tr>\n",
       "  <th>Intercept</th>    <td>    0.0377</td> <td>    0.008</td> <td>    4.508</td> <td> 0.000</td> <td>    0.021</td> <td>    0.054</td>\n",
       "</tr>\n",
       "<tr>\n",
       "  <th>Single_Score</th> <td>-2.975e-06</td> <td> 3.46e-06</td> <td>   -0.859</td> <td> 0.394</td> <td>-9.92e-06</td> <td> 3.97e-06</td>\n",
       "</tr>\n",
       "<tr>\n",
       "  <th>Multi_Score</th>  <td>  5.44e-06</td> <td> 1.67e-06</td> <td>    3.255</td> <td> 0.002</td> <td> 2.09e-06</td> <td> 8.79e-06</td>\n",
       "</tr>\n",
       "<tr>\n",
       "  <th>Price_Score</th>  <td> -1.15e-05</td> <td> 1.32e-06</td> <td>   -8.683</td> <td> 0.000</td> <td>-1.42e-05</td> <td>-8.84e-06</td>\n",
       "</tr>\n",
       "<tr>\n",
       "  <th>RAM_GB</th>       <td>    0.0022</td> <td>    0.000</td> <td>    5.713</td> <td> 0.000</td> <td>    0.001</td> <td>    0.003</td>\n",
       "</tr>\n",
       "</table>\n",
       "<table class=\"simpletable\">\n",
       "<tr>\n",
       "  <th>Omnibus:</th>       <td> 8.772</td> <th>  Durbin-Watson:     </th> <td>   1.099</td>\n",
       "</tr>\n",
       "<tr>\n",
       "  <th>Prob(Omnibus):</th> <td> 0.012</td> <th>  Jarque-Bera (JB):  </th> <td>   8.222</td>\n",
       "</tr>\n",
       "<tr>\n",
       "  <th>Skew:</th>          <td> 0.871</td> <th>  Prob(JB):          </th> <td>  0.0164</td>\n",
       "</tr>\n",
       "<tr>\n",
       "  <th>Kurtosis:</th>      <td> 3.559</td> <th>  Cond. No.          </th> <td>2.58e+04</td>\n",
       "</tr>\n",
       "</table><br/><br/>Warnings:<br/>[1] Standard Errors assume that the covariance matrix of the errors is correctly specified.<br/>[2] The condition number is large, 2.58e+04. This might indicate that there are<br/>strong multicollinearity or other numerical problems."
      ],
      "text/plain": [
       "<class 'statsmodels.iolib.summary.Summary'>\n",
       "\"\"\"\n",
       "                            OLS Regression Results                            \n",
       "==============================================================================\n",
       "Dep. Variable:                  Price   R-squared:                       0.788\n",
       "Model:                            OLS   Adj. R-squared:                  0.772\n",
       "Method:                 Least Squares   F-statistic:                     50.03\n",
       "Date:                Thu, 18 Apr 2019   Prob (F-statistic):           1.53e-17\n",
       "Time:                        10:22:44   Log-Likelihood:                 182.71\n",
       "No. Observations:                  59   AIC:                            -355.4\n",
       "Df Residuals:                      54   BIC:                            -345.0\n",
       "Df Model:                           4                                         \n",
       "Covariance Type:            nonrobust                                         \n",
       "================================================================================\n",
       "                   coef    std err          t      P>|t|      [0.025      0.975]\n",
       "--------------------------------------------------------------------------------\n",
       "Intercept        0.0377      0.008      4.508      0.000       0.021       0.054\n",
       "Single_Score -2.975e-06   3.46e-06     -0.859      0.394   -9.92e-06    3.97e-06\n",
       "Multi_Score    5.44e-06   1.67e-06      3.255      0.002    2.09e-06    8.79e-06\n",
       "Price_Score   -1.15e-05   1.32e-06     -8.683      0.000   -1.42e-05   -8.84e-06\n",
       "RAM_GB           0.0022      0.000      5.713      0.000       0.001       0.003\n",
       "==============================================================================\n",
       "Omnibus:                        8.772   Durbin-Watson:                   1.099\n",
       "Prob(Omnibus):                  0.012   Jarque-Bera (JB):                8.222\n",
       "Skew:                           0.871   Prob(JB):                       0.0164\n",
       "Kurtosis:                       3.559   Cond. No.                     2.58e+04\n",
       "==============================================================================\n",
       "\n",
       "Warnings:\n",
       "[1] Standard Errors assume that the covariance matrix of the errors is correctly specified.\n",
       "[2] The condition number is large, 2.58e+04. This might indicate that there are\n",
       "strong multicollinearity or other numerical problems.\n",
       "\"\"\""
      ]
     },
     "execution_count": 103,
     "metadata": {},
     "output_type": "execute_result"
    }
   ],
   "source": [
    "f = 'Price~Single_Score+Multi_Score+Price_Score+RAM_GB'\n",
    "model=smf.ols(formula=f, data=data).fit()\n",
    "model.summary()"
   ]
  },
  {
   "cell_type": "code",
   "execution_count": 118,
   "metadata": {},
   "outputs": [
    {
     "data": {
      "text/html": [
       "<table class=\"simpletable\">\n",
       "<caption>OLS Regression Results</caption>\n",
       "<tr>\n",
       "  <th>Dep. Variable:</th>          <td>Price</td>      <th>  R-squared:         </th> <td>   0.491</td>\n",
       "</tr>\n",
       "<tr>\n",
       "  <th>Model:</th>                   <td>OLS</td>       <th>  Adj. R-squared:    </th> <td>   0.463</td>\n",
       "</tr>\n",
       "<tr>\n",
       "  <th>Method:</th>             <td>Least Squares</td>  <th>  F-statistic:       </th> <td>   17.67</td>\n",
       "</tr>\n",
       "<tr>\n",
       "  <th>Date:</th>             <td>Thu, 18 Apr 2019</td> <th>  Prob (F-statistic):</th> <td>3.72e-08</td>\n",
       "</tr>\n",
       "<tr>\n",
       "  <th>Time:</th>                 <td>11:12:21</td>     <th>  Log-Likelihood:    </th> <td>  156.92</td>\n",
       "</tr>\n",
       "<tr>\n",
       "  <th>No. Observations:</th>      <td>    59</td>      <th>  AIC:               </th> <td>  -305.8</td>\n",
       "</tr>\n",
       "<tr>\n",
       "  <th>Df Residuals:</th>          <td>    55</td>      <th>  BIC:               </th> <td>  -297.5</td>\n",
       "</tr>\n",
       "<tr>\n",
       "  <th>Df Model:</th>              <td>     3</td>      <th>                     </th>     <td> </td>   \n",
       "</tr>\n",
       "<tr>\n",
       "  <th>Covariance Type:</th>      <td>nonrobust</td>    <th>                     </th>     <td> </td>   \n",
       "</tr>\n",
       "</table>\n",
       "<table class=\"simpletable\">\n",
       "<tr>\n",
       "        <td></td>          <th>coef</th>     <th>std err</th>      <th>t</th>      <th>P>|t|</th>  <th>[0.025</th>    <th>0.975]</th>  \n",
       "</tr>\n",
       "<tr>\n",
       "  <th>Intercept</th>    <td>    0.0443</td> <td>    0.013</td> <td>    3.468</td> <td> 0.001</td> <td>    0.019</td> <td>    0.070</td>\n",
       "</tr>\n",
       "<tr>\n",
       "  <th>Single_Score</th> <td>-1.417e-05</td> <td> 4.93e-06</td> <td>   -2.873</td> <td> 0.006</td> <td>-2.41e-05</td> <td>-4.29e-06</td>\n",
       "</tr>\n",
       "<tr>\n",
       "  <th>Multi_Score</th>  <td>  6.49e-06</td> <td> 2.56e-06</td> <td>    2.538</td> <td> 0.014</td> <td> 1.37e-06</td> <td> 1.16e-05</td>\n",
       "</tr>\n",
       "<tr>\n",
       "  <th>RAM_GB</th>       <td>    0.0034</td> <td>    0.001</td> <td>    5.930</td> <td> 0.000</td> <td>    0.002</td> <td>    0.005</td>\n",
       "</tr>\n",
       "</table>\n",
       "<table class=\"simpletable\">\n",
       "<tr>\n",
       "  <th>Omnibus:</th>       <td>11.853</td> <th>  Durbin-Watson:     </th> <td>   0.747</td>\n",
       "</tr>\n",
       "<tr>\n",
       "  <th>Prob(Omnibus):</th> <td> 0.003</td> <th>  Jarque-Bera (JB):  </th> <td>  12.273</td>\n",
       "</tr>\n",
       "<tr>\n",
       "  <th>Skew:</th>          <td> 1.076</td> <th>  Prob(JB):          </th> <td> 0.00216</td>\n",
       "</tr>\n",
       "<tr>\n",
       "  <th>Kurtosis:</th>      <td> 3.603</td> <th>  Cond. No.          </th> <td>2.37e+04</td>\n",
       "</tr>\n",
       "</table><br/><br/>Warnings:<br/>[1] Standard Errors assume that the covariance matrix of the errors is correctly specified.<br/>[2] The condition number is large, 2.37e+04. This might indicate that there are<br/>strong multicollinearity or other numerical problems."
      ],
      "text/plain": [
       "<class 'statsmodels.iolib.summary.Summary'>\n",
       "\"\"\"\n",
       "                            OLS Regression Results                            \n",
       "==============================================================================\n",
       "Dep. Variable:                  Price   R-squared:                       0.491\n",
       "Model:                            OLS   Adj. R-squared:                  0.463\n",
       "Method:                 Least Squares   F-statistic:                     17.67\n",
       "Date:                Thu, 18 Apr 2019   Prob (F-statistic):           3.72e-08\n",
       "Time:                        11:12:21   Log-Likelihood:                 156.92\n",
       "No. Observations:                  59   AIC:                            -305.8\n",
       "Df Residuals:                      55   BIC:                            -297.5\n",
       "Df Model:                           3                                         \n",
       "Covariance Type:            nonrobust                                         \n",
       "================================================================================\n",
       "                   coef    std err          t      P>|t|      [0.025      0.975]\n",
       "--------------------------------------------------------------------------------\n",
       "Intercept        0.0443      0.013      3.468      0.001       0.019       0.070\n",
       "Single_Score -1.417e-05   4.93e-06     -2.873      0.006   -2.41e-05   -4.29e-06\n",
       "Multi_Score    6.49e-06   2.56e-06      2.538      0.014    1.37e-06    1.16e-05\n",
       "RAM_GB           0.0034      0.001      5.930      0.000       0.002       0.005\n",
       "==============================================================================\n",
       "Omnibus:                       11.853   Durbin-Watson:                   0.747\n",
       "Prob(Omnibus):                  0.003   Jarque-Bera (JB):               12.273\n",
       "Skew:                           1.076   Prob(JB):                      0.00216\n",
       "Kurtosis:                       3.603   Cond. No.                     2.37e+04\n",
       "==============================================================================\n",
       "\n",
       "Warnings:\n",
       "[1] Standard Errors assume that the covariance matrix of the errors is correctly specified.\n",
       "[2] The condition number is large, 2.37e+04. This might indicate that there are\n",
       "strong multicollinearity or other numerical problems.\n",
       "\"\"\""
      ]
     },
     "execution_count": 118,
     "metadata": {},
     "output_type": "execute_result"
    }
   ],
   "source": [
    "#dropping Multi_Score and Price_Score\n",
    "f = 'Price~Single_Score+Multi_Score+RAM_GB'\n",
    "model=smf.ols(formula=f, data=data).fit()\n",
    "model.summary()"
   ]
  },
  {
   "cell_type": "code",
   "execution_count": 120,
   "metadata": {
    "scrolled": true
   },
   "outputs": [
    {
     "data": {
      "text/html": [
       "<div>\n",
       "<style scoped>\n",
       "    .dataframe tbody tr th:only-of-type {\n",
       "        vertical-align: middle;\n",
       "    }\n",
       "\n",
       "    .dataframe tbody tr th {\n",
       "        vertical-align: top;\n",
       "    }\n",
       "\n",
       "    .dataframe thead th {\n",
       "        text-align: right;\n",
       "    }\n",
       "</style>\n",
       "<table border=\"1\" class=\"dataframe\">\n",
       "  <thead>\n",
       "    <tr style=\"text-align: right;\">\n",
       "      <th></th>\n",
       "      <th>Provider_1&amp;1</th>\n",
       "      <th>Provider_Amazon Web Services</th>\n",
       "      <th>Provider_DigitalOcean</th>\n",
       "      <th>Provider_Exoscale</th>\n",
       "      <th>Provider_Google Cloud Platform</th>\n",
       "      <th>Provider_IBM Softlayer</th>\n",
       "      <th>Provider_Joyent</th>\n",
       "      <th>Provider_Linode</th>\n",
       "      <th>Provider_Microsoft Azure</th>\n",
       "      <th>Provider_OVH Group</th>\n",
       "      <th>Provider_T-Systems Open Telekom Cloud</th>\n",
       "      <th>Provider_UpCloud</th>\n",
       "      <th>Provider_Vultr</th>\n",
       "    </tr>\n",
       "  </thead>\n",
       "  <tbody>\n",
       "    <tr>\n",
       "      <th>0</th>\n",
       "      <td>1</td>\n",
       "      <td>0</td>\n",
       "      <td>0</td>\n",
       "      <td>0</td>\n",
       "      <td>0</td>\n",
       "      <td>0</td>\n",
       "      <td>0</td>\n",
       "      <td>0</td>\n",
       "      <td>0</td>\n",
       "      <td>0</td>\n",
       "      <td>0</td>\n",
       "      <td>0</td>\n",
       "      <td>0</td>\n",
       "    </tr>\n",
       "    <tr>\n",
       "      <th>1</th>\n",
       "      <td>1</td>\n",
       "      <td>0</td>\n",
       "      <td>0</td>\n",
       "      <td>0</td>\n",
       "      <td>0</td>\n",
       "      <td>0</td>\n",
       "      <td>0</td>\n",
       "      <td>0</td>\n",
       "      <td>0</td>\n",
       "      <td>0</td>\n",
       "      <td>0</td>\n",
       "      <td>0</td>\n",
       "      <td>0</td>\n",
       "    </tr>\n",
       "    <tr>\n",
       "      <th>2</th>\n",
       "      <td>1</td>\n",
       "      <td>0</td>\n",
       "      <td>0</td>\n",
       "      <td>0</td>\n",
       "      <td>0</td>\n",
       "      <td>0</td>\n",
       "      <td>0</td>\n",
       "      <td>0</td>\n",
       "      <td>0</td>\n",
       "      <td>0</td>\n",
       "      <td>0</td>\n",
       "      <td>0</td>\n",
       "      <td>0</td>\n",
       "    </tr>\n",
       "    <tr>\n",
       "      <th>3</th>\n",
       "      <td>1</td>\n",
       "      <td>0</td>\n",
       "      <td>0</td>\n",
       "      <td>0</td>\n",
       "      <td>0</td>\n",
       "      <td>0</td>\n",
       "      <td>0</td>\n",
       "      <td>0</td>\n",
       "      <td>0</td>\n",
       "      <td>0</td>\n",
       "      <td>0</td>\n",
       "      <td>0</td>\n",
       "      <td>0</td>\n",
       "    </tr>\n",
       "    <tr>\n",
       "      <th>4</th>\n",
       "      <td>0</td>\n",
       "      <td>1</td>\n",
       "      <td>0</td>\n",
       "      <td>0</td>\n",
       "      <td>0</td>\n",
       "      <td>0</td>\n",
       "      <td>0</td>\n",
       "      <td>0</td>\n",
       "      <td>0</td>\n",
       "      <td>0</td>\n",
       "      <td>0</td>\n",
       "      <td>0</td>\n",
       "      <td>0</td>\n",
       "    </tr>\n",
       "  </tbody>\n",
       "</table>\n",
       "</div>"
      ],
      "text/plain": [
       "   Provider_1&1  Provider_Amazon Web Services  Provider_DigitalOcean  \\\n",
       "0             1                             0                      0   \n",
       "1             1                             0                      0   \n",
       "2             1                             0                      0   \n",
       "3             1                             0                      0   \n",
       "4             0                             1                      0   \n",
       "\n",
       "   Provider_Exoscale  Provider_Google Cloud Platform  Provider_IBM Softlayer  \\\n",
       "0                  0                               0                       0   \n",
       "1                  0                               0                       0   \n",
       "2                  0                               0                       0   \n",
       "3                  0                               0                       0   \n",
       "4                  0                               0                       0   \n",
       "\n",
       "   Provider_Joyent  Provider_Linode  Provider_Microsoft Azure  \\\n",
       "0                0                0                         0   \n",
       "1                0                0                         0   \n",
       "2                0                0                         0   \n",
       "3                0                0                         0   \n",
       "4                0                0                         0   \n",
       "\n",
       "   Provider_OVH Group  Provider_T-Systems Open Telekom Cloud  \\\n",
       "0                   0                                      0   \n",
       "1                   0                                      0   \n",
       "2                   0                                      0   \n",
       "3                   0                                      0   \n",
       "4                   0                                      0   \n",
       "\n",
       "   Provider_UpCloud  Provider_Vultr  \n",
       "0                 0               0  \n",
       "1                 0               0  \n",
       "2                 0               0  \n",
       "3                 0               0  \n",
       "4                 0               0  "
      ]
     },
     "execution_count": 120,
     "metadata": {},
     "output_type": "execute_result"
    }
   ],
   "source": [
    "#turn a categorical column into multiple dummy columns\n",
    "prov_dummy = pd.get_dummies(data['Provider'],prefix = 'Provider')\n",
    "prov_dummy.head()"
   ]
  },
  {
   "cell_type": "code",
   "execution_count": 123,
   "metadata": {
    "scrolled": false
   },
   "outputs": [
    {
     "data": {
      "text/plain": [
       "Index(['Location', 'Provider', 'Category', 'VM', 'CPU', 'RAM_GB',\n",
       "       'Single_Score', 'Multi_Score', 'Price', 'Price_Score', 'Provider_1&1',\n",
       "       'Provider_Amazon Web Services', 'Provider_DigitalOcean',\n",
       "       'Provider_Exoscale', 'Provider_Google Cloud Platform',\n",
       "       'Provider_IBM Softlayer', 'Provider_Joyent', 'Provider_Linode',\n",
       "       'Provider_Microsoft Azure', 'Provider_OVH Group',\n",
       "       'Provider_T-Systems Open Telekom Cloud', 'Provider_UpCloud',\n",
       "       'Provider_Vultr'],\n",
       "      dtype='object')"
      ]
     },
     "execution_count": 123,
     "metadata": {},
     "output_type": "execute_result"
    }
   ],
   "source": [
    "data_dummies = pd.concat([data, prov_dummy], axis = 1)\n",
    "data_dummies.columns"
   ]
  },
  {
   "cell_type": "code",
   "execution_count": 127,
   "metadata": {},
   "outputs": [],
   "source": [
    "data_dummies.rename(index=str, columns={'Provider_Amazon Web Services': 'Provider_AWS', 'Provider_Google Cloud Platform': 'Provider_Google',\n",
    "       'Provider_IBM Softlayer': 'Provider_IBM', 'Provider_Microsoft Azure': 'Provider_Azure', 'Provider_OVH Group': 'Provider_OVH_Group',\n",
    "       'Provider_T-Systems Open Telekom Cloud': 'Provider_T-Systems'}, inplace=True)"
   ]
  },
  {
   "cell_type": "code",
   "execution_count": 130,
   "metadata": {
    "scrolled": true
   },
   "outputs": [
    {
     "data": {
      "text/plain": [
       "Index(['Location', 'Provider', 'Category', 'VM', 'CPU', 'RAM_GB',\n",
       "       'Single_Score', 'Multi_Score', 'Price', 'Price_Score', 'Provider_1&1',\n",
       "       'Provider_AWS', 'Provider_DigitalOcean', 'Provider_Exoscale',\n",
       "       'Provider_Google', 'Provider_IBM', 'Provider_Joyent', 'Provider_Linode',\n",
       "       'Provider_Azure', 'Provider_OVH_Group', 'Provider_T-Systems',\n",
       "       'Provider_UpCloud', 'Provider_Vultr'],\n",
       "      dtype='object')"
      ]
     },
     "execution_count": 130,
     "metadata": {},
     "output_type": "execute_result"
    }
   ],
   "source": [
    "data_dummies.columns"
   ]
  },
  {
   "cell_type": "code",
   "execution_count": null,
   "metadata": {},
   "outputs": [],
   "source": [
    "f = 'Price~Single_score+'"
   ]
  },
  {
   "cell_type": "code",
   "execution_count": 102,
   "metadata": {
    "scrolled": false
   },
   "outputs": [
    {
     "data": {
      "text/html": [
       "<table class=\"simpletable\">\n",
       "<caption>OLS Regression Results</caption>\n",
       "<tr>\n",
       "  <th>Dep. Variable:</th>          <td>Price</td>      <th>  R-squared:         </th> <td>   0.788</td>\n",
       "</tr>\n",
       "<tr>\n",
       "  <th>Model:</th>                   <td>OLS</td>       <th>  Adj. R-squared:    </th> <td>   0.772</td>\n",
       "</tr>\n",
       "<tr>\n",
       "  <th>Method:</th>             <td>Least Squares</td>  <th>  F-statistic:       </th> <td>   50.03</td>\n",
       "</tr>\n",
       "<tr>\n",
       "  <th>Date:</th>             <td>Thu, 18 Apr 2019</td> <th>  Prob (F-statistic):</th> <td>1.53e-17</td>\n",
       "</tr>\n",
       "<tr>\n",
       "  <th>Time:</th>                 <td>10:22:20</td>     <th>  Log-Likelihood:    </th> <td>  182.71</td>\n",
       "</tr>\n",
       "<tr>\n",
       "  <th>No. Observations:</th>      <td>    59</td>      <th>  AIC:               </th> <td>  -355.4</td>\n",
       "</tr>\n",
       "<tr>\n",
       "  <th>Df Residuals:</th>          <td>    54</td>      <th>  BIC:               </th> <td>  -345.0</td>\n",
       "</tr>\n",
       "<tr>\n",
       "  <th>Df Model:</th>              <td>     4</td>      <th>                     </th>     <td> </td>   \n",
       "</tr>\n",
       "<tr>\n",
       "  <th>Covariance Type:</th>      <td>nonrobust</td>    <th>                     </th>     <td> </td>   \n",
       "</tr>\n",
       "</table>\n",
       "<table class=\"simpletable\">\n",
       "<tr>\n",
       "        <td></td>          <th>coef</th>     <th>std err</th>      <th>t</th>      <th>P>|t|</th>  <th>[0.025</th>    <th>0.975]</th>  \n",
       "</tr>\n",
       "<tr>\n",
       "  <th>Intercept</th>    <td>    0.0377</td> <td>    0.008</td> <td>    4.508</td> <td> 0.000</td> <td>    0.021</td> <td>    0.054</td>\n",
       "</tr>\n",
       "<tr>\n",
       "  <th>Multi_Score</th>  <td>  5.44e-06</td> <td> 1.67e-06</td> <td>    3.255</td> <td> 0.002</td> <td> 2.09e-06</td> <td> 8.79e-06</td>\n",
       "</tr>\n",
       "<tr>\n",
       "  <th>Single_Score</th> <td>-2.975e-06</td> <td> 3.46e-06</td> <td>   -0.859</td> <td> 0.394</td> <td>-9.92e-06</td> <td> 3.97e-06</td>\n",
       "</tr>\n",
       "<tr>\n",
       "  <th>Price_Score</th>  <td> -1.15e-05</td> <td> 1.32e-06</td> <td>   -8.683</td> <td> 0.000</td> <td>-1.42e-05</td> <td>-8.84e-06</td>\n",
       "</tr>\n",
       "<tr>\n",
       "  <th>RAM_GB</th>       <td>    0.0022</td> <td>    0.000</td> <td>    5.713</td> <td> 0.000</td> <td>    0.001</td> <td>    0.003</td>\n",
       "</tr>\n",
       "</table>\n",
       "<table class=\"simpletable\">\n",
       "<tr>\n",
       "  <th>Omnibus:</th>       <td> 8.772</td> <th>  Durbin-Watson:     </th> <td>   1.099</td>\n",
       "</tr>\n",
       "<tr>\n",
       "  <th>Prob(Omnibus):</th> <td> 0.012</td> <th>  Jarque-Bera (JB):  </th> <td>   8.222</td>\n",
       "</tr>\n",
       "<tr>\n",
       "  <th>Skew:</th>          <td> 0.871</td> <th>  Prob(JB):          </th> <td>  0.0164</td>\n",
       "</tr>\n",
       "<tr>\n",
       "  <th>Kurtosis:</th>      <td> 3.559</td> <th>  Cond. No.          </th> <td>2.58e+04</td>\n",
       "</tr>\n",
       "</table><br/><br/>Warnings:<br/>[1] Standard Errors assume that the covariance matrix of the errors is correctly specified.<br/>[2] The condition number is large, 2.58e+04. This might indicate that there are<br/>strong multicollinearity or other numerical problems."
      ],
      "text/plain": [
       "<class 'statsmodels.iolib.summary.Summary'>\n",
       "\"\"\"\n",
       "                            OLS Regression Results                            \n",
       "==============================================================================\n",
       "Dep. Variable:                  Price   R-squared:                       0.788\n",
       "Model:                            OLS   Adj. R-squared:                  0.772\n",
       "Method:                 Least Squares   F-statistic:                     50.03\n",
       "Date:                Thu, 18 Apr 2019   Prob (F-statistic):           1.53e-17\n",
       "Time:                        10:22:20   Log-Likelihood:                 182.71\n",
       "No. Observations:                  59   AIC:                            -355.4\n",
       "Df Residuals:                      54   BIC:                            -345.0\n",
       "Df Model:                           4                                         \n",
       "Covariance Type:            nonrobust                                         \n",
       "================================================================================\n",
       "                   coef    std err          t      P>|t|      [0.025      0.975]\n",
       "--------------------------------------------------------------------------------\n",
       "Intercept        0.0377      0.008      4.508      0.000       0.021       0.054\n",
       "Multi_Score    5.44e-06   1.67e-06      3.255      0.002    2.09e-06    8.79e-06\n",
       "Single_Score -2.975e-06   3.46e-06     -0.859      0.394   -9.92e-06    3.97e-06\n",
       "Price_Score   -1.15e-05   1.32e-06     -8.683      0.000   -1.42e-05   -8.84e-06\n",
       "RAM_GB           0.0022      0.000      5.713      0.000       0.001       0.003\n",
       "==============================================================================\n",
       "Omnibus:                        8.772   Durbin-Watson:                   1.099\n",
       "Prob(Omnibus):                  0.012   Jarque-Bera (JB):                8.222\n",
       "Skew:                           0.871   Prob(JB):                       0.0164\n",
       "Kurtosis:                       3.559   Cond. No.                     2.58e+04\n",
       "==============================================================================\n",
       "\n",
       "Warnings:\n",
       "[1] Standard Errors assume that the covariance matrix of the errors is correctly specified.\n",
       "[2] The condition number is large, 2.58e+04. This might indicate that there are\n",
       "strong multicollinearity or other numerical problems.\n",
       "\"\"\""
      ]
     },
     "execution_count": 102,
     "metadata": {},
     "output_type": "execute_result"
    }
   ],
   "source": [
    "f = 'Price~Multi_Score+Single_Score+Price_Score+RAM_GB'\n",
    "model=smf.ols(formula=f, data=data).fit()\n",
    "model.summary()"
   ]
  },
  {
   "cell_type": "code",
   "execution_count": 28,
   "metadata": {},
   "outputs": [
    {
     "data": {
      "text/plain": [
       "<matplotlib.axes._subplots.AxesSubplot at 0x1c22c0eef0>"
      ]
     },
     "execution_count": 28,
     "metadata": {},
     "output_type": "execute_result"
    },
    {
     "data": {
      "image/png": "[encoded data removed]",
      "text/plain": [
       "<Figure size 432x288 with 1 Axes>"
      ]
     },
     "metadata": {
      "needs_background": "light"
     },
     "output_type": "display_data"
    }
   ],
   "source": [
    "sns.scatterplot(x=data['Single_Score'], y=data['Price'])"
   ]
  },
  {
   "cell_type": "code",
   "execution_count": 29,
   "metadata": {},
   "outputs": [
    {
     "data": {
      "text/plain": [
       "<matplotlib.axes._subplots.AxesSubplot at 0x1c230d4e48>"
      ]
     },
     "execution_count": 29,
     "metadata": {},
     "output_type": "execute_result"
    },
    {
     "data": {
      "image/png": "[encoded data removed]",
      "text/plain": [
       "<Figure size 432x288 with 1 Axes>"
      ]
     },
     "metadata": {
      "needs_background": "light"
     },
     "output_type": "display_data"
    }
   ],
   "source": [
    "sns.scatterplot(x=data['Multi_Score'], y=data['Price'])"
   ]
  },
  {
   "cell_type": "code",
   "execution_count": 35,
   "metadata": {},
   "outputs": [
    {
     "data": {
      "text/plain": [
       "Microsoft Azure                 22\n",
       "DigitalOcean                    10\n",
       "Joyent                           8\n",
       "T-Systems Open Telekom Cloud     7\n",
       "Google Cloud Platform            6\n",
       "Linode                           6\n",
       "IBM Softlayer                    6\n",
       "Vultr                            4\n",
       "Amazon Web Services              4\n",
       "1&1                              4\n",
       "UpCloud                          4\n",
       "OVH Group                        4\n",
       "Exoscale                         1\n",
       "Name: Provider, dtype: int64"
      ]
     },
     "execution_count": 35,
     "metadata": {},
     "output_type": "execute_result"
    }
   ],
   "source": [
    "data['Provider'].value_counts()"
   ]
  },
  {
   "cell_type": "code",
   "execution_count": 63,
   "metadata": {},
   "outputs": [
    {
     "name": "stdout",
     "output_type": "stream",
     "text": [
      "67    2965\n",
      "68    3025\n",
      "69    2938\n",
      "70    3035\n",
      "Name: Single_Score, dtype: int64\n"
     ]
    },
    {
     "data": {
      "text/plain": [
       "2990.75"
      ]
     },
     "execution_count": 63,
     "metadata": {},
     "output_type": "execute_result"
    }
   ],
   "source": [
    "ovh = data['Single_Score'][data['Provider']==\"OVH Group\"]\n",
    "print(ovh)\n",
    "ovh.mean()"
   ]
  },
  {
   "cell_type": "code",
   "execution_count": 62,
   "metadata": {
    "scrolled": true
   },
   "outputs": [
    {
     "name": "stdout",
     "output_type": "stream",
     "text": [
      "78    3386\n",
      "79    3003\n",
      "80    3445\n",
      "81    3024\n",
      "Name: Single_Score, dtype: int64\n"
     ]
    },
    {
     "data": {
      "text/plain": [
       "3214.5"
      ]
     },
     "execution_count": 62,
     "metadata": {},
     "output_type": "execute_result"
    }
   ],
   "source": [
    "upcloud = data['Single_Score'][data['Provider']==\"UpCloud\"]\n",
    "print(upcloud)\n",
    "upcloud.mean()"
   ]
  },
  {
   "cell_type": "code",
   "execution_count": 61,
   "metadata": {},
   "outputs": [
    {
     "name": "stdout",
     "output_type": "stream",
     "text": [
      "0    2298\n",
      "1    2998\n",
      "2    2919\n",
      "3    2919\n",
      "Name: Single_Score, dtype: int64\n"
     ]
    },
    {
     "data": {
      "text/plain": [
       "2783.5"
      ]
     },
     "execution_count": 61,
     "metadata": {},
     "output_type": "execute_result"
    }
   ],
   "source": [
    "one_n = data['Single_Score'][data['Provider']==\"1&1\"]\n",
    "print(one_n)\n",
    "one_n.mean()"
   ]
  },
  {
   "cell_type": "code",
   "execution_count": 60,
   "metadata": {},
   "outputs": [
    {
     "name": "stdout",
     "output_type": "stream",
     "text": [
      "82    2932\n",
      "83    3154\n",
      "84    3749\n",
      "85    3628\n",
      "Name: Single_Score, dtype: int64\n"
     ]
    },
    {
     "data": {
      "text/plain": [
       "3365.75"
      ]
     },
     "execution_count": 60,
     "metadata": {},
     "output_type": "execute_result"
    }
   ],
   "source": [
    "vultr = data['Single_Score'][data['Provider']==\"Vultr\"]\n",
    "print(vultr)\n",
    "vultr.mean()"
   ]
  },
  {
   "cell_type": "code",
   "execution_count": 59,
   "metadata": {},
   "outputs": [
    {
     "name": "stdout",
     "output_type": "stream",
     "text": [
      "25    2852\n",
      "26    2852\n",
      "27    2818\n",
      "28    2818\n",
      "29    2793\n",
      "30    2793\n",
      "Name: Single_Score, dtype: int64\n"
     ]
    },
    {
     "data": {
      "text/plain": [
       "2821.0"
      ]
     },
     "execution_count": 59,
     "metadata": {},
     "output_type": "execute_result"
    }
   ],
   "source": [
    "ibm = data['Single_Score'][data['Provider']==\"IBM Softlayer\"]\n",
    "print(ibm)\n",
    "ibm.mean()"
   ]
  },
  {
   "cell_type": "code",
   "execution_count": 58,
   "metadata": {},
   "outputs": [
    {
     "name": "stdout",
     "output_type": "stream",
     "text": [
      "39    2265\n",
      "40    2265\n",
      "41    3049\n",
      "42    3079\n",
      "43    2843\n",
      "44    2843\n",
      "Name: Single_Score, dtype: int64\n"
     ]
    },
    {
     "data": {
      "text/plain": [
       "2724.0"
      ]
     },
     "execution_count": 58,
     "metadata": {},
     "output_type": "execute_result"
    }
   ],
   "source": [
    "linode = data['Single_Score'][data['Provider']==\"Linode\"]\n",
    "print(linode)\n",
    "linode.mean()"
   ]
  },
  {
   "cell_type": "code",
   "execution_count": 57,
   "metadata": {},
   "outputs": [
    {
     "name": "stdout",
     "output_type": "stream",
     "text": [
      "71    2353\n",
      "72    2276\n",
      "73    2229\n",
      "74    2972\n",
      "75    2938\n",
      "76    2904\n",
      "77    2890\n",
      "Name: Single_Score, dtype: int64\n"
     ]
    },
    {
     "data": {
      "text/plain": [
       "2651.714285714286"
      ]
     },
     "execution_count": 57,
     "metadata": {},
     "output_type": "execute_result"
    }
   ],
   "source": [
    "t_system = data['Single_Score'][data['Provider']==\"T-Systems Open Telekom Cloud\"]\n",
    "print(t_system)\n",
    "t_system.mean()"
   ]
  },
  {
   "cell_type": "code",
   "execution_count": 55,
   "metadata": {},
   "outputs": [
    {
     "name": "stdout",
     "output_type": "stream",
     "text": [
      "31    2884\n",
      "32    3070\n",
      "33    2459\n",
      "34    2472\n",
      "35    3287\n",
      "36    3106\n",
      "37    3687\n",
      "38    3216\n",
      "Name: Single_Score, dtype: int64\n"
     ]
    },
    {
     "data": {
      "text/plain": [
       "3022.625"
      ]
     },
     "execution_count": 55,
     "metadata": {},
     "output_type": "execute_result"
    }
   ],
   "source": [
    "joyent = data['Single_Score'][data['Provider']==\"Joyent\"]\n",
    "print(joyent)\n",
    "joyent.mean()"
   ]
  },
  {
   "cell_type": "code",
   "execution_count": 54,
   "metadata": {
    "scrolled": true
   },
   "outputs": [
    {
     "name": "stdout",
     "output_type": "stream",
     "text": [
      "8     2428\n",
      "9     2428\n",
      "10    2365\n",
      "11    2365\n",
      "12    3604\n",
      "13    2869\n",
      "14    3521\n",
      "15    3059\n",
      "16    2609\n",
      "17    3040\n",
      "Name: Single_Score, dtype: int64\n"
     ]
    },
    {
     "data": {
      "text/plain": [
       "2828.8"
      ]
     },
     "execution_count": 54,
     "metadata": {},
     "output_type": "execute_result"
    }
   ],
   "source": [
    "digital = data['Single_Score'][data['Provider']==\"DigitalOcean\"]\n",
    "print(digital)\n",
    "digital.mean()"
   ]
  },
  {
   "cell_type": "code",
   "execution_count": 53,
   "metadata": {
    "scrolled": true
   },
   "outputs": [
    {
     "name": "stdout",
     "output_type": "stream",
     "text": [
      "19    3057\n",
      "20    3124\n",
      "21    2977\n",
      "22    2977\n",
      "23    2995\n",
      "24    2949\n",
      "Name: Single_Score, dtype: int64\n"
     ]
    },
    {
     "data": {
      "text/plain": [
       "3013.1666666666665"
      ]
     },
     "execution_count": 53,
     "metadata": {},
     "output_type": "execute_result"
    }
   ],
   "source": [
    "google = data['Single_Score'][data['Provider']==\"Google Cloud Platform\"]\n",
    "print(google)\n",
    "google.mean()"
   ]
  },
  {
   "cell_type": "code",
   "execution_count": 52,
   "metadata": {},
   "outputs": [
    {
     "name": "stdout",
     "output_type": "stream",
     "text": [
      "4    3259\n",
      "5    3259\n",
      "6    3264\n",
      "7    3264\n",
      "Name: Single_Score, dtype: int64\n"
     ]
    },
    {
     "data": {
      "text/plain": [
       "3261.5"
      ]
     },
     "execution_count": 52,
     "metadata": {},
     "output_type": "execute_result"
    }
   ],
   "source": [
    "amazon = data['Single_Score'][data['Provider']==\"Amazon Web Services\"]\n",
    "print(amazon)\n",
    "amazon.mean()"
   ]
  },
  {
   "cell_type": "code",
   "execution_count": 51,
   "metadata": {},
   "outputs": [
    {
     "name": "stdout",
     "output_type": "stream",
     "text": [
      "45     878\n",
      "46     878\n",
      "47    1248\n",
      "48    1248\n",
      "49    1264\n",
      "50    1242\n",
      "51    3063\n",
      "52    3097\n",
      "53    3080\n",
      "54    3095\n",
      "55    2122\n",
      "56    2113\n",
      "57    3050\n",
      "58    3222\n",
      "59    2074\n",
      "60    2074\n",
      "61    3328\n",
      "62    3328\n",
      "63    3173\n",
      "64    3173\n",
      "65    3476\n",
      "66    3476\n",
      "Name: Single_Score, dtype: int64\n"
     ]
    },
    {
     "data": {
      "text/plain": [
       "2441.0"
      ]
     },
     "execution_count": 51,
     "metadata": {},
     "output_type": "execute_result"
    }
   ],
   "source": [
    "azure = data['Single_Score'][data['Provider']==\"Microsoft Azure\"]\n",
    "print(azure)\n",
    "azure.mean()"
   ]
  },
  {
   "cell_type": "code",
   "execution_count": 71,
   "metadata": {},
   "outputs": [
    {
     "name": "stdout",
     "output_type": "stream",
     "text": [
      "18    4196\n",
      "Name: Single_Score, dtype: int64\n"
     ]
    },
    {
     "data": {
      "text/plain": [
       "4196.0"
      ]
     },
     "execution_count": 71,
     "metadata": {},
     "output_type": "execute_result"
    }
   ],
   "source": [
    "exoscale = data['Single_Score'][data['Provider']==\"Exoscale\"]\n",
    "print(exoscale)\n",
    "exoscale.mean()"
   ]
  },
  {
   "cell_type": "code",
   "execution_count": 69,
   "metadata": {},
   "outputs": [
    {
     "data": {
      "text/plain": [
       "Ttest_indResult(statistic=1.9169135270318711, pvalue=0.06722937275793596)"
      ]
     },
     "execution_count": 69,
     "metadata": {},
     "output_type": "execute_result"
    }
   ],
   "source": [
    "stats.ttest_ind(vultr, azure)"
   ]
  },
  {
   "cell_type": "code",
   "execution_count": 72,
   "metadata": {},
   "outputs": [
    {
     "name": "stderr",
     "output_type": "stream",
     "text": [
      "/Users/fhel/anaconda3/lib/python3.7/site-packages/numpy/core/fromnumeric.py:3157: RuntimeWarning: Degrees of freedom <= 0 for slice\n",
      "  **kwargs)\n",
      "/Users/fhel/anaconda3/lib/python3.7/site-packages/numpy/core/_methods.py:132: RuntimeWarning: invalid value encountered in double_scalars\n",
      "  ret = ret.dtype.type(ret / rcount)\n"
     ]
    },
    {
     "data": {
      "text/plain": [
       "Ttest_indResult(statistic=nan, pvalue=nan)"
      ]
     },
     "execution_count": 72,
     "metadata": {},
     "output_type": "execute_result"
    }
   ],
   "source": [
    "stats.ttest_ind(exoscale, azure)"
   ]
  },
  {
   "cell_type": "code",
   "execution_count": 95,
   "metadata": {},
   "outputs": [
    {
     "data": {
      "text/plain": [
       "<function seaborn.utils.load_dataset(name, cache=True, data_home=None, **kws)>"
      ]
     },
     "execution_count": 95,
     "metadata": {},
     "output_type": "execute_result"
    },
    {
     "data": {
      "image/png": "[encoded data removed]",
      "text/plain": [
       "<Figure size 1152x576 with 1 Axes>"
      ]
     },
     "metadata": {},
     "output_type": "display_data"
    }
   ],
   "source": [
    "plt.figure(figsize = (16, 8))\n",
    "sns.set_context('poster') \n",
    "sns.set(style=\"whitegrid\")\n",
    "ax = sns.barplot(x=\"Provider\", y=\"Single_Score\", data=data)\n",
    "ax.set_title(\"Provider vs Single Score\")\n",
    "sns.load_dataset"
   ]
  },
  {
   "cell_type": "code",
   "execution_count": 94,
   "metadata": {},
   "outputs": [
    {
     "data": {
      "text/plain": [
       "<function seaborn.utils.load_dataset(name, cache=True, data_home=None, **kws)>"
      ]
     },
     "execution_count": 94,
     "metadata": {},
     "output_type": "execute_result"
    },
    {
     "data": {
      "image/png": "[encoded data removed]",
      "text/plain": [
       "<Figure size 1152x576 with 1 Axes>"
      ]
     },
     "metadata": {},
     "output_type": "display_data"
    }
   ],
   "source": [
    "plt.figure(figsize = (16, 8))\n",
    "sns.set_context('poster') \n",
    "sns.set(style=\"whitegrid\")\n",
    "ax = sns.barplot(x=\"Provider\", y=\"Multi_Score\", data=data)\n",
    "ax.set_title(\"Provider vs Multi Score\")\n",
    "sns.load_dataset"
   ]
  },
  {
   "cell_type": "code",
   "execution_count": 93,
   "metadata": {},
   "outputs": [
    {
     "data": {
      "text/plain": [
       "<function seaborn.utils.load_dataset(name, cache=True, data_home=None, **kws)>"
      ]
     },
     "execution_count": 93,
     "metadata": {},
     "output_type": "execute_result"
    },
    {
     "data": {
      "image/png": "[encoded data removed]",
      "text/plain": [
       "<Figure size 1152x576 with 1 Axes>"
      ]
     },
     "metadata": {},
     "output_type": "display_data"
    }
   ],
   "source": [
    "plt.figure(figsize = (16, 8))\n",
    "sns.set_context('poster') \n",
    "sns.set(style=\"whitegrid\")\n",
    "ax = sns.barplot(x=\"Provider\", y=\"Price\", data=data)\n",
    "ax.set_title(\"Provider vs Price\")\n",
    "sns.load_dataset"
   ]
  },
  {
   "cell_type": "code",
   "execution_count": 83,
   "metadata": {},
   "outputs": [
    {
     "data": {
      "text/plain": [
       "<matplotlib.axes._subplots.AxesSubplot at 0x1c2457d6d8>"
      ]
     },
     "execution_count": 83,
     "metadata": {},
     "output_type": "execute_result"
    },
    {
     "data": {
      "image/png": "[encoded data removed]",
      "text/plain": [
       "<Figure size 432x288 with 1 Axes>"
      ]
     },
     "metadata": {},
     "output_type": "display_data"
    }
   ],
   "source": [
    "sns.distplot(data['Price'], bins=20)"
   ]
  },
  {
   "cell_type": "code",
   "execution_count": 84,
   "metadata": {},
   "outputs": [
    {
     "data": {
      "text/plain": [
       "<matplotlib.axes._subplots.AxesSubplot at 0x1c246c41d0>"
      ]
     },
     "execution_count": 84,
     "metadata": {},
     "output_type": "execute_result"
    },
    {
     "data": {
      "image/png": "[encoded data removed]",
      "text/plain": [
       "<Figure size 432x288 with 1 Axes>"
      ]
     },
     "metadata": {},
     "output_type": "display_data"
    }
   ],
   "source": [
    "sns.distplot(data['Single_Score'], bins=20)"
   ]
  },
  {
   "cell_type": "code",
   "execution_count": 85,
   "metadata": {
    "scrolled": true
   },
   "outputs": [
    {
     "data": {
      "text/plain": [
       "<matplotlib.axes._subplots.AxesSubplot at 0x1c247c03c8>"
      ]
     },
     "execution_count": 85,
     "metadata": {},
     "output_type": "execute_result"
    },
    {
     "data": {
      "image/png": "[encoded data removed]",
      "text/plain": [
       "<Figure size 432x288 with 1 Axes>"
      ]
     },
     "metadata": {},
     "output_type": "display_data"
    }
   ],
   "source": [
    "sns.distplot(data['Multi_Score'], bins=20)"
   ]
  },
  {
   "cell_type": "code",
   "execution_count": 109,
   "metadata": {},
   "outputs": [
    {
     "data": {
      "text/plain": [
       "2.0     26\n",
       "1.0     21\n",
       "3.5      8\n",
       "3.8      6\n",
       "1.8      6\n",
       "4.0      6\n",
       "3.9      2\n",
       "1.7      2\n",
       "7.8      2\n",
       "24.0     2\n",
       "3.0      2\n",
       "0.5      2\n",
       "8.0      1\n",
       "Name: RAM_GB, dtype: int64"
      ]
     },
     "execution_count": 109,
     "metadata": {},
     "output_type": "execute_result"
    }
   ],
   "source": [
    "data['RAM_GB'].value_counts()"
   ]
  },
  {
   "cell_type": "code",
   "execution_count": 105,
   "metadata": {},
   "outputs": [
    {
     "data": {
      "image/png": "[encoded data removed]",
      "text/plain": [
       "<Figure size 432x288 with 1 Axes>"
      ]
     },
     "metadata": {},
     "output_type": "display_data"
    }
   ],
   "source": [
    "plt.scatter(data.RAM_GB,data.Price)\n",
    "plt.xlabel('RAM (GB)')\n",
    "plt.ylabel('Price')\n",
    "plt.title('RAM (GB) vs Price')\n",
    "plt.show()"
   ]
  },
  {
   "cell_type": "code",
   "execution_count": 100,
   "metadata": {},
   "outputs": [
    {
     "data": {
      "text/html": [
       "<table class=\"simpletable\">\n",
       "<caption>OLS Regression Results</caption>\n",
       "<tr>\n",
       "  <th>Dep. Variable:</th>          <td>Price</td>      <th>  R-squared:         </th> <td>   0.401</td>\n",
       "</tr>\n",
       "<tr>\n",
       "  <th>Model:</th>                   <td>OLS</td>       <th>  Adj. R-squared:    </th> <td>   0.390</td>\n",
       "</tr>\n",
       "<tr>\n",
       "  <th>Method:</th>             <td>Least Squares</td>  <th>  F-statistic:       </th> <td>   38.09</td>\n",
       "</tr>\n",
       "<tr>\n",
       "  <th>Date:</th>             <td>Thu, 18 Apr 2019</td> <th>  Prob (F-statistic):</th> <td>7.53e-08</td>\n",
       "</tr>\n",
       "<tr>\n",
       "  <th>Time:</th>                 <td>10:21:34</td>     <th>  Log-Likelihood:    </th> <td>  152.11</td>\n",
       "</tr>\n",
       "<tr>\n",
       "  <th>No. Observations:</th>      <td>    59</td>      <th>  AIC:               </th> <td>  -300.2</td>\n",
       "</tr>\n",
       "<tr>\n",
       "  <th>Df Residuals:</th>          <td>    57</td>      <th>  BIC:               </th> <td>  -296.1</td>\n",
       "</tr>\n",
       "<tr>\n",
       "  <th>Df Model:</th>              <td>     1</td>      <th>                     </th>     <td> </td>   \n",
       "</tr>\n",
       "<tr>\n",
       "  <th>Covariance Type:</th>      <td>nonrobust</td>    <th>                     </th>     <td> </td>   \n",
       "</tr>\n",
       "</table>\n",
       "<table class=\"simpletable\">\n",
       "<tr>\n",
       "      <td></td>         <th>coef</th>     <th>std err</th>      <th>t</th>      <th>P>|t|</th>  <th>[0.025</th>    <th>0.975]</th>  \n",
       "</tr>\n",
       "<tr>\n",
       "  <th>Intercept</th> <td>    0.0218</td> <td>    0.003</td> <td>    7.316</td> <td> 0.000</td> <td>    0.016</td> <td>    0.028</td>\n",
       "</tr>\n",
       "<tr>\n",
       "  <th>RAM_GB</th>    <td>    0.0037</td> <td>    0.001</td> <td>    6.171</td> <td> 0.000</td> <td>    0.002</td> <td>    0.005</td>\n",
       "</tr>\n",
       "</table>\n",
       "<table class=\"simpletable\">\n",
       "<tr>\n",
       "  <th>Omnibus:</th>       <td> 7.354</td> <th>  Durbin-Watson:     </th> <td>   0.560</td>\n",
       "</tr>\n",
       "<tr>\n",
       "  <th>Prob(Omnibus):</th> <td> 0.025</td> <th>  Jarque-Bera (JB):  </th> <td>   7.188</td>\n",
       "</tr>\n",
       "<tr>\n",
       "  <th>Skew:</th>          <td> 0.799</td> <th>  Prob(JB):          </th> <td>  0.0275</td>\n",
       "</tr>\n",
       "<tr>\n",
       "  <th>Kurtosis:</th>      <td> 2.391</td> <th>  Cond. No.          </th> <td>    6.26</td>\n",
       "</tr>\n",
       "</table><br/><br/>Warnings:<br/>[1] Standard Errors assume that the covariance matrix of the errors is correctly specified."
      ],
      "text/plain": [
       "<class 'statsmodels.iolib.summary.Summary'>\n",
       "\"\"\"\n",
       "                            OLS Regression Results                            \n",
       "==============================================================================\n",
       "Dep. Variable:                  Price   R-squared:                       0.401\n",
       "Model:                            OLS   Adj. R-squared:                  0.390\n",
       "Method:                 Least Squares   F-statistic:                     38.09\n",
       "Date:                Thu, 18 Apr 2019   Prob (F-statistic):           7.53e-08\n",
       "Time:                        10:21:34   Log-Likelihood:                 152.11\n",
       "No. Observations:                  59   AIC:                            -300.2\n",
       "Df Residuals:                      57   BIC:                            -296.1\n",
       "Df Model:                           1                                         \n",
       "Covariance Type:            nonrobust                                         \n",
       "==============================================================================\n",
       "                 coef    std err          t      P>|t|      [0.025      0.975]\n",
       "------------------------------------------------------------------------------\n",
       "Intercept      0.0218      0.003      7.316      0.000       0.016       0.028\n",
       "RAM_GB         0.0037      0.001      6.171      0.000       0.002       0.005\n",
       "==============================================================================\n",
       "Omnibus:                        7.354   Durbin-Watson:                   0.560\n",
       "Prob(Omnibus):                  0.025   Jarque-Bera (JB):                7.188\n",
       "Skew:                           0.799   Prob(JB):                       0.0275\n",
       "Kurtosis:                       2.391   Cond. No.                         6.26\n",
       "==============================================================================\n",
       "\n",
       "Warnings:\n",
       "[1] Standard Errors assume that the covariance matrix of the errors is correctly specified.\n",
       "\"\"\""
      ]
     },
     "execution_count": 100,
     "metadata": {},
     "output_type": "execute_result"
    }
   ],
   "source": [
    "results = smf.ols('Price ~ RAM_GB', data).fit()\n",
    "results.summary()"
   ]
  },
  {
   "cell_type": "code",
   "execution_count": 114,
   "metadata": {
    "scrolled": true
   },
   "outputs": [
    {
     "data": {
      "image/png": "[encoded data removed]",
      "text/plain": [
       "<Figure size 432x288 with 1 Axes>"
      ]
     },
     "metadata": {},
     "output_type": "display_data"
    }
   ],
   "source": [
    "plt.scatter(data.RAM_GB,data.Single_Score)\n",
    "plt.show()"
   ]
  },
  {
   "cell_type": "code",
   "execution_count": 115,
   "metadata": {},
   "outputs": [
    {
     "data": {
      "image/png": "[encoded data removed]",
      "text/plain": [
       "<Figure size 432x288 with 1 Axes>"
      ]
     },
     "metadata": {},
     "output_type": "display_data"
    }
   ],
   "source": [
    "plt.scatter(data.Single_Score,data.RAM_GB)\n",
    "plt.show()"
   ]
  },
  {
   "cell_type": "code",
   "execution_count": 99,
   "metadata": {},
   "outputs": [
    {
     "data": {
      "image/png": "[encoded data removed]",
      "text/plain": [
       "<Figure size 432x288 with 1 Axes>"
      ]
     },
     "metadata": {},
     "output_type": "display_data"
    }
   ],
   "source": [
    "plt.scatter(data.RAM_GB,data.Multi_Score)\n",
    "# plt.xlabel('RAM (GB)')\n",
    "# plt.ylabel('Price')\n",
    "# plt.title('RAM (GB) vs Price')\n",
    "plt.show()"
   ]
  },
  {
   "cell_type": "code",
   "execution_count": null,
   "metadata": {},
   "outputs": [],
   "source": []
  }
 ],
 "metadata": {
  "kernelspec": {
   "display_name": "Python 3",
   "language": "python",
   "name": "python3"
  },
  "language_info": {
   "codemirror_mode": {
    "name": "ipython",
    "version": 3
   },
   "file_extension": ".py",
   "mimetype": "text/x-python",
   "name": "python",
   "nbconvert_exporter": "python",
   "pygments_lexer": "ipython3",
   "version": "3.7.1"
  }
 },
 "nbformat": 4,
 "nbformat_minor": 2
}

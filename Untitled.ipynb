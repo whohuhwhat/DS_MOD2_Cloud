{
 "cells": [
  {
   "cell_type": "code",
   "execution_count": 177,
   "metadata": {},
   "outputs": [],
   "source": [
    "import seaborn as sns\n",
    "import matplotlib.pyplot as plt\n",
    "import statsmodels.api as sm\n",
    "import statsmodels.stats.api as sms\n",
    "import statsmodels.formula.api as smf\n",
    "import scipy.stats as stats\n",
    "from statsmodels.formula.api import ols\n",
    "import pandas as pd\n",
    "import numpy as np"
   ]
  },
  {
   "cell_type": "markdown",
   "metadata": {},
   "source": [
    "Single Core represents single threaded performace, faster CPUS generally score better here.  Multi Core Score represents multi threaded performance, CPUS with more cores generally score better here."
   ]
  },
  {
   "cell_type": "code",
   "execution_count": 14,
   "metadata": {},
   "outputs": [
    {
     "data": {
      "text/html": [
       "<div>\n",
       "<style scoped>\n",
       "    .dataframe tbody tr th:only-of-type {\n",
       "        vertical-align: middle;\n",
       "    }\n",
       "\n",
       "    .dataframe tbody tr th {\n",
       "        vertical-align: top;\n",
       "    }\n",
       "\n",
       "    .dataframe thead th {\n",
       "        text-align: right;\n",
       "    }\n",
       "</style>\n",
       "<table border=\"1\" class=\"dataframe\">\n",
       "  <thead>\n",
       "    <tr style=\"text-align: right;\">\n",
       "      <th></th>\n",
       "      <th>Location</th>\n",
       "      <th>Provider</th>\n",
       "      <th>Category</th>\n",
       "      <th>VM</th>\n",
       "      <th>CPU</th>\n",
       "      <th>RAM (GB)</th>\n",
       "      <th>Single Score</th>\n",
       "      <th>Multi Score</th>\n",
       "      <th>Price</th>\n",
       "      <th>Price Score</th>\n",
       "    </tr>\n",
       "  </thead>\n",
       "  <tbody>\n",
       "    <tr>\n",
       "      <th>0</th>\n",
       "      <td>Worldwide</td>\n",
       "      <td>1&amp;1</td>\n",
       "      <td>General Purpose</td>\n",
       "      <td>M</td>\n",
       "      <td>1</td>\n",
       "      <td>1.0</td>\n",
       "      <td>2298</td>\n",
       "      <td>2963</td>\n",
       "      <td>0.013</td>\n",
       "      <td>2202.0</td>\n",
       "    </tr>\n",
       "    <tr>\n",
       "      <th>1</th>\n",
       "      <td>NaN</td>\n",
       "      <td>1&amp;1</td>\n",
       "      <td>General Purpose</td>\n",
       "      <td>M</td>\n",
       "      <td>1</td>\n",
       "      <td>1.0</td>\n",
       "      <td>2998</td>\n",
       "      <td>2863</td>\n",
       "      <td>0.013</td>\n",
       "      <td>2202.0</td>\n",
       "    </tr>\n",
       "    <tr>\n",
       "      <th>2</th>\n",
       "      <td>Worldwide</td>\n",
       "      <td>1&amp;1</td>\n",
       "      <td>General Purpose</td>\n",
       "      <td>S</td>\n",
       "      <td>1</td>\n",
       "      <td>0.5</td>\n",
       "      <td>2919</td>\n",
       "      <td>2794</td>\n",
       "      <td>0.007</td>\n",
       "      <td>3978.0</td>\n",
       "    </tr>\n",
       "    <tr>\n",
       "      <th>3</th>\n",
       "      <td>NaN</td>\n",
       "      <td>1&amp;1</td>\n",
       "      <td>General Purpose</td>\n",
       "      <td>S</td>\n",
       "      <td>1</td>\n",
       "      <td>0.5</td>\n",
       "      <td>2919</td>\n",
       "      <td>2794</td>\n",
       "      <td>0.007</td>\n",
       "      <td>3978.0</td>\n",
       "    </tr>\n",
       "    <tr>\n",
       "      <th>4</th>\n",
       "      <td>Worldwide</td>\n",
       "      <td>Amazon Web Services</td>\n",
       "      <td>Burstable Performance</td>\n",
       "      <td>t2.micro</td>\n",
       "      <td>1</td>\n",
       "      <td>1.0</td>\n",
       "      <td>3259</td>\n",
       "      <td>3106</td>\n",
       "      <td>0.012</td>\n",
       "      <td>2588.0</td>\n",
       "    </tr>\n",
       "  </tbody>\n",
       "</table>\n",
       "</div>"
      ],
      "text/plain": [
       "    Location             Provider               Category        VM  CPU  \\\n",
       "0  Worldwide                  1&1        General Purpose         M    1   \n",
       "1        NaN                  1&1        General Purpose         M    1   \n",
       "2  Worldwide                  1&1        General Purpose         S    1   \n",
       "3        NaN                  1&1        General Purpose         S    1   \n",
       "4  Worldwide  Amazon Web Services  Burstable Performance  t2.micro    1   \n",
       "\n",
       "   RAM (GB)  Single Score  Multi Score  Price  Price Score  \n",
       "0       1.0          2298         2963  0.013       2202.0  \n",
       "1       1.0          2998         2863  0.013       2202.0  \n",
       "2       0.5          2919         2794  0.007       3978.0  \n",
       "3       0.5          2919         2794  0.007       3978.0  \n",
       "4       1.0          3259         3106  0.012       2588.0  "
      ]
     },
     "execution_count": 14,
     "metadata": {},
     "output_type": "execute_result"
    }
   ],
   "source": [
    "data = pd.read_csv(\"Compute Score.csv\") \n",
    "data.head()"
   ]
  },
  {
   "cell_type": "code",
   "execution_count": 4,
   "metadata": {},
   "outputs": [
    {
     "data": {
      "text/html": [
       "<div>\n",
       "<style scoped>\n",
       "    .dataframe tbody tr th:only-of-type {\n",
       "        vertical-align: middle;\n",
       "    }\n",
       "\n",
       "    .dataframe tbody tr th {\n",
       "        vertical-align: top;\n",
       "    }\n",
       "\n",
       "    .dataframe thead th {\n",
       "        text-align: right;\n",
       "    }\n",
       "</style>\n",
       "<table border=\"1\" class=\"dataframe\">\n",
       "  <thead>\n",
       "    <tr style=\"text-align: right;\">\n",
       "      <th></th>\n",
       "      <th>CPU</th>\n",
       "      <th>RAM (GB)</th>\n",
       "      <th>Single Score</th>\n",
       "      <th>Multi Score</th>\n",
       "      <th>Price</th>\n",
       "      <th>Price Score</th>\n",
       "    </tr>\n",
       "  </thead>\n",
       "  <tbody>\n",
       "    <tr>\n",
       "      <th>count</th>\n",
       "      <td>86.0</td>\n",
       "      <td>86.000000</td>\n",
       "      <td>86.000000</td>\n",
       "      <td>86.000000</td>\n",
       "      <td>59.000000</td>\n",
       "      <td>59.000000</td>\n",
       "    </tr>\n",
       "    <tr>\n",
       "      <th>mean</th>\n",
       "      <td>1.0</td>\n",
       "      <td>2.888372</td>\n",
       "      <td>2822.581395</td>\n",
       "      <td>2828.546512</td>\n",
       "      <td>0.032454</td>\n",
       "      <td>1672.559322</td>\n",
       "    </tr>\n",
       "    <tr>\n",
       "      <th>std</th>\n",
       "      <td>0.0</td>\n",
       "      <td>3.597366</td>\n",
       "      <td>618.968544</td>\n",
       "      <td>965.285275</td>\n",
       "      <td>0.023930</td>\n",
       "      <td>1337.119914</td>\n",
       "    </tr>\n",
       "    <tr>\n",
       "      <th>min</th>\n",
       "      <td>1.0</td>\n",
       "      <td>0.500000</td>\n",
       "      <td>878.000000</td>\n",
       "      <td>849.000000</td>\n",
       "      <td>0.007000</td>\n",
       "      <td>236.000000</td>\n",
       "    </tr>\n",
       "    <tr>\n",
       "      <th>25%</th>\n",
       "      <td>1.0</td>\n",
       "      <td>1.000000</td>\n",
       "      <td>2506.250000</td>\n",
       "      <td>2673.500000</td>\n",
       "      <td>0.013500</td>\n",
       "      <td>600.000000</td>\n",
       "    </tr>\n",
       "    <tr>\n",
       "      <th>50%</th>\n",
       "      <td>1.0</td>\n",
       "      <td>2.000000</td>\n",
       "      <td>2974.500000</td>\n",
       "      <td>2862.500000</td>\n",
       "      <td>0.023000</td>\n",
       "      <td>1203.000000</td>\n",
       "    </tr>\n",
       "    <tr>\n",
       "      <th>75%</th>\n",
       "      <td>1.0</td>\n",
       "      <td>3.500000</td>\n",
       "      <td>3146.500000</td>\n",
       "      <td>3020.500000</td>\n",
       "      <td>0.048000</td>\n",
       "      <td>2311.500000</td>\n",
       "    </tr>\n",
       "    <tr>\n",
       "      <th>max</th>\n",
       "      <td>1.0</td>\n",
       "      <td>24.000000</td>\n",
       "      <td>4196.000000</td>\n",
       "      <td>8211.000000</td>\n",
       "      <td>0.090000</td>\n",
       "      <td>4974.000000</td>\n",
       "    </tr>\n",
       "  </tbody>\n",
       "</table>\n",
       "</div>"
      ],
      "text/plain": [
       "        CPU   RAM (GB)  Single Score  Multi Score      Price  Price Score\n",
       "count  86.0  86.000000     86.000000    86.000000  59.000000    59.000000\n",
       "mean    1.0   2.888372   2822.581395  2828.546512   0.032454  1672.559322\n",
       "std     0.0   3.597366    618.968544   965.285275   0.023930  1337.119914\n",
       "min     1.0   0.500000    878.000000   849.000000   0.007000   236.000000\n",
       "25%     1.0   1.000000   2506.250000  2673.500000   0.013500   600.000000\n",
       "50%     1.0   2.000000   2974.500000  2862.500000   0.023000  1203.000000\n",
       "75%     1.0   3.500000   3146.500000  3020.500000   0.048000  2311.500000\n",
       "max     1.0  24.000000   4196.000000  8211.000000   0.090000  4974.000000"
      ]
     },
     "execution_count": 4,
     "metadata": {},
     "output_type": "execute_result"
    }
   ],
   "source": [
    "data.describe()"
   ]
  },
  {
   "cell_type": "code",
   "execution_count": 15,
   "metadata": {},
   "outputs": [
    {
     "data": {
      "text/html": [
       "<div>\n",
       "<style scoped>\n",
       "    .dataframe tbody tr th:only-of-type {\n",
       "        vertical-align: middle;\n",
       "    }\n",
       "\n",
       "    .dataframe tbody tr th {\n",
       "        vertical-align: top;\n",
       "    }\n",
       "\n",
       "    .dataframe thead th {\n",
       "        text-align: right;\n",
       "    }\n",
       "</style>\n",
       "<table border=\"1\" class=\"dataframe\">\n",
       "  <thead>\n",
       "    <tr style=\"text-align: right;\">\n",
       "      <th></th>\n",
       "      <th>Location</th>\n",
       "      <th>Provider</th>\n",
       "      <th>VM</th>\n",
       "      <th>Size</th>\n",
       "      <th>Volume Type</th>\n",
       "      <th>Read IOPS</th>\n",
       "      <th>Write IOPS</th>\n",
       "      <th>Read Bandwidth</th>\n",
       "      <th>Write Bandwidth</th>\n",
       "    </tr>\n",
       "  </thead>\n",
       "  <tbody>\n",
       "    <tr>\n",
       "      <th>0</th>\n",
       "      <td>Worldwide</td>\n",
       "      <td>1&amp;1</td>\n",
       "      <td>M</td>\n",
       "      <td>50</td>\n",
       "      <td>SSD</td>\n",
       "      <td>175077</td>\n",
       "      <td>26983</td>\n",
       "      <td>613</td>\n",
       "      <td>264</td>\n",
       "    </tr>\n",
       "    <tr>\n",
       "      <th>1</th>\n",
       "      <td>Worldwide</td>\n",
       "      <td>1&amp;1</td>\n",
       "      <td>S</td>\n",
       "      <td>50</td>\n",
       "      <td>SSD</td>\n",
       "      <td>180611</td>\n",
       "      <td>33262</td>\n",
       "      <td>614</td>\n",
       "      <td>501</td>\n",
       "    </tr>\n",
       "    <tr>\n",
       "      <th>2</th>\n",
       "      <td>Worldwide</td>\n",
       "      <td>Google Cloud Platform</td>\n",
       "      <td>n1-standard-1 Intel Broadwell</td>\n",
       "      <td>30</td>\n",
       "      <td>SSD Persistent Disk</td>\n",
       "      <td>2611</td>\n",
       "      <td>1697</td>\n",
       "      <td>41</td>\n",
       "      <td>41</td>\n",
       "    </tr>\n",
       "    <tr>\n",
       "      <th>3</th>\n",
       "      <td>Worldwide</td>\n",
       "      <td>Google Cloud Platform</td>\n",
       "      <td>n1-standard-1 Intel Broadwell</td>\n",
       "      <td>50</td>\n",
       "      <td>SSD Persistent Disk</td>\n",
       "      <td>2611</td>\n",
       "      <td>2489</td>\n",
       "      <td>41</td>\n",
       "      <td>42</td>\n",
       "    </tr>\n",
       "    <tr>\n",
       "      <th>4</th>\n",
       "      <td>Worldwide</td>\n",
       "      <td>Microsoft Azure</td>\n",
       "      <td>Basic_A0</td>\n",
       "      <td>50</td>\n",
       "      <td>No cache Standard LRS</td>\n",
       "      <td>501</td>\n",
       "      <td>503</td>\n",
       "      <td>60</td>\n",
       "      <td>59</td>\n",
       "    </tr>\n",
       "  </tbody>\n",
       "</table>\n",
       "</div>"
      ],
      "text/plain": [
       "    Location               Provider                             VM  Size  \\\n",
       "0  Worldwide                    1&1                              M    50   \n",
       "1  Worldwide                    1&1                              S    50   \n",
       "2  Worldwide  Google Cloud Platform  n1-standard-1 Intel Broadwell    30   \n",
       "3  Worldwide  Google Cloud Platform  n1-standard-1 Intel Broadwell    50   \n",
       "4  Worldwide        Microsoft Azure                      Basic_A0     50   \n",
       "\n",
       "             Volume Type  Read IOPS  Write IOPS  Read Bandwidth  \\\n",
       "0                    SSD     175077       26983             613   \n",
       "1                    SSD     180611       33262             614   \n",
       "2    SSD Persistent Disk       2611        1697              41   \n",
       "3    SSD Persistent Disk       2611        2489              41   \n",
       "4  No cache Standard LRS        501         503              60   \n",
       "\n",
       "   Write Bandwidth  \n",
       "0              264  \n",
       "1              501  \n",
       "2               41  \n",
       "3               42  \n",
       "4               59  "
      ]
     },
     "execution_count": 15,
     "metadata": {},
     "output_type": "execute_result"
    }
   ],
   "source": [
    "storage = pd.read_csv(\"Storage Performance.csv\")\n",
    "storage.head()"
   ]
  },
  {
   "cell_type": "code",
   "execution_count": 16,
   "metadata": {},
   "outputs": [
    {
     "data": {
      "text/html": [
       "<div>\n",
       "<style scoped>\n",
       "    .dataframe tbody tr th:only-of-type {\n",
       "        vertical-align: middle;\n",
       "    }\n",
       "\n",
       "    .dataframe tbody tr th {\n",
       "        vertical-align: top;\n",
       "    }\n",
       "\n",
       "    .dataframe thead th {\n",
       "        text-align: right;\n",
       "    }\n",
       "</style>\n",
       "<table border=\"1\" class=\"dataframe\">\n",
       "  <thead>\n",
       "    <tr style=\"text-align: right;\">\n",
       "      <th></th>\n",
       "      <th>Size</th>\n",
       "      <th>Read IOPS</th>\n",
       "      <th>Write IOPS</th>\n",
       "      <th>Read Bandwidth</th>\n",
       "      <th>Write Bandwidth</th>\n",
       "    </tr>\n",
       "  </thead>\n",
       "  <tbody>\n",
       "    <tr>\n",
       "      <th>count</th>\n",
       "      <td>22.000000</td>\n",
       "      <td>22.000000</td>\n",
       "      <td>22.000000</td>\n",
       "      <td>22.000000</td>\n",
       "      <td>22.000000</td>\n",
       "    </tr>\n",
       "    <tr>\n",
       "      <th>mean</th>\n",
       "      <td>43.636364</td>\n",
       "      <td>17267.181818</td>\n",
       "      <td>3473.818182</td>\n",
       "      <td>173.909091</td>\n",
       "      <td>110.681818</td>\n",
       "    </tr>\n",
       "    <tr>\n",
       "      <th>std</th>\n",
       "      <td>9.534626</td>\n",
       "      <td>51989.479968</td>\n",
       "      <td>8726.173894</td>\n",
       "      <td>235.214575</td>\n",
       "      <td>149.725268</td>\n",
       "    </tr>\n",
       "    <tr>\n",
       "      <th>min</th>\n",
       "      <td>30.000000</td>\n",
       "      <td>243.000000</td>\n",
       "      <td>109.000000</td>\n",
       "      <td>31.000000</td>\n",
       "      <td>21.000000</td>\n",
       "    </tr>\n",
       "    <tr>\n",
       "      <th>25%</th>\n",
       "      <td>30.000000</td>\n",
       "      <td>504.000000</td>\n",
       "      <td>268.750000</td>\n",
       "      <td>41.000000</td>\n",
       "      <td>34.250000</td>\n",
       "    </tr>\n",
       "    <tr>\n",
       "      <th>50%</th>\n",
       "      <td>50.000000</td>\n",
       "      <td>676.500000</td>\n",
       "      <td>502.000000</td>\n",
       "      <td>60.000000</td>\n",
       "      <td>52.500000</td>\n",
       "    </tr>\n",
       "    <tr>\n",
       "      <th>75%</th>\n",
       "      <td>50.000000</td>\n",
       "      <td>2464.750000</td>\n",
       "      <td>1400.000000</td>\n",
       "      <td>177.750000</td>\n",
       "      <td>59.000000</td>\n",
       "    </tr>\n",
       "    <tr>\n",
       "      <th>max</th>\n",
       "      <td>50.000000</td>\n",
       "      <td>180611.000000</td>\n",
       "      <td>33262.000000</td>\n",
       "      <td>719.000000</td>\n",
       "      <td>501.000000</td>\n",
       "    </tr>\n",
       "  </tbody>\n",
       "</table>\n",
       "</div>"
      ],
      "text/plain": [
       "            Size      Read IOPS    Write IOPS  Read Bandwidth  Write Bandwidth\n",
       "count  22.000000      22.000000     22.000000       22.000000        22.000000\n",
       "mean   43.636364   17267.181818   3473.818182      173.909091       110.681818\n",
       "std     9.534626   51989.479968   8726.173894      235.214575       149.725268\n",
       "min    30.000000     243.000000    109.000000       31.000000        21.000000\n",
       "25%    30.000000     504.000000    268.750000       41.000000        34.250000\n",
       "50%    50.000000     676.500000    502.000000       60.000000        52.500000\n",
       "75%    50.000000    2464.750000   1400.000000      177.750000        59.000000\n",
       "max    50.000000  180611.000000  33262.000000      719.000000       501.000000"
      ]
     },
     "execution_count": 16,
     "metadata": {},
     "output_type": "execute_result"
    }
   ],
   "source": [
    "storage.describe()"
   ]
  },
  {
   "cell_type": "code",
   "execution_count": 17,
   "metadata": {},
   "outputs": [
    {
     "data": {
      "text/plain": [
       "Ttest_indResult(statistic=-0.048241649974128276, pvalue=0.9615802854492471)"
      ]
     },
     "execution_count": 17,
     "metadata": {},
     "output_type": "execute_result"
    }
   ],
   "source": [
    "stats.ttest_ind(data[\"Single Score\"], data[\"Multi Score\"])"
   ]
  },
  {
   "cell_type": "code",
   "execution_count": 18,
   "metadata": {},
   "outputs": [
    {
     "data": {
      "text/plain": [
       "Index(['Location', 'Provider', 'Category', 'VM', 'CPU', 'RAM (GB)',\n",
       "       'Single Score', 'Multi Score', 'Price', 'Price Score'],\n",
       "      dtype='object')"
      ]
     },
     "execution_count": 18,
     "metadata": {},
     "output_type": "execute_result"
    }
   ],
   "source": [
    "data.columns"
   ]
  },
  {
   "cell_type": "code",
   "execution_count": 20,
   "metadata": {},
   "outputs": [],
   "source": [
    "data.rename(index=str, columns={\"RAM (GB)\": \"RAM_GB\", \"Single Score\": \"Single_Score\", \"Multi Score\": \"Multi_Score\", \"Price Score\": \"Price_Score\"}, inplace=True)"
   ]
  },
  {
   "cell_type": "code",
   "execution_count": 64,
   "metadata": {},
   "outputs": [
    {
     "data": {
      "text/html": [
       "<div>\n",
       "<style scoped>\n",
       "    .dataframe tbody tr th:only-of-type {\n",
       "        vertical-align: middle;\n",
       "    }\n",
       "\n",
       "    .dataframe tbody tr th {\n",
       "        vertical-align: top;\n",
       "    }\n",
       "\n",
       "    .dataframe thead th {\n",
       "        text-align: right;\n",
       "    }\n",
       "</style>\n",
       "<table border=\"1\" class=\"dataframe\">\n",
       "  <thead>\n",
       "    <tr style=\"text-align: right;\">\n",
       "      <th></th>\n",
       "      <th>Location</th>\n",
       "      <th>Provider</th>\n",
       "      <th>Category</th>\n",
       "      <th>VM</th>\n",
       "      <th>CPU</th>\n",
       "      <th>RAM_GB</th>\n",
       "      <th>Single_Score</th>\n",
       "      <th>Multi_Score</th>\n",
       "      <th>Price</th>\n",
       "      <th>Price_Score</th>\n",
       "    </tr>\n",
       "  </thead>\n",
       "  <tbody>\n",
       "    <tr>\n",
       "      <th>0</th>\n",
       "      <td>Worldwide</td>\n",
       "      <td>1&amp;1</td>\n",
       "      <td>General Purpose</td>\n",
       "      <td>M</td>\n",
       "      <td>1</td>\n",
       "      <td>1.0</td>\n",
       "      <td>2298</td>\n",
       "      <td>2963</td>\n",
       "      <td>0.013</td>\n",
       "      <td>2202.0</td>\n",
       "    </tr>\n",
       "    <tr>\n",
       "      <th>1</th>\n",
       "      <td>NaN</td>\n",
       "      <td>1&amp;1</td>\n",
       "      <td>General Purpose</td>\n",
       "      <td>M</td>\n",
       "      <td>1</td>\n",
       "      <td>1.0</td>\n",
       "      <td>2998</td>\n",
       "      <td>2863</td>\n",
       "      <td>0.013</td>\n",
       "      <td>2202.0</td>\n",
       "    </tr>\n",
       "    <tr>\n",
       "      <th>2</th>\n",
       "      <td>Worldwide</td>\n",
       "      <td>1&amp;1</td>\n",
       "      <td>General Purpose</td>\n",
       "      <td>S</td>\n",
       "      <td>1</td>\n",
       "      <td>0.5</td>\n",
       "      <td>2919</td>\n",
       "      <td>2794</td>\n",
       "      <td>0.007</td>\n",
       "      <td>3978.0</td>\n",
       "    </tr>\n",
       "    <tr>\n",
       "      <th>3</th>\n",
       "      <td>NaN</td>\n",
       "      <td>1&amp;1</td>\n",
       "      <td>General Purpose</td>\n",
       "      <td>S</td>\n",
       "      <td>1</td>\n",
       "      <td>0.5</td>\n",
       "      <td>2919</td>\n",
       "      <td>2794</td>\n",
       "      <td>0.007</td>\n",
       "      <td>3978.0</td>\n",
       "    </tr>\n",
       "    <tr>\n",
       "      <th>4</th>\n",
       "      <td>Worldwide</td>\n",
       "      <td>Amazon Web Services</td>\n",
       "      <td>Burstable Performance</td>\n",
       "      <td>t2.micro</td>\n",
       "      <td>1</td>\n",
       "      <td>1.0</td>\n",
       "      <td>3259</td>\n",
       "      <td>3106</td>\n",
       "      <td>0.012</td>\n",
       "      <td>2588.0</td>\n",
       "    </tr>\n",
       "  </tbody>\n",
       "</table>\n",
       "</div>"
      ],
      "text/plain": [
       "    Location             Provider               Category        VM  CPU  \\\n",
       "0  Worldwide                  1&1        General Purpose         M    1   \n",
       "1        NaN                  1&1        General Purpose         M    1   \n",
       "2  Worldwide                  1&1        General Purpose         S    1   \n",
       "3        NaN                  1&1        General Purpose         S    1   \n",
       "4  Worldwide  Amazon Web Services  Burstable Performance  t2.micro    1   \n",
       "\n",
       "   RAM_GB  Single_Score  Multi_Score  Price  Price_Score  \n",
       "0     1.0          2298         2963  0.013       2202.0  \n",
       "1     1.0          2998         2863  0.013       2202.0  \n",
       "2     0.5          2919         2794  0.007       3978.0  \n",
       "3     0.5          2919         2794  0.007       3978.0  \n",
       "4     1.0          3259         3106  0.012       2588.0  "
      ]
     },
     "execution_count": 64,
     "metadata": {},
     "output_type": "execute_result"
    }
   ],
   "source": [
    "data.head()"
   ]
  },
  {
   "cell_type": "code",
   "execution_count": 22,
   "metadata": {},
   "outputs": [
    {
     "name": "stderr",
     "output_type": "stream",
     "text": [
      "/Users/fhel/anaconda3/lib/python3.7/site-packages/numpy/lib/histograms.py:754: RuntimeWarning: invalid value encountered in greater_equal\n",
      "  keep = (tmp_a >= first_edge)\n",
      "/Users/fhel/anaconda3/lib/python3.7/site-packages/numpy/lib/histograms.py:755: RuntimeWarning: invalid value encountered in less_equal\n",
      "  keep &= (tmp_a <= last_edge)\n"
     ]
    },
    {
     "data": {
      "text/plain": [
       "<seaborn.axisgrid.PairGrid at 0x1a23be2e48>"
      ]
     },
     "execution_count": 22,
     "metadata": {},
     "output_type": "execute_result"
    },
    {
     "data": {
      "image/png": "[encoded data removed]",
      "text/plain": [
       "<Figure size 1080x1080 with 42 Axes>"
      ]
     },
     "metadata": {
      "needs_background": "light"
     },
     "output_type": "display_data"
    }
   ],
   "source": [
    "sns.pairplot(data)"
   ]
  },
  {
   "cell_type": "code",
   "execution_count": 23,
   "metadata": {},
   "outputs": [
    {
     "data": {
      "text/plain": [
       "Ttest_indResult(statistic=-42.244983251550316, pvalue=4.4988647547587305e-92)"
      ]
     },
     "execution_count": 23,
     "metadata": {},
     "output_type": "execute_result"
    }
   ],
   "source": [
    "stats.ttest_ind(data.RAM_GB, data.Single_Score)"
   ]
  },
  {
   "cell_type": "code",
   "execution_count": 108,
   "metadata": {
    "scrolled": true
   },
   "outputs": [
    {
     "data": {
      "text/plain": [
       "Text(0.5, 1.0, 'Price Distribution')"
      ]
     },
     "execution_count": 108,
     "metadata": {},
     "output_type": "execute_result"
    },
    {
     "data": {
      "image/png": "[encoded data removed]",
      "text/plain": [
       "<Figure size 432x288 with 1 Axes>"
      ]
     },
     "metadata": {},
     "output_type": "display_data"
    }
   ],
   "source": [
    "sns.distplot(data['Price'], bins=20).set_title(\"Price Distribution\")"
   ]
  },
  {
   "cell_type": "code",
   "execution_count": 109,
   "metadata": {},
   "outputs": [
    {
     "data": {
      "text/plain": [
       "Text(0.5, 1.0, 'Single Score Distribution')"
      ]
     },
     "execution_count": 109,
     "metadata": {},
     "output_type": "execute_result"
    },
    {
     "data": {
      "image/png": "[encoded data removed]",
      "text/plain": [
       "<Figure size 432x288 with 1 Axes>"
      ]
     },
     "metadata": {},
     "output_type": "display_data"
    }
   ],
   "source": [
    "sns.distplot(data['Single_Score'], bins=20).set_title(\"Single Score Distribution\")"
   ]
  },
  {
   "cell_type": "code",
   "execution_count": 110,
   "metadata": {
    "scrolled": true
   },
   "outputs": [
    {
     "data": {
      "text/plain": [
       "Text(0.5, 1.0, 'Multi Score Distribution')"
      ]
     },
     "execution_count": 110,
     "metadata": {},
     "output_type": "execute_result"
    },
    {
     "data": {
      "image/png": "[encoded data removed]",
      "text/plain": [
       "<Figure size 432x288 with 1 Axes>"
      ]
     },
     "metadata": {},
     "output_type": "display_data"
    }
   ],
   "source": [
    "sns.distplot(data['Multi_Score'], bins=20).set_title(\"Multi Score Distribution\")"
   ]
  },
  {
   "cell_type": "code",
   "execution_count": 78,
   "metadata": {},
   "outputs": [
    {
     "data": {
      "text/plain": [
       "Text(0.5, 1.0, 'Single_Score vs Price')"
      ]
     },
     "execution_count": 78,
     "metadata": {},
     "output_type": "execute_result"
    },
    {
     "data": {
      "image/png": "[encoded data removed]",
      "text/plain": [
       "<Figure size 432x288 with 1 Axes>"
      ]
     },
     "metadata": {
      "needs_background": "light"
     },
     "output_type": "display_data"
    }
   ],
   "source": [
    "sns.scatterplot(x=data['Single_Score'], y=data['Price']).set_title('Single_Score vs Price')"
   ]
  },
  {
   "cell_type": "code",
   "execution_count": 79,
   "metadata": {
    "scrolled": true
   },
   "outputs": [
    {
     "data": {
      "text/plain": [
       "Text(0.5, 1.0, 'Multi_Score vs Price')"
      ]
     },
     "execution_count": 79,
     "metadata": {},
     "output_type": "execute_result"
    },
    {
     "data": {
      "image/png": "[encoded data removed]",
      "text/plain": [
       "<Figure size 432x288 with 1 Axes>"
      ]
     },
     "metadata": {
      "needs_background": "light"
     },
     "output_type": "display_data"
    }
   ],
   "source": [
    "sns.scatterplot(x=data['Multi_Score'], y=data['Price']).set_title('Multi_Score vs Price')"
   ]
  },
  {
   "cell_type": "code",
   "execution_count": 81,
   "metadata": {},
   "outputs": [
    {
     "data": {
      "text/plain": [
       "Text(0.5, 1.0, 'RAM (GB) vs Price')"
      ]
     },
     "execution_count": 81,
     "metadata": {},
     "output_type": "execute_result"
    },
    {
     "data": {
      "image/png": "[encoded data removed]",
      "text/plain": [
       "<Figure size 432x288 with 1 Axes>"
      ]
     },
     "metadata": {
      "needs_background": "light"
     },
     "output_type": "display_data"
    }
   ],
   "source": [
    "sns.scatterplot(x=data2['RAM_GB'], y=data['Price']).set_title('RAM (GB) vs Price')"
   ]
  },
  {
   "cell_type": "code",
   "execution_count": 35,
   "metadata": {},
   "outputs": [
    {
     "data": {
      "text/plain": [
       "Microsoft Azure                 22\n",
       "DigitalOcean                    10\n",
       "Joyent                           8\n",
       "T-Systems Open Telekom Cloud     7\n",
       "Google Cloud Platform            6\n",
       "Linode                           6\n",
       "IBM Softlayer                    6\n",
       "Vultr                            4\n",
       "Amazon Web Services              4\n",
       "1&1                              4\n",
       "UpCloud                          4\n",
       "OVH Group                        4\n",
       "Exoscale                         1\n",
       "Name: Provider, dtype: int64"
      ]
     },
     "execution_count": 35,
     "metadata": {},
     "output_type": "execute_result"
    }
   ],
   "source": [
    "data['Provider'].value_counts()"
   ]
  },
  {
   "cell_type": "code",
   "execution_count": 102,
   "metadata": {},
   "outputs": [
    {
     "data": {
      "text/plain": [
       "count      86.000000\n",
       "mean     2822.581395\n",
       "std       618.968544\n",
       "min       878.000000\n",
       "25%      2506.250000\n",
       "50%      2974.500000\n",
       "75%      3146.500000\n",
       "max      4196.000000\n",
       "Name: Single_Score, dtype: float64"
      ]
     },
     "execution_count": 102,
     "metadata": {},
     "output_type": "execute_result"
    }
   ],
   "source": [
    "data['Single_Score'].describe()"
   ]
  },
  {
   "cell_type": "code",
   "execution_count": 104,
   "metadata": {
    "scrolled": true
   },
   "outputs": [
    {
     "data": {
      "text/html": [
       "<div>\n",
       "<style scoped>\n",
       "    .dataframe tbody tr th:only-of-type {\n",
       "        vertical-align: middle;\n",
       "    }\n",
       "\n",
       "    .dataframe tbody tr th {\n",
       "        vertical-align: top;\n",
       "    }\n",
       "\n",
       "    .dataframe thead th {\n",
       "        text-align: right;\n",
       "    }\n",
       "</style>\n",
       "<table border=\"1\" class=\"dataframe\">\n",
       "  <thead>\n",
       "    <tr style=\"text-align: right;\">\n",
       "      <th></th>\n",
       "      <th>Location</th>\n",
       "      <th>Provider</th>\n",
       "      <th>Category</th>\n",
       "      <th>VM</th>\n",
       "      <th>CPU</th>\n",
       "      <th>RAM_GB</th>\n",
       "      <th>Single_Score</th>\n",
       "      <th>Multi_Score</th>\n",
       "      <th>Price</th>\n",
       "      <th>Price_Score</th>\n",
       "    </tr>\n",
       "  </thead>\n",
       "  <tbody>\n",
       "    <tr>\n",
       "      <th>0</th>\n",
       "      <td>Worldwide</td>\n",
       "      <td>1&amp;1</td>\n",
       "      <td>General Purpose</td>\n",
       "      <td>M</td>\n",
       "      <td>1</td>\n",
       "      <td>1.0</td>\n",
       "      <td>2298</td>\n",
       "      <td>2963</td>\n",
       "      <td>0.013</td>\n",
       "      <td>2202.0</td>\n",
       "    </tr>\n",
       "    <tr>\n",
       "      <th>1</th>\n",
       "      <td>NaN</td>\n",
       "      <td>1&amp;1</td>\n",
       "      <td>General Purpose</td>\n",
       "      <td>M</td>\n",
       "      <td>1</td>\n",
       "      <td>1.0</td>\n",
       "      <td>2998</td>\n",
       "      <td>2863</td>\n",
       "      <td>0.013</td>\n",
       "      <td>2202.0</td>\n",
       "    </tr>\n",
       "    <tr>\n",
       "      <th>2</th>\n",
       "      <td>Worldwide</td>\n",
       "      <td>1&amp;1</td>\n",
       "      <td>General Purpose</td>\n",
       "      <td>S</td>\n",
       "      <td>1</td>\n",
       "      <td>0.5</td>\n",
       "      <td>2919</td>\n",
       "      <td>2794</td>\n",
       "      <td>0.007</td>\n",
       "      <td>3978.0</td>\n",
       "    </tr>\n",
       "    <tr>\n",
       "      <th>3</th>\n",
       "      <td>NaN</td>\n",
       "      <td>1&amp;1</td>\n",
       "      <td>General Purpose</td>\n",
       "      <td>S</td>\n",
       "      <td>1</td>\n",
       "      <td>0.5</td>\n",
       "      <td>2919</td>\n",
       "      <td>2794</td>\n",
       "      <td>0.007</td>\n",
       "      <td>3978.0</td>\n",
       "    </tr>\n",
       "    <tr>\n",
       "      <th>4</th>\n",
       "      <td>Worldwide</td>\n",
       "      <td>Amazon Web Services</td>\n",
       "      <td>Burstable Performance</td>\n",
       "      <td>t2.micro</td>\n",
       "      <td>1</td>\n",
       "      <td>1.0</td>\n",
       "      <td>3259</td>\n",
       "      <td>3106</td>\n",
       "      <td>0.012</td>\n",
       "      <td>2588.0</td>\n",
       "    </tr>\n",
       "    <tr>\n",
       "      <th>5</th>\n",
       "      <td>NaN</td>\n",
       "      <td>Amazon Web Services</td>\n",
       "      <td>Burstable Performance</td>\n",
       "      <td>t2.micro</td>\n",
       "      <td>1</td>\n",
       "      <td>1.0</td>\n",
       "      <td>3259</td>\n",
       "      <td>3106</td>\n",
       "      <td>0.012</td>\n",
       "      <td>2588.0</td>\n",
       "    </tr>\n",
       "    <tr>\n",
       "      <th>6</th>\n",
       "      <td>Worldwide</td>\n",
       "      <td>Amazon Web Services</td>\n",
       "      <td>Burstable Performance</td>\n",
       "      <td>t2.small</td>\n",
       "      <td>1</td>\n",
       "      <td>2.0</td>\n",
       "      <td>3264</td>\n",
       "      <td>3117</td>\n",
       "      <td>0.023</td>\n",
       "      <td>1355.0</td>\n",
       "    </tr>\n",
       "    <tr>\n",
       "      <th>7</th>\n",
       "      <td>NaN</td>\n",
       "      <td>Amazon Web Services</td>\n",
       "      <td>Burstable Performance</td>\n",
       "      <td>t2.small</td>\n",
       "      <td>1</td>\n",
       "      <td>2.0</td>\n",
       "      <td>3264</td>\n",
       "      <td>3117</td>\n",
       "      <td>0.023</td>\n",
       "      <td>1355.0</td>\n",
       "    </tr>\n",
       "    <tr>\n",
       "      <th>8</th>\n",
       "      <td>Worldwide</td>\n",
       "      <td>DigitalOcean</td>\n",
       "      <td>General Purpose</td>\n",
       "      <td>1CPU 1GB</td>\n",
       "      <td>1</td>\n",
       "      <td>1.0</td>\n",
       "      <td>2428</td>\n",
       "      <td>2311</td>\n",
       "      <td>0.015</td>\n",
       "      <td>1540.0</td>\n",
       "    </tr>\n",
       "    <tr>\n",
       "      <th>9</th>\n",
       "      <td>NaN</td>\n",
       "      <td>DigitalOcean</td>\n",
       "      <td>General Purpose</td>\n",
       "      <td>1CPU 1GB</td>\n",
       "      <td>1</td>\n",
       "      <td>1.0</td>\n",
       "      <td>2428</td>\n",
       "      <td>2311</td>\n",
       "      <td>0.015</td>\n",
       "      <td>1540.0</td>\n",
       "    </tr>\n",
       "    <tr>\n",
       "      <th>10</th>\n",
       "      <td>Worldwide</td>\n",
       "      <td>DigitalOcean</td>\n",
       "      <td>NaN</td>\n",
       "      <td>High Memory 1CPU 8GB</td>\n",
       "      <td>1</td>\n",
       "      <td>7.8</td>\n",
       "      <td>2365</td>\n",
       "      <td>2240</td>\n",
       "      <td>NaN</td>\n",
       "      <td>NaN</td>\n",
       "    </tr>\n",
       "    <tr>\n",
       "      <th>11</th>\n",
       "      <td>NaN</td>\n",
       "      <td>DigitalOcean</td>\n",
       "      <td>NaN</td>\n",
       "      <td>High Memory 1CPU 8GB</td>\n",
       "      <td>1</td>\n",
       "      <td>7.8</td>\n",
       "      <td>2365</td>\n",
       "      <td>2240</td>\n",
       "      <td>NaN</td>\n",
       "      <td>NaN</td>\n",
       "    </tr>\n",
       "    <tr>\n",
       "      <th>12</th>\n",
       "      <td>NaN</td>\n",
       "      <td>DigitalOcean</td>\n",
       "      <td>General Purpose</td>\n",
       "      <td>Standard 1CPU 1GB</td>\n",
       "      <td>1</td>\n",
       "      <td>1.0</td>\n",
       "      <td>3604</td>\n",
       "      <td>3481</td>\n",
       "      <td>0.007</td>\n",
       "      <td>4974.0</td>\n",
       "    </tr>\n",
       "    <tr>\n",
       "      <th>18</th>\n",
       "      <td>Worldwide</td>\n",
       "      <td>Exoscale</td>\n",
       "      <td>General Purpose</td>\n",
       "      <td>Tiny</td>\n",
       "      <td>1</td>\n",
       "      <td>1.0</td>\n",
       "      <td>4196</td>\n",
       "      <td>4000</td>\n",
       "      <td>0.013</td>\n",
       "      <td>3453.0</td>\n",
       "    </tr>\n",
       "    <tr>\n",
       "      <th>19</th>\n",
       "      <td>Worldwide</td>\n",
       "      <td>Google Cloud Platform</td>\n",
       "      <td>Tiny</td>\n",
       "      <td>g1-small Intel Skylake</td>\n",
       "      <td>1</td>\n",
       "      <td>1.7</td>\n",
       "      <td>3057</td>\n",
       "      <td>2954</td>\n",
       "      <td>0.027</td>\n",
       "      <td>1094.0</td>\n",
       "    </tr>\n",
       "    <tr>\n",
       "      <th>20</th>\n",
       "      <td>NaN</td>\n",
       "      <td>Google Cloud Platform</td>\n",
       "      <td>Tiny</td>\n",
       "      <td>g1-small Intel Skylake</td>\n",
       "      <td>1</td>\n",
       "      <td>1.7</td>\n",
       "      <td>3124</td>\n",
       "      <td>3001</td>\n",
       "      <td>0.027</td>\n",
       "      <td>1111.0</td>\n",
       "    </tr>\n",
       "    <tr>\n",
       "      <th>21</th>\n",
       "      <td>Worldwide</td>\n",
       "      <td>Google Cloud Platform</td>\n",
       "      <td>General Purpose</td>\n",
       "      <td>n1-standard-1 Intel Broadwell</td>\n",
       "      <td>1</td>\n",
       "      <td>3.8</td>\n",
       "      <td>2977</td>\n",
       "      <td>2914</td>\n",
       "      <td>0.048</td>\n",
       "      <td>607.0</td>\n",
       "    </tr>\n",
       "    <tr>\n",
       "      <th>22</th>\n",
       "      <td>NaN</td>\n",
       "      <td>Google Cloud Platform</td>\n",
       "      <td>General Purpose</td>\n",
       "      <td>n1-standard-1 Intel Broadwell</td>\n",
       "      <td>1</td>\n",
       "      <td>3.8</td>\n",
       "      <td>2977</td>\n",
       "      <td>2914</td>\n",
       "      <td>0.048</td>\n",
       "      <td>607.0</td>\n",
       "    </tr>\n",
       "    <tr>\n",
       "      <th>23</th>\n",
       "      <td>Worldwide</td>\n",
       "      <td>Google Cloud Platform</td>\n",
       "      <td>General Purpose</td>\n",
       "      <td>n1-standard-1 Intel Skylake</td>\n",
       "      <td>1</td>\n",
       "      <td>3.8</td>\n",
       "      <td>2995</td>\n",
       "      <td>2899</td>\n",
       "      <td>0.048</td>\n",
       "      <td>604.0</td>\n",
       "    </tr>\n",
       "    <tr>\n",
       "      <th>25</th>\n",
       "      <td>Worldwide</td>\n",
       "      <td>IBM Softlayer</td>\n",
       "      <td>General Purpose</td>\n",
       "      <td>1 Cores 1GB</td>\n",
       "      <td>1</td>\n",
       "      <td>1.0</td>\n",
       "      <td>2852</td>\n",
       "      <td>2785</td>\n",
       "      <td>0.039</td>\n",
       "      <td>714.0</td>\n",
       "    </tr>\n",
       "    <tr>\n",
       "      <th>26</th>\n",
       "      <td>NaN</td>\n",
       "      <td>IBM Softlayer</td>\n",
       "      <td>General Purpose</td>\n",
       "      <td>1 Cores 1GB</td>\n",
       "      <td>1</td>\n",
       "      <td>1.0</td>\n",
       "      <td>2852</td>\n",
       "      <td>2785</td>\n",
       "      <td>0.039</td>\n",
       "      <td>714.0</td>\n",
       "    </tr>\n",
       "    <tr>\n",
       "      <th>27</th>\n",
       "      <td>Worldwide</td>\n",
       "      <td>IBM Softlayer</td>\n",
       "      <td>General Purpose</td>\n",
       "      <td>1 Cores 2 GB</td>\n",
       "      <td>1</td>\n",
       "      <td>2.0</td>\n",
       "      <td>2818</td>\n",
       "      <td>2747</td>\n",
       "      <td>0.043</td>\n",
       "      <td>638.0</td>\n",
       "    </tr>\n",
       "    <tr>\n",
       "      <th>28</th>\n",
       "      <td>NaN</td>\n",
       "      <td>IBM Softlayer</td>\n",
       "      <td>General Purpose</td>\n",
       "      <td>1 Cores 2 GB</td>\n",
       "      <td>1</td>\n",
       "      <td>2.0</td>\n",
       "      <td>2818</td>\n",
       "      <td>2747</td>\n",
       "      <td>0.043</td>\n",
       "      <td>638.0</td>\n",
       "    </tr>\n",
       "    <tr>\n",
       "      <th>29</th>\n",
       "      <td>Worldwide</td>\n",
       "      <td>IBM Softlayer</td>\n",
       "      <td>General Purpose</td>\n",
       "      <td>1 Cores 4 GB</td>\n",
       "      <td>1</td>\n",
       "      <td>4.0</td>\n",
       "      <td>2793</td>\n",
       "      <td>2713</td>\n",
       "      <td>0.034</td>\n",
       "      <td>798.0</td>\n",
       "    </tr>\n",
       "    <tr>\n",
       "      <th>31</th>\n",
       "      <td>Worldwide</td>\n",
       "      <td>Joyent</td>\n",
       "      <td>General Purpose</td>\n",
       "      <td>g4-general 4G</td>\n",
       "      <td>1</td>\n",
       "      <td>4.0</td>\n",
       "      <td>2884</td>\n",
       "      <td>7302</td>\n",
       "      <td>0.070</td>\n",
       "      <td>1043.0</td>\n",
       "    </tr>\n",
       "    <tr>\n",
       "      <th>32</th>\n",
       "      <td>NaN</td>\n",
       "      <td>Joyent</td>\n",
       "      <td>General Purpose</td>\n",
       "      <td>g4-general 4G</td>\n",
       "      <td>1</td>\n",
       "      <td>4.0</td>\n",
       "      <td>3070</td>\n",
       "      <td>8211</td>\n",
       "      <td>0.070</td>\n",
       "      <td>1173.0</td>\n",
       "    </tr>\n",
       "    <tr>\n",
       "      <th>33</th>\n",
       "      <td>Worldwide</td>\n",
       "      <td>Joyent</td>\n",
       "      <td>Compute optimized</td>\n",
       "      <td>g4-highcpu-2G</td>\n",
       "      <td>1</td>\n",
       "      <td>2.0</td>\n",
       "      <td>2459</td>\n",
       "      <td>2489</td>\n",
       "      <td>NaN</td>\n",
       "      <td>NaN</td>\n",
       "    </tr>\n",
       "    <tr>\n",
       "      <th>34</th>\n",
       "      <td>NaN</td>\n",
       "      <td>Joyent</td>\n",
       "      <td>Compute optimized</td>\n",
       "      <td>g4-highcpu-2G</td>\n",
       "      <td>1</td>\n",
       "      <td>2.0</td>\n",
       "      <td>2472</td>\n",
       "      <td>2722</td>\n",
       "      <td>NaN</td>\n",
       "      <td>NaN</td>\n",
       "    </tr>\n",
       "    <tr>\n",
       "      <th>35</th>\n",
       "      <td>Worldwide</td>\n",
       "      <td>Joyent</td>\n",
       "      <td>General Purpose</td>\n",
       "      <td>k4-general-kvm-3.75G</td>\n",
       "      <td>1</td>\n",
       "      <td>3.8</td>\n",
       "      <td>3287</td>\n",
       "      <td>2889</td>\n",
       "      <td>0.080</td>\n",
       "      <td>361.0</td>\n",
       "    </tr>\n",
       "    <tr>\n",
       "      <th>39</th>\n",
       "      <td>Worldwide</td>\n",
       "      <td>Linode</td>\n",
       "      <td>Memory optimized</td>\n",
       "      <td>Linode 24GB</td>\n",
       "      <td>1</td>\n",
       "      <td>24.0</td>\n",
       "      <td>2265</td>\n",
       "      <td>2185</td>\n",
       "      <td>0.090</td>\n",
       "      <td>242.0</td>\n",
       "    </tr>\n",
       "    <tr>\n",
       "      <th>40</th>\n",
       "      <td>NaN</td>\n",
       "      <td>Linode</td>\n",
       "      <td>Memory optimized</td>\n",
       "      <td>Linode 24GB</td>\n",
       "      <td>1</td>\n",
       "      <td>24.0</td>\n",
       "      <td>2265</td>\n",
       "      <td>2185</td>\n",
       "      <td>0.090</td>\n",
       "      <td>242.0</td>\n",
       "    </tr>\n",
       "    <tr>\n",
       "      <th>41</th>\n",
       "      <td>Worldwide</td>\n",
       "      <td>Linode</td>\n",
       "      <td>General Purpose</td>\n",
       "      <td>Linode 2GB</td>\n",
       "      <td>1</td>\n",
       "      <td>2.0</td>\n",
       "      <td>3049</td>\n",
       "      <td>2929</td>\n",
       "      <td>0.015</td>\n",
       "      <td>1952.0</td>\n",
       "    </tr>\n",
       "    <tr>\n",
       "      <th>42</th>\n",
       "      <td>NaN</td>\n",
       "      <td>Linode</td>\n",
       "      <td>General Purpose</td>\n",
       "      <td>Linode 2GB</td>\n",
       "      <td>1</td>\n",
       "      <td>2.0</td>\n",
       "      <td>3079</td>\n",
       "      <td>2929</td>\n",
       "      <td>0.015</td>\n",
       "      <td>1952.0</td>\n",
       "    </tr>\n",
       "    <tr>\n",
       "      <th>43</th>\n",
       "      <td>Worldwide</td>\n",
       "      <td>Linode</td>\n",
       "      <td>Tiny</td>\n",
       "      <td>Nanode 1 GB</td>\n",
       "      <td>1</td>\n",
       "      <td>1.0</td>\n",
       "      <td>2843</td>\n",
       "      <td>2726</td>\n",
       "      <td>0.008</td>\n",
       "      <td>3407.0</td>\n",
       "    </tr>\n",
       "    <tr>\n",
       "      <th>45</th>\n",
       "      <td>Worldwide</td>\n",
       "      <td>Microsoft Azure</td>\n",
       "      <td>General Purpose</td>\n",
       "      <td>Basic-A1</td>\n",
       "      <td>1</td>\n",
       "      <td>1.8</td>\n",
       "      <td>878</td>\n",
       "      <td>849</td>\n",
       "      <td>NaN</td>\n",
       "      <td>NaN</td>\n",
       "    </tr>\n",
       "    <tr>\n",
       "      <th>46</th>\n",
       "      <td>NaN</td>\n",
       "      <td>Microsoft Azure</td>\n",
       "      <td>General Purpose</td>\n",
       "      <td>Basic-A1</td>\n",
       "      <td>1</td>\n",
       "      <td>1.8</td>\n",
       "      <td>878</td>\n",
       "      <td>849</td>\n",
       "      <td>NaN</td>\n",
       "      <td>NaN</td>\n",
       "    </tr>\n",
       "    <tr>\n",
       "      <th>47</th>\n",
       "      <td>Worldwide</td>\n",
       "      <td>Microsoft Azure</td>\n",
       "      <td>General Purpose</td>\n",
       "      <td>Standard A-1</td>\n",
       "      <td>1</td>\n",
       "      <td>1.8</td>\n",
       "      <td>1248</td>\n",
       "      <td>1208</td>\n",
       "      <td>0.051</td>\n",
       "      <td>236.0</td>\n",
       "    </tr>\n",
       "    <tr>\n",
       "      <th>48</th>\n",
       "      <td>NaN</td>\n",
       "      <td>Microsoft Azure</td>\n",
       "      <td>General Purpose</td>\n",
       "      <td>Standard A-1</td>\n",
       "      <td>1</td>\n",
       "      <td>1.8</td>\n",
       "      <td>1248</td>\n",
       "      <td>1208</td>\n",
       "      <td>0.051</td>\n",
       "      <td>236.0</td>\n",
       "    </tr>\n",
       "    <tr>\n",
       "      <th>49</th>\n",
       "      <td>NaN</td>\n",
       "      <td>Microsoft Azure</td>\n",
       "      <td>General Purpose</td>\n",
       "      <td>Standard A-1_v2</td>\n",
       "      <td>1</td>\n",
       "      <td>2.0</td>\n",
       "      <td>1264</td>\n",
       "      <td>1226</td>\n",
       "      <td>0.036</td>\n",
       "      <td>340.0</td>\n",
       "    </tr>\n",
       "    <tr>\n",
       "      <th>67</th>\n",
       "      <td>Worldwide</td>\n",
       "      <td>OVH Group</td>\n",
       "      <td>Tiny</td>\n",
       "      <td>S1-2</td>\n",
       "      <td>1</td>\n",
       "      <td>2.0</td>\n",
       "      <td>2965</td>\n",
       "      <td>2818</td>\n",
       "      <td>NaN</td>\n",
       "      <td>NaN</td>\n",
       "    </tr>\n",
       "    <tr>\n",
       "      <th>68</th>\n",
       "      <td>NaN</td>\n",
       "      <td>OVH Group</td>\n",
       "      <td>Tiny</td>\n",
       "      <td>S1-2</td>\n",
       "      <td>1</td>\n",
       "      <td>2.0</td>\n",
       "      <td>3025</td>\n",
       "      <td>2866</td>\n",
       "      <td>NaN</td>\n",
       "      <td>NaN</td>\n",
       "    </tr>\n",
       "    <tr>\n",
       "      <th>69</th>\n",
       "      <td>Worldwide</td>\n",
       "      <td>OVH Group</td>\n",
       "      <td>Tiny</td>\n",
       "      <td>S1-4</td>\n",
       "      <td>1</td>\n",
       "      <td>3.9</td>\n",
       "      <td>2938</td>\n",
       "      <td>2810</td>\n",
       "      <td>NaN</td>\n",
       "      <td>NaN</td>\n",
       "    </tr>\n",
       "    <tr>\n",
       "      <th>70</th>\n",
       "      <td>NaN</td>\n",
       "      <td>OVH Group</td>\n",
       "      <td>Tiny</td>\n",
       "      <td>S1-4</td>\n",
       "      <td>1</td>\n",
       "      <td>3.9</td>\n",
       "      <td>3035</td>\n",
       "      <td>2894</td>\n",
       "      <td>NaN</td>\n",
       "      <td>NaN</td>\n",
       "    </tr>\n",
       "    <tr>\n",
       "      <th>71</th>\n",
       "      <td>Worldwide</td>\n",
       "      <td>T-Systems Open Telekom Cloud</td>\n",
       "      <td>General Purpose</td>\n",
       "      <td>c1.medium</td>\n",
       "      <td>1</td>\n",
       "      <td>1.0</td>\n",
       "      <td>2353</td>\n",
       "      <td>2230</td>\n",
       "      <td>0.014</td>\n",
       "      <td>1807.0</td>\n",
       "    </tr>\n",
       "    <tr>\n",
       "      <th>72</th>\n",
       "      <td>Worldwide</td>\n",
       "      <td>T-Systems Open Telekom Cloud</td>\n",
       "      <td>General Purpose</td>\n",
       "      <td>c2.medium</td>\n",
       "      <td>1</td>\n",
       "      <td>2.0</td>\n",
       "      <td>2276</td>\n",
       "      <td>2213</td>\n",
       "      <td>0.021</td>\n",
       "      <td>1203.0</td>\n",
       "    </tr>\n",
       "    <tr>\n",
       "      <th>73</th>\n",
       "      <td>Worldwide</td>\n",
       "      <td>T-Systems Open Telekom Cloud</td>\n",
       "      <td>General Purpose</td>\n",
       "      <td>s1.medium</td>\n",
       "      <td>1</td>\n",
       "      <td>4.0</td>\n",
       "      <td>2229</td>\n",
       "      <td>2133</td>\n",
       "      <td>0.046</td>\n",
       "      <td>523.0</td>\n",
       "    </tr>\n",
       "    <tr>\n",
       "      <th>74</th>\n",
       "      <td>Worldwide</td>\n",
       "      <td>T-Systems Open Telekom Cloud</td>\n",
       "      <td>General Purpose</td>\n",
       "      <td>s2.medium.1</td>\n",
       "      <td>1</td>\n",
       "      <td>1.0</td>\n",
       "      <td>2972</td>\n",
       "      <td>2818</td>\n",
       "      <td>NaN</td>\n",
       "      <td>NaN</td>\n",
       "    </tr>\n",
       "    <tr>\n",
       "      <th>75</th>\n",
       "      <td>Worldwide</td>\n",
       "      <td>T-Systems Open Telekom Cloud</td>\n",
       "      <td>General Purpose</td>\n",
       "      <td>s2.medium.2</td>\n",
       "      <td>1</td>\n",
       "      <td>2.0</td>\n",
       "      <td>2938</td>\n",
       "      <td>2817</td>\n",
       "      <td>NaN</td>\n",
       "      <td>NaN</td>\n",
       "    </tr>\n",
       "    <tr>\n",
       "      <th>78</th>\n",
       "      <td>Worldwide</td>\n",
       "      <td>UpCloud</td>\n",
       "      <td>General Purpose</td>\n",
       "      <td>1xCPU-1GB</td>\n",
       "      <td>1</td>\n",
       "      <td>1.0</td>\n",
       "      <td>3386</td>\n",
       "      <td>3268</td>\n",
       "      <td>0.007</td>\n",
       "      <td>4669.0</td>\n",
       "    </tr>\n",
       "    <tr>\n",
       "      <th>79</th>\n",
       "      <td>NaN</td>\n",
       "      <td>UpCloud</td>\n",
       "      <td>General Purpose</td>\n",
       "      <td>1xCPU-1GB</td>\n",
       "      <td>1</td>\n",
       "      <td>1.0</td>\n",
       "      <td>3003</td>\n",
       "      <td>2919</td>\n",
       "      <td>0.007</td>\n",
       "      <td>4171.0</td>\n",
       "    </tr>\n",
       "    <tr>\n",
       "      <th>80</th>\n",
       "      <td>Worldwide</td>\n",
       "      <td>UpCloud</td>\n",
       "      <td>General Purpose</td>\n",
       "      <td>1xCPU-2GB</td>\n",
       "      <td>1</td>\n",
       "      <td>2.0</td>\n",
       "      <td>3445</td>\n",
       "      <td>3315</td>\n",
       "      <td>0.015</td>\n",
       "      <td>2210.0</td>\n",
       "    </tr>\n",
       "    <tr>\n",
       "      <th>81</th>\n",
       "      <td>NaN</td>\n",
       "      <td>UpCloud</td>\n",
       "      <td>General Purpose</td>\n",
       "      <td>1xCPU-2GB</td>\n",
       "      <td>1</td>\n",
       "      <td>2.0</td>\n",
       "      <td>3024</td>\n",
       "      <td>2908</td>\n",
       "      <td>0.015</td>\n",
       "      <td>1938.0</td>\n",
       "    </tr>\n",
       "    <tr>\n",
       "      <th>82</th>\n",
       "      <td>NaN</td>\n",
       "      <td>Vultr</td>\n",
       "      <td>General Purpose</td>\n",
       "      <td>1CPU 1024MB SSD</td>\n",
       "      <td>1</td>\n",
       "      <td>1.0</td>\n",
       "      <td>2932</td>\n",
       "      <td>2820</td>\n",
       "      <td>0.007</td>\n",
       "      <td>4029.0</td>\n",
       "    </tr>\n",
       "    <tr>\n",
       "      <th>83</th>\n",
       "      <td>Worldwide</td>\n",
       "      <td>Vultr</td>\n",
       "      <td>General Purpose</td>\n",
       "      <td>1CPU 1024MB SSD</td>\n",
       "      <td>1</td>\n",
       "      <td>1.0</td>\n",
       "      <td>3154</td>\n",
       "      <td>3027</td>\n",
       "      <td>0.007</td>\n",
       "      <td>4325.0</td>\n",
       "    </tr>\n",
       "    <tr>\n",
       "      <th>84</th>\n",
       "      <td>NaN</td>\n",
       "      <td>Vultr</td>\n",
       "      <td>General Purpose</td>\n",
       "      <td>1CPU 2048MB SSD</td>\n",
       "      <td>1</td>\n",
       "      <td>2.0</td>\n",
       "      <td>3749</td>\n",
       "      <td>3665</td>\n",
       "      <td>0.015</td>\n",
       "      <td>2443.0</td>\n",
       "    </tr>\n",
       "    <tr>\n",
       "      <th>85</th>\n",
       "      <td>Worldwide</td>\n",
       "      <td>Vultr</td>\n",
       "      <td>General Purpose</td>\n",
       "      <td>1CPU 2048MB SSD</td>\n",
       "      <td>1</td>\n",
       "      <td>2.0</td>\n",
       "      <td>3628</td>\n",
       "      <td>3532</td>\n",
       "      <td>0.015</td>\n",
       "      <td>2355.0</td>\n",
       "    </tr>\n",
       "  </tbody>\n",
       "</table>\n",
       "</div>"
      ],
      "text/plain": [
       "     Location                      Provider               Category  \\\n",
       "0   Worldwide                           1&1        General Purpose   \n",
       "1         NaN                           1&1        General Purpose   \n",
       "2   Worldwide                           1&1        General Purpose   \n",
       "3         NaN                           1&1        General Purpose   \n",
       "4   Worldwide           Amazon Web Services  Burstable Performance   \n",
       "5         NaN           Amazon Web Services  Burstable Performance   \n",
       "6   Worldwide           Amazon Web Services  Burstable Performance   \n",
       "7         NaN           Amazon Web Services  Burstable Performance   \n",
       "8   Worldwide                  DigitalOcean        General Purpose   \n",
       "9         NaN                  DigitalOcean        General Purpose   \n",
       "10  Worldwide                  DigitalOcean                    NaN   \n",
       "11        NaN                  DigitalOcean                    NaN   \n",
       "12        NaN                  DigitalOcean        General Purpose   \n",
       "18  Worldwide                      Exoscale        General Purpose   \n",
       "19  Worldwide         Google Cloud Platform                   Tiny   \n",
       "20        NaN         Google Cloud Platform                   Tiny   \n",
       "21  Worldwide         Google Cloud Platform        General Purpose   \n",
       "22        NaN         Google Cloud Platform        General Purpose   \n",
       "23  Worldwide         Google Cloud Platform        General Purpose   \n",
       "25  Worldwide                 IBM Softlayer        General Purpose   \n",
       "26        NaN                 IBM Softlayer        General Purpose   \n",
       "27  Worldwide                 IBM Softlayer        General Purpose   \n",
       "28        NaN                 IBM Softlayer        General Purpose   \n",
       "29  Worldwide                 IBM Softlayer        General Purpose   \n",
       "31  Worldwide                        Joyent        General Purpose   \n",
       "32        NaN                        Joyent        General Purpose   \n",
       "33  Worldwide                        Joyent      Compute optimized   \n",
       "34        NaN                        Joyent      Compute optimized   \n",
       "35  Worldwide                        Joyent        General Purpose   \n",
       "39  Worldwide                        Linode       Memory optimized   \n",
       "40        NaN                        Linode       Memory optimized   \n",
       "41  Worldwide                        Linode        General Purpose   \n",
       "42        NaN                        Linode        General Purpose   \n",
       "43  Worldwide                        Linode                   Tiny   \n",
       "45  Worldwide               Microsoft Azure        General Purpose   \n",
       "46        NaN               Microsoft Azure        General Purpose   \n",
       "47  Worldwide               Microsoft Azure        General Purpose   \n",
       "48        NaN               Microsoft Azure        General Purpose   \n",
       "49        NaN               Microsoft Azure        General Purpose   \n",
       "67  Worldwide                     OVH Group                   Tiny   \n",
       "68        NaN                     OVH Group                   Tiny   \n",
       "69  Worldwide                     OVH Group                   Tiny   \n",
       "70        NaN                     OVH Group                   Tiny   \n",
       "71  Worldwide  T-Systems Open Telekom Cloud        General Purpose   \n",
       "72  Worldwide  T-Systems Open Telekom Cloud        General Purpose   \n",
       "73  Worldwide  T-Systems Open Telekom Cloud        General Purpose   \n",
       "74  Worldwide  T-Systems Open Telekom Cloud        General Purpose   \n",
       "75  Worldwide  T-Systems Open Telekom Cloud        General Purpose   \n",
       "78  Worldwide                       UpCloud        General Purpose   \n",
       "79        NaN                       UpCloud        General Purpose   \n",
       "80  Worldwide                       UpCloud        General Purpose   \n",
       "81        NaN                       UpCloud        General Purpose   \n",
       "82        NaN                         Vultr        General Purpose   \n",
       "83  Worldwide                         Vultr        General Purpose   \n",
       "84        NaN                         Vultr        General Purpose   \n",
       "85  Worldwide                         Vultr        General Purpose   \n",
       "\n",
       "                               VM  CPU  RAM_GB  Single_Score  Multi_Score  \\\n",
       "0                               M    1     1.0          2298         2963   \n",
       "1                               M    1     1.0          2998         2863   \n",
       "2                               S    1     0.5          2919         2794   \n",
       "3                               S    1     0.5          2919         2794   \n",
       "4                        t2.micro    1     1.0          3259         3106   \n",
       "5                        t2.micro    1     1.0          3259         3106   \n",
       "6                        t2.small    1     2.0          3264         3117   \n",
       "7                        t2.small    1     2.0          3264         3117   \n",
       "8                        1CPU 1GB    1     1.0          2428         2311   \n",
       "9                        1CPU 1GB    1     1.0          2428         2311   \n",
       "10           High Memory 1CPU 8GB    1     7.8          2365         2240   \n",
       "11           High Memory 1CPU 8GB    1     7.8          2365         2240   \n",
       "12              Standard 1CPU 1GB    1     1.0          3604         3481   \n",
       "18                           Tiny    1     1.0          4196         4000   \n",
       "19         g1-small Intel Skylake    1     1.7          3057         2954   \n",
       "20         g1-small Intel Skylake    1     1.7          3124         3001   \n",
       "21  n1-standard-1 Intel Broadwell    1     3.8          2977         2914   \n",
       "22  n1-standard-1 Intel Broadwell    1     3.8          2977         2914   \n",
       "23    n1-standard-1 Intel Skylake    1     3.8          2995         2899   \n",
       "25                    1 Cores 1GB    1     1.0          2852         2785   \n",
       "26                    1 Cores 1GB    1     1.0          2852         2785   \n",
       "27                   1 Cores 2 GB    1     2.0          2818         2747   \n",
       "28                   1 Cores 2 GB    1     2.0          2818         2747   \n",
       "29                   1 Cores 4 GB    1     4.0          2793         2713   \n",
       "31                  g4-general 4G    1     4.0          2884         7302   \n",
       "32                  g4-general 4G    1     4.0          3070         8211   \n",
       "33                  g4-highcpu-2G    1     2.0          2459         2489   \n",
       "34                  g4-highcpu-2G    1     2.0          2472         2722   \n",
       "35           k4-general-kvm-3.75G    1     3.8          3287         2889   \n",
       "39                    Linode 24GB    1    24.0          2265         2185   \n",
       "40                    Linode 24GB    1    24.0          2265         2185   \n",
       "41                     Linode 2GB    1     2.0          3049         2929   \n",
       "42                     Linode 2GB    1     2.0          3079         2929   \n",
       "43                    Nanode 1 GB    1     1.0          2843         2726   \n",
       "45                       Basic-A1    1     1.8           878          849   \n",
       "46                       Basic-A1    1     1.8           878          849   \n",
       "47                   Standard A-1    1     1.8          1248         1208   \n",
       "48                   Standard A-1    1     1.8          1248         1208   \n",
       "49                Standard A-1_v2    1     2.0          1264         1226   \n",
       "67                           S1-2    1     2.0          2965         2818   \n",
       "68                           S1-2    1     2.0          3025         2866   \n",
       "69                           S1-4    1     3.9          2938         2810   \n",
       "70                           S1-4    1     3.9          3035         2894   \n",
       "71                      c1.medium    1     1.0          2353         2230   \n",
       "72                      c2.medium    1     2.0          2276         2213   \n",
       "73                      s1.medium    1     4.0          2229         2133   \n",
       "74                    s2.medium.1    1     1.0          2972         2818   \n",
       "75                    s2.medium.2    1     2.0          2938         2817   \n",
       "78                      1xCPU-1GB    1     1.0          3386         3268   \n",
       "79                      1xCPU-1GB    1     1.0          3003         2919   \n",
       "80                      1xCPU-2GB    1     2.0          3445         3315   \n",
       "81                      1xCPU-2GB    1     2.0          3024         2908   \n",
       "82                1CPU 1024MB SSD    1     1.0          2932         2820   \n",
       "83                1CPU 1024MB SSD    1     1.0          3154         3027   \n",
       "84                1CPU 2048MB SSD    1     2.0          3749         3665   \n",
       "85                1CPU 2048MB SSD    1     2.0          3628         3532   \n",
       "\n",
       "    Price  Price_Score  \n",
       "0   0.013       2202.0  \n",
       "1   0.013       2202.0  \n",
       "2   0.007       3978.0  \n",
       "3   0.007       3978.0  \n",
       "4   0.012       2588.0  \n",
       "5   0.012       2588.0  \n",
       "6   0.023       1355.0  \n",
       "7   0.023       1355.0  \n",
       "8   0.015       1540.0  \n",
       "9   0.015       1540.0  \n",
       "10    NaN          NaN  \n",
       "11    NaN          NaN  \n",
       "12  0.007       4974.0  \n",
       "18  0.013       3453.0  \n",
       "19  0.027       1094.0  \n",
       "20  0.027       1111.0  \n",
       "21  0.048        607.0  \n",
       "22  0.048        607.0  \n",
       "23  0.048        604.0  \n",
       "25  0.039        714.0  \n",
       "26  0.039        714.0  \n",
       "27  0.043        638.0  \n",
       "28  0.043        638.0  \n",
       "29  0.034        798.0  \n",
       "31  0.070       1043.0  \n",
       "32  0.070       1173.0  \n",
       "33    NaN          NaN  \n",
       "34    NaN          NaN  \n",
       "35  0.080        361.0  \n",
       "39  0.090        242.0  \n",
       "40  0.090        242.0  \n",
       "41  0.015       1952.0  \n",
       "42  0.015       1952.0  \n",
       "43  0.008       3407.0  \n",
       "45    NaN          NaN  \n",
       "46    NaN          NaN  \n",
       "47  0.051        236.0  \n",
       "48  0.051        236.0  \n",
       "49  0.036        340.0  \n",
       "67    NaN          NaN  \n",
       "68    NaN          NaN  \n",
       "69    NaN          NaN  \n",
       "70    NaN          NaN  \n",
       "71  0.014       1807.0  \n",
       "72  0.021       1203.0  \n",
       "73  0.046        523.0  \n",
       "74    NaN          NaN  \n",
       "75    NaN          NaN  \n",
       "78  0.007       4669.0  \n",
       "79  0.007       4171.0  \n",
       "80  0.015       2210.0  \n",
       "81  0.015       1938.0  \n",
       "82  0.007       4029.0  \n",
       "83  0.007       4325.0  \n",
       "84  0.015       2443.0  \n",
       "85  0.015       2355.0  "
      ]
     },
     "execution_count": 104,
     "metadata": {},
     "output_type": "execute_result"
    }
   ],
   "source": [
    "pdata = data.groupby(['Provider'])\n",
    "pdata.head()"
   ]
  },
  {
   "cell_type": "code",
   "execution_count": 106,
   "metadata": {},
   "outputs": [
    {
     "data": {
      "text/plain": [
       "Provider\n",
       "1&1                             2783.500000\n",
       "Amazon Web Services             3261.500000\n",
       "DigitalOcean                    2828.800000\n",
       "Exoscale                        4196.000000\n",
       "Google Cloud Platform           3013.166667\n",
       "IBM Softlayer                   2821.000000\n",
       "Joyent                          3022.625000\n",
       "Linode                          2724.000000\n",
       "Microsoft Azure                 2441.000000\n",
       "OVH Group                       2990.750000\n",
       "T-Systems Open Telekom Cloud    2651.714286\n",
       "UpCloud                         3214.500000\n",
       "Vultr                           3365.750000\n",
       "Name: Single_Score, dtype: float64"
      ]
     },
     "execution_count": 106,
     "metadata": {},
     "output_type": "execute_result"
    }
   ],
   "source": [
    "pdata['Single_Score'].mean()"
   ]
  },
  {
   "cell_type": "code",
   "execution_count": 53,
   "metadata": {
    "scrolled": true
   },
   "outputs": [
    {
     "name": "stdout",
     "output_type": "stream",
     "text": [
      "19    3057\n",
      "20    3124\n",
      "21    2977\n",
      "22    2977\n",
      "23    2995\n",
      "24    2949\n",
      "Name: Single_Score, dtype: int64\n"
     ]
    },
    {
     "data": {
      "text/plain": [
       "3013.1666666666665"
      ]
     },
     "execution_count": 53,
     "metadata": {},
     "output_type": "execute_result"
    }
   ],
   "source": [
    "google = data['Single_Score'][data['Provider']==\"Google Cloud Platform\"]\n",
    "print(google)\n",
    "google.mean()"
   ]
  },
  {
   "cell_type": "code",
   "execution_count": 52,
   "metadata": {},
   "outputs": [
    {
     "name": "stdout",
     "output_type": "stream",
     "text": [
      "4    3259\n",
      "5    3259\n",
      "6    3264\n",
      "7    3264\n",
      "Name: Single_Score, dtype: int64\n"
     ]
    },
    {
     "data": {
      "text/plain": [
       "3261.5"
      ]
     },
     "execution_count": 52,
     "metadata": {},
     "output_type": "execute_result"
    }
   ],
   "source": [
    "amazon = data['Single_Score'][data['Provider']==\"Amazon Web Services\"]\n",
    "print(amazon)\n",
    "amazon.mean()"
   ]
  },
  {
   "cell_type": "code",
   "execution_count": 51,
   "metadata": {},
   "outputs": [
    {
     "name": "stdout",
     "output_type": "stream",
     "text": [
      "45     878\n",
      "46     878\n",
      "47    1248\n",
      "48    1248\n",
      "49    1264\n",
      "50    1242\n",
      "51    3063\n",
      "52    3097\n",
      "53    3080\n",
      "54    3095\n",
      "55    2122\n",
      "56    2113\n",
      "57    3050\n",
      "58    3222\n",
      "59    2074\n",
      "60    2074\n",
      "61    3328\n",
      "62    3328\n",
      "63    3173\n",
      "64    3173\n",
      "65    3476\n",
      "66    3476\n",
      "Name: Single_Score, dtype: int64\n"
     ]
    },
    {
     "data": {
      "text/plain": [
       "2441.0"
      ]
     },
     "execution_count": 51,
     "metadata": {},
     "output_type": "execute_result"
    }
   ],
   "source": [
    "azure = data['Single_Score'][data['Provider']==\"Microsoft Azure\"]\n",
    "print(azure)\n",
    "azure.mean()"
   ]
  },
  {
   "cell_type": "code",
   "execution_count": 69,
   "metadata": {},
   "outputs": [
    {
     "data": {
      "text/plain": [
       "Ttest_indResult(statistic=1.9169135270318711, pvalue=0.06722937275793596)"
      ]
     },
     "execution_count": 69,
     "metadata": {},
     "output_type": "execute_result"
    }
   ],
   "source": [
    "stats.ttest_ind(vultr, azure)"
   ]
  },
  {
   "cell_type": "code",
   "execution_count": 82,
   "metadata": {},
   "outputs": [
    {
     "name": "stderr",
     "output_type": "stream",
     "text": [
      "/Users/fhel/anaconda3/lib/python3.7/site-packages/scipy/stats/stats.py:1713: FutureWarning: Using a non-tuple sequence for multidimensional indexing is deprecated; use `arr[tuple(seq)]` instead of `arr[seq]`. In the future this will be interpreted as an array index, `arr[np.array(seq)]`, which will result either in an error or a different result.\n",
      "  return np.add.reduce(sorted[indexer] * weights, axis=axis) / sumval\n"
     ]
    },
    {
     "data": {
      "text/plain": [
       "<function seaborn.utils.load_dataset(name, cache=True, data_home=None, **kws)>"
      ]
     },
     "execution_count": 82,
     "metadata": {},
     "output_type": "execute_result"
    },
    {
     "data": {
      "image/png": "[encoded data removed]",
      "text/plain": [
       "<Figure size 1152x576 with 1 Axes>"
      ]
     },
     "metadata": {
      "needs_background": "light"
     },
     "output_type": "display_data"
    }
   ],
   "source": [
    "plt.figure(figsize = (16, 8))\n",
    "sns.set_context('poster') \n",
    "sns.set(style=\"whitegrid\")\n",
    "ax = sns.barplot(x=\"Provider\", y=\"Single_Score\", data=data, palette='Spectral')\n",
    "ax.set_title(\"Provider vs Single Score\")\n",
    "sns.load_dataset"
   ]
  },
  {
   "cell_type": "code",
   "execution_count": 83,
   "metadata": {},
   "outputs": [
    {
     "data": {
      "text/plain": [
       "<function seaborn.utils.load_dataset(name, cache=True, data_home=None, **kws)>"
      ]
     },
     "execution_count": 83,
     "metadata": {},
     "output_type": "execute_result"
    },
    {
     "data": {
      "image/png": "[encoded data removed]",
      "text/plain": [
       "<Figure size 1152x576 with 1 Axes>"
      ]
     },
     "metadata": {},
     "output_type": "display_data"
    }
   ],
   "source": [
    "plt.figure(figsize = (16, 8))\n",
    "sns.set_context('poster') \n",
    "sns.set(style=\"whitegrid\")\n",
    "ax = sns.barplot(x=\"Provider\", y=\"Multi_Score\", data=data, palette='Spectral')\n",
    "ax.set_title(\"Provider vs Multi Score\")\n",
    "sns.load_dataset"
   ]
  },
  {
   "cell_type": "code",
   "execution_count": 84,
   "metadata": {
    "scrolled": false
   },
   "outputs": [
    {
     "data": {
      "text/plain": [
       "<function seaborn.utils.load_dataset(name, cache=True, data_home=None, **kws)>"
      ]
     },
     "execution_count": 84,
     "metadata": {},
     "output_type": "execute_result"
    },
    {
     "data": {
      "image/png": "[encoded data removed]",
      "text/plain": [
       "<Figure size 1152x576 with 1 Axes>"
      ]
     },
     "metadata": {},
     "output_type": "display_data"
    }
   ],
   "source": [
    "plt.figure(figsize = (16, 8))\n",
    "sns.set_context('poster') \n",
    "sns.set(style=\"whitegrid\")\n",
    "ax = sns.barplot(x=\"Provider\", y=\"Price\", data=data, palette='Spectral')\n",
    "ax.set_title(\"Provider vs Price\")\n",
    "sns.load_dataset"
   ]
  },
  {
   "cell_type": "code",
   "execution_count": 121,
   "metadata": {
    "scrolled": false
   },
   "outputs": [
    {
     "data": {
      "image/png": "[encoded data removed]",
      "text/plain": [
       "<Figure size 1152x576 with 1 Axes>"
      ]
     },
     "metadata": {},
     "output_type": "display_data"
    }
   ],
   "source": [
    "plt.figure(figsize = (16, 8))\n",
    "# sns.set_context('poster') \n",
    "sns.set(style=\"whitegrid\")\n",
    "ax = sns.barplot(x=\"Single_Score\", y=\"Price\", data=data, palette='Spectral')\n",
    "ax.set_title(\"Single Score vs Price\")\n",
    "# sns.load_dataset\n",
    "\n",
    "\n",
    "ax.set_xticklabels(ax.get_xticklabels(), rotation=90, ha=\"right\")\n",
    "plt.tight_layout()\n",
    "plt.show()"
   ]
  },
  {
   "cell_type": "code",
   "execution_count": 119,
   "metadata": {},
   "outputs": [
    {
     "data": {
      "image/png": "[encoded data removed]",
      "text/plain": [
       "<Figure size 1152x576 with 1 Axes>"
      ]
     },
     "metadata": {},
     "output_type": "display_data"
    }
   ],
   "source": [
    "plt.figure(figsize = (16, 8))\n",
    "# sns.set_context('poster') \n",
    "sns.set(style=\"whitegrid\")\n",
    "ax = sns.barplot(x=\"Multi_Score\", y=\"Price\", data=data, palette='Spectral')\n",
    "ax.set_title(\"Single Score vs Price\")\n",
    "# sns.load_dataset\n",
    "\n",
    "\n",
    "ax.set_xticklabels(ax.get_xticklabels(), rotation=90, ha=\"right\")\n",
    "plt.tight_layout()\n",
    "plt.show()"
   ]
  },
  {
   "cell_type": "code",
   "execution_count": 171,
   "metadata": {
    "scrolled": true
   },
   "outputs": [
    {
     "data": {
      "text/plain": [
       "2.0     26\n",
       "1.0     21\n",
       "3.5      8\n",
       "3.8      6\n",
       "1.8      6\n",
       "4.0      6\n",
       "3.9      2\n",
       "1.7      2\n",
       "7.8      2\n",
       "24.0     2\n",
       "3.0      2\n",
       "0.5      2\n",
       "8.0      1\n",
       "Name: RAM_GB, dtype: int64"
      ]
     },
     "execution_count": 171,
     "metadata": {},
     "output_type": "execute_result"
    }
   ],
   "source": [
    "data['RAM_GB'].value_counts()"
   ]
  },
  {
   "cell_type": "code",
   "execution_count": 105,
   "metadata": {},
   "outputs": [
    {
     "data": {
      "image/png": "[encoded data removed]",
      "text/plain": [
       "<Figure size 432x288 with 1 Axes>"
      ]
     },
     "metadata": {},
     "output_type": "display_data"
    }
   ],
   "source": [
    "plt.scatter(data.RAM_GB,data.Price)\n",
    "plt.xlabel('RAM (GB)')\n",
    "plt.ylabel('Price')\n",
    "plt.title('RAM (GB) vs Price')\n",
    "plt.show()"
   ]
  },
  {
   "cell_type": "code",
   "execution_count": 5,
   "metadata": {
    "scrolled": false
   },
   "outputs": [
    {
     "data": {
      "text/html": [
       "<div>\n",
       "<style scoped>\n",
       "    .dataframe tbody tr th:only-of-type {\n",
       "        vertical-align: middle;\n",
       "    }\n",
       "\n",
       "    .dataframe tbody tr th {\n",
       "        vertical-align: top;\n",
       "    }\n",
       "\n",
       "    .dataframe thead th {\n",
       "        text-align: right;\n",
       "    }\n",
       "</style>\n",
       "<table border=\"1\" class=\"dataframe\">\n",
       "  <thead>\n",
       "    <tr style=\"text-align: right;\">\n",
       "      <th></th>\n",
       "      <th>Location</th>\n",
       "      <th>Provider</th>\n",
       "      <th>Category</th>\n",
       "      <th>VM</th>\n",
       "      <th>CPU</th>\n",
       "      <th>RAM (GB)</th>\n",
       "      <th>Single Score</th>\n",
       "      <th>Multi Score</th>\n",
       "      <th>Price</th>\n",
       "      <th>Price Score</th>\n",
       "    </tr>\n",
       "  </thead>\n",
       "  <tbody>\n",
       "    <tr>\n",
       "      <th>0</th>\n",
       "      <td>Worldwide</td>\n",
       "      <td>1&amp;1</td>\n",
       "      <td>General Purpose</td>\n",
       "      <td>M</td>\n",
       "      <td>1</td>\n",
       "      <td>1.0</td>\n",
       "      <td>2298</td>\n",
       "      <td>2963</td>\n",
       "      <td>0.013</td>\n",
       "      <td>2202.0</td>\n",
       "    </tr>\n",
       "    <tr>\n",
       "      <th>1</th>\n",
       "      <td>NaN</td>\n",
       "      <td>1&amp;1</td>\n",
       "      <td>General Purpose</td>\n",
       "      <td>M</td>\n",
       "      <td>1</td>\n",
       "      <td>1.0</td>\n",
       "      <td>2998</td>\n",
       "      <td>2863</td>\n",
       "      <td>0.013</td>\n",
       "      <td>2202.0</td>\n",
       "    </tr>\n",
       "    <tr>\n",
       "      <th>2</th>\n",
       "      <td>Worldwide</td>\n",
       "      <td>1&amp;1</td>\n",
       "      <td>General Purpose</td>\n",
       "      <td>S</td>\n",
       "      <td>1</td>\n",
       "      <td>0.5</td>\n",
       "      <td>2919</td>\n",
       "      <td>2794</td>\n",
       "      <td>0.007</td>\n",
       "      <td>3978.0</td>\n",
       "    </tr>\n",
       "    <tr>\n",
       "      <th>3</th>\n",
       "      <td>NaN</td>\n",
       "      <td>1&amp;1</td>\n",
       "      <td>General Purpose</td>\n",
       "      <td>S</td>\n",
       "      <td>1</td>\n",
       "      <td>0.5</td>\n",
       "      <td>2919</td>\n",
       "      <td>2794</td>\n",
       "      <td>0.007</td>\n",
       "      <td>3978.0</td>\n",
       "    </tr>\n",
       "    <tr>\n",
       "      <th>4</th>\n",
       "      <td>Worldwide</td>\n",
       "      <td>Amazon Web Services</td>\n",
       "      <td>Burstable Performance</td>\n",
       "      <td>t2.micro</td>\n",
       "      <td>1</td>\n",
       "      <td>1.0</td>\n",
       "      <td>3259</td>\n",
       "      <td>3106</td>\n",
       "      <td>0.012</td>\n",
       "      <td>2588.0</td>\n",
       "    </tr>\n",
       "  </tbody>\n",
       "</table>\n",
       "</div>"
      ],
      "text/plain": [
       "    Location             Provider               Category        VM  CPU  \\\n",
       "0  Worldwide                  1&1        General Purpose         M    1   \n",
       "1        NaN                  1&1        General Purpose         M    1   \n",
       "2  Worldwide                  1&1        General Purpose         S    1   \n",
       "3        NaN                  1&1        General Purpose         S    1   \n",
       "4  Worldwide  Amazon Web Services  Burstable Performance  t2.micro    1   \n",
       "\n",
       "   RAM (GB)  Single Score  Multi Score  Price  Price Score  \n",
       "0       1.0          2298         2963  0.013       2202.0  \n",
       "1       1.0          2998         2863  0.013       2202.0  \n",
       "2       0.5          2919         2794  0.007       3978.0  \n",
       "3       0.5          2919         2794  0.007       3978.0  \n",
       "4       1.0          3259         3106  0.012       2588.0  "
      ]
     },
     "execution_count": 5,
     "metadata": {},
     "output_type": "execute_result"
    }
   ],
   "source": [
    "#edited to get rid of outlier.  there were 2 entries of 24GB data when the rest of the data (97%) \n",
    "# was in the 1GB to 4 GB range\n",
    "data2 = pd.read_csv(\"Compute Score edited.csv\")\n",
    "data2.head()"
   ]
  },
  {
   "cell_type": "code",
   "execution_count": 6,
   "metadata": {},
   "outputs": [],
   "source": [
    "#renaming columns to get rid of spaces in col names\n",
    "data2.rename(index=str, columns={\"RAM (GB)\": \"RAM_GB\", \"Single Score\": \"Single_Score\", \"Multi Score\": \"Multi_Score\", \"Price Score\": \"Price_Score\"}, inplace=True)"
   ]
  },
  {
   "cell_type": "code",
   "execution_count": 8,
   "metadata": {
    "scrolled": true
   },
   "outputs": [
    {
     "data": {
      "text/plain": [
       "2.0    26\n",
       "1.0    21\n",
       "3.5     8\n",
       "3.8     6\n",
       "1.8     6\n",
       "4.0     6\n",
       "3.9     2\n",
       "1.7     2\n",
       "7.8     2\n",
       "3.0     2\n",
       "0.5     2\n",
       "8.0     1\n",
       "Name: RAM_GB, dtype: int64"
      ]
     },
     "execution_count": 8,
     "metadata": {},
     "output_type": "execute_result"
    }
   ],
   "source": [
    "data2['RAM_GB'].value_counts()"
   ]
  },
  {
   "cell_type": "code",
   "execution_count": 150,
   "metadata": {},
   "outputs": [
    {
     "data": {
      "image/png": "[encoded data removed]",
      "text/plain": [
       "<Figure size 432x288 with 1 Axes>"
      ]
     },
     "metadata": {},
     "output_type": "display_data"
    }
   ],
   "source": [
    "plt.scatter(data2.RAM_GB,data2.Price)\n",
    "plt.xlabel('RAM (GB)')\n",
    "plt.ylabel('Price')\n",
    "plt.title('RAM (GB)edited vs Price')\n",
    "plt.show()"
   ]
  },
  {
   "cell_type": "code",
   "execution_count": 149,
   "metadata": {},
   "outputs": [
    {
     "data": {
      "text/html": [
       "<table class=\"simpletable\">\n",
       "<caption>OLS Regression Results</caption>\n",
       "<tr>\n",
       "  <th>Dep. Variable:</th>          <td>Price</td>      <th>  R-squared:         </th> <td>   0.636</td>\n",
       "</tr>\n",
       "<tr>\n",
       "  <th>Model:</th>                   <td>OLS</td>       <th>  Adj. R-squared:    </th> <td>   0.630</td>\n",
       "</tr>\n",
       "<tr>\n",
       "  <th>Method:</th>             <td>Least Squares</td>  <th>  F-statistic:       </th> <td>   96.15</td>\n",
       "</tr>\n",
       "<tr>\n",
       "  <th>Date:</th>             <td>Thu, 18 Apr 2019</td> <th>  Prob (F-statistic):</th> <td>1.12e-13</td>\n",
       "</tr>\n",
       "<tr>\n",
       "  <th>Time:</th>                 <td>15:51:22</td>     <th>  Log-Likelihood:    </th> <td>  166.79</td>\n",
       "</tr>\n",
       "<tr>\n",
       "  <th>No. Observations:</th>      <td>    57</td>      <th>  AIC:               </th> <td>  -329.6</td>\n",
       "</tr>\n",
       "<tr>\n",
       "  <th>Df Residuals:</th>          <td>    55</td>      <th>  BIC:               </th> <td>  -325.5</td>\n",
       "</tr>\n",
       "<tr>\n",
       "  <th>Df Model:</th>              <td>     1</td>      <th>                     </th>     <td> </td>   \n",
       "</tr>\n",
       "<tr>\n",
       "  <th>Covariance Type:</th>      <td>nonrobust</td>    <th>                     </th>     <td> </td>   \n",
       "</tr>\n",
       "</table>\n",
       "<table class=\"simpletable\">\n",
       "<tr>\n",
       "      <td></td>         <th>coef</th>     <th>std err</th>      <th>t</th>      <th>P>|t|</th>  <th>[0.025</th>    <th>0.975]</th>  \n",
       "</tr>\n",
       "<tr>\n",
       "  <th>Intercept</th> <td>   -0.0018</td> <td>    0.004</td> <td>   -0.489</td> <td> 0.627</td> <td>   -0.009</td> <td>    0.006</td>\n",
       "</tr>\n",
       "<tr>\n",
       "  <th>RAM_GB</th>    <td>    0.0149</td> <td>    0.002</td> <td>    9.806</td> <td> 0.000</td> <td>    0.012</td> <td>    0.018</td>\n",
       "</tr>\n",
       "</table>\n",
       "<table class=\"simpletable\">\n",
       "<tr>\n",
       "  <th>Omnibus:</th>       <td> 2.585</td> <th>  Durbin-Watson:     </th> <td>   0.851</td>\n",
       "</tr>\n",
       "<tr>\n",
       "  <th>Prob(Omnibus):</th> <td> 0.275</td> <th>  Jarque-Bera (JB):  </th> <td>   2.505</td>\n",
       "</tr>\n",
       "<tr>\n",
       "  <th>Skew:</th>          <td> 0.479</td> <th>  Prob(JB):          </th> <td>   0.286</td>\n",
       "</tr>\n",
       "<tr>\n",
       "  <th>Kurtosis:</th>      <td> 2.628</td> <th>  Cond. No.          </th> <td>    5.94</td>\n",
       "</tr>\n",
       "</table><br/><br/>Warnings:<br/>[1] Standard Errors assume that the covariance matrix of the errors is correctly specified."
      ],
      "text/plain": [
       "<class 'statsmodels.iolib.summary.Summary'>\n",
       "\"\"\"\n",
       "                            OLS Regression Results                            \n",
       "==============================================================================\n",
       "Dep. Variable:                  Price   R-squared:                       0.636\n",
       "Model:                            OLS   Adj. R-squared:                  0.630\n",
       "Method:                 Least Squares   F-statistic:                     96.15\n",
       "Date:                Thu, 18 Apr 2019   Prob (F-statistic):           1.12e-13\n",
       "Time:                        15:51:22   Log-Likelihood:                 166.79\n",
       "No. Observations:                  57   AIC:                            -329.6\n",
       "Df Residuals:                      55   BIC:                            -325.5\n",
       "Df Model:                           1                                         \n",
       "Covariance Type:            nonrobust                                         \n",
       "==============================================================================\n",
       "                 coef    std err          t      P>|t|      [0.025      0.975]\n",
       "------------------------------------------------------------------------------\n",
       "Intercept     -0.0018      0.004     -0.489      0.627      -0.009       0.006\n",
       "RAM_GB         0.0149      0.002      9.806      0.000       0.012       0.018\n",
       "==============================================================================\n",
       "Omnibus:                        2.585   Durbin-Watson:                   0.851\n",
       "Prob(Omnibus):                  0.275   Jarque-Bera (JB):                2.505\n",
       "Skew:                           0.479   Prob(JB):                        0.286\n",
       "Kurtosis:                       2.628   Cond. No.                         5.94\n",
       "==============================================================================\n",
       "\n",
       "Warnings:\n",
       "[1] Standard Errors assume that the covariance matrix of the errors is correctly specified.\n",
       "\"\"\""
      ]
     },
     "execution_count": 149,
     "metadata": {},
     "output_type": "execute_result"
    }
   ],
   "source": [
    "# Price vs RAM (GB)edited has a r-squared of .636\n",
    "results = smf.ols('Price ~ RAM_GB', data2).fit()\n",
    "results.summary()"
   ]
  },
  {
   "cell_type": "code",
   "execution_count": 148,
   "metadata": {
    "scrolled": true
   },
   "outputs": [
    {
     "data": {
      "image/png": "[encoded data removed]",
      "text/plain": [
       "<Figure size 432x288 with 1 Axes>"
      ]
     },
     "metadata": {},
     "output_type": "display_data"
    }
   ],
   "source": [
    "plt.scatter(data2.RAM_GB,data2.Single_Score)\n",
    "plt.title('RAM (GB)edited vs Single Score')\n",
    "plt.show()"
   ]
  },
  {
   "cell_type": "code",
   "execution_count": 129,
   "metadata": {},
   "outputs": [
    {
     "data": {
      "image/png": "[encoded data removed]",
      "text/plain": [
       "<Figure size 432x288 with 1 Axes>"
      ]
     },
     "metadata": {},
     "output_type": "display_data"
    }
   ],
   "source": [
    "plt.scatter(data2.RAM_GB,data2.Multi_Score)\n",
    "# plt.xlabel('RAM (GB)')\n",
    "# plt.ylabel('Price')\n",
    "# plt.title('RAM (GB) vs Price')\n",
    "plt.show()"
   ]
  },
  {
   "cell_type": "code",
   "execution_count": 13,
   "metadata": {},
   "outputs": [
    {
     "data": {
      "image/png": "[encoded data removed]",
      "text/plain": [
       "<Figure size 432x288 with 1 Axes>"
      ]
     },
     "metadata": {
      "needs_background": "light"
     },
     "output_type": "display_data"
    }
   ],
   "source": [
    "plt.scatter(data2.Single_Score,data2.Price)\n",
    "# plt.xlabel('RAM (GB)')\n",
    "# plt.ylabel('Price')\n",
    "# plt.title('RAM (GB) vs Price')\n",
    "plt.show()"
   ]
  },
  {
   "cell_type": "code",
   "execution_count": 142,
   "metadata": {
    "scrolled": true
   },
   "outputs": [
    {
     "data": {
      "text/plain": [
       "Text(0.5, 1.0, 'RAM (GB) vs Price')"
      ]
     },
     "execution_count": 142,
     "metadata": {},
     "output_type": "execute_result"
    },
    {
     "data": {
      "image/png": "[encoded data removed]",
      "text/plain": [
       "<Figure size 432x288 with 1 Axes>"
      ]
     },
     "metadata": {},
     "output_type": "display_data"
    }
   ],
   "source": [
    "sns.scatterplot(x=data2['RAM_GB'], y=data['Price']).set_title('RAM (GB) vs Price')"
   ]
  },
  {
   "cell_type": "code",
   "execution_count": null,
   "metadata": {},
   "outputs": [],
   "source": []
  },
  {
   "cell_type": "code",
   "execution_count": 158,
   "metadata": {
    "scrolled": false
   },
   "outputs": [
    {
     "data": {
      "text/html": [
       "<table class=\"simpletable\">\n",
       "<caption>OLS Regression Results</caption>\n",
       "<tr>\n",
       "  <th>Dep. Variable:</th>          <td>Price</td>      <th>  R-squared:         </th> <td>   0.769</td>\n",
       "</tr>\n",
       "<tr>\n",
       "  <th>Model:</th>                   <td>OLS</td>       <th>  Adj. R-squared:    </th> <td>   0.751</td>\n",
       "</tr>\n",
       "<tr>\n",
       "  <th>Method:</th>             <td>Least Squares</td>  <th>  F-statistic:       </th> <td>   43.28</td>\n",
       "</tr>\n",
       "<tr>\n",
       "  <th>Date:</th>             <td>Thu, 18 Apr 2019</td> <th>  Prob (F-statistic):</th> <td>5.95e-16</td>\n",
       "</tr>\n",
       "<tr>\n",
       "  <th>Time:</th>                 <td>15:56:16</td>     <th>  Log-Likelihood:    </th> <td>  179.74</td>\n",
       "</tr>\n",
       "<tr>\n",
       "  <th>No. Observations:</th>      <td>    57</td>      <th>  AIC:               </th> <td>  -349.5</td>\n",
       "</tr>\n",
       "<tr>\n",
       "  <th>Df Residuals:</th>          <td>    52</td>      <th>  BIC:               </th> <td>  -339.3</td>\n",
       "</tr>\n",
       "<tr>\n",
       "  <th>Df Model:</th>              <td>     4</td>      <th>                     </th>     <td> </td>   \n",
       "</tr>\n",
       "<tr>\n",
       "  <th>Covariance Type:</th>      <td>nonrobust</td>    <th>                     </th>     <td> </td>   \n",
       "</tr>\n",
       "</table>\n",
       "<table class=\"simpletable\">\n",
       "<tr>\n",
       "        <td></td>          <th>coef</th>     <th>std err</th>      <th>t</th>      <th>P>|t|</th>  <th>[0.025</th>    <th>0.975]</th>  \n",
       "</tr>\n",
       "<tr>\n",
       "  <th>Intercept</th>    <td>    0.0298</td> <td>    0.008</td> <td>    3.558</td> <td> 0.001</td> <td>    0.013</td> <td>    0.047</td>\n",
       "</tr>\n",
       "<tr>\n",
       "  <th>Single_Score</th> <td>-5.125e-06</td> <td> 3.36e-06</td> <td>   -1.524</td> <td> 0.134</td> <td>-1.19e-05</td> <td> 1.62e-06</td>\n",
       "</tr>\n",
       "<tr>\n",
       "  <th>Multi_Score</th>  <td> 3.885e-06</td> <td> 1.67e-06</td> <td>    2.324</td> <td> 0.024</td> <td>  5.3e-07</td> <td> 7.24e-06</td>\n",
       "</tr>\n",
       "<tr>\n",
       "  <th>Price_Score</th>  <td>-7.632e-06</td> <td> 1.84e-06</td> <td>   -4.155</td> <td> 0.000</td> <td>-1.13e-05</td> <td>-3.95e-06</td>\n",
       "</tr>\n",
       "<tr>\n",
       "  <th>RAM_GB</th>       <td>    0.0079</td> <td>    0.002</td> <td>    3.954</td> <td> 0.000</td> <td>    0.004</td> <td>    0.012</td>\n",
       "</tr>\n",
       "</table>\n",
       "<table class=\"simpletable\">\n",
       "<tr>\n",
       "  <th>Omnibus:</th>       <td> 2.831</td> <th>  Durbin-Watson:     </th> <td>   1.211</td>\n",
       "</tr>\n",
       "<tr>\n",
       "  <th>Prob(Omnibus):</th> <td> 0.243</td> <th>  Jarque-Bera (JB):  </th> <td>   2.139</td>\n",
       "</tr>\n",
       "<tr>\n",
       "  <th>Skew:</th>          <td> 0.465</td> <th>  Prob(JB):          </th> <td>   0.343</td>\n",
       "</tr>\n",
       "<tr>\n",
       "  <th>Kurtosis:</th>      <td> 3.187</td> <th>  Cond. No.          </th> <td>2.73e+04</td>\n",
       "</tr>\n",
       "</table><br/><br/>Warnings:<br/>[1] Standard Errors assume that the covariance matrix of the errors is correctly specified.<br/>[2] The condition number is large, 2.73e+04. This might indicate that there are<br/>strong multicollinearity or other numerical problems."
      ],
      "text/plain": [
       "<class 'statsmodels.iolib.summary.Summary'>\n",
       "\"\"\"\n",
       "                            OLS Regression Results                            \n",
       "==============================================================================\n",
       "Dep. Variable:                  Price   R-squared:                       0.769\n",
       "Model:                            OLS   Adj. R-squared:                  0.751\n",
       "Method:                 Least Squares   F-statistic:                     43.28\n",
       "Date:                Thu, 18 Apr 2019   Prob (F-statistic):           5.95e-16\n",
       "Time:                        15:56:16   Log-Likelihood:                 179.74\n",
       "No. Observations:                  57   AIC:                            -349.5\n",
       "Df Residuals:                      52   BIC:                            -339.3\n",
       "Df Model:                           4                                         \n",
       "Covariance Type:            nonrobust                                         \n",
       "================================================================================\n",
       "                   coef    std err          t      P>|t|      [0.025      0.975]\n",
       "--------------------------------------------------------------------------------\n",
       "Intercept        0.0298      0.008      3.558      0.001       0.013       0.047\n",
       "Single_Score -5.125e-06   3.36e-06     -1.524      0.134   -1.19e-05    1.62e-06\n",
       "Multi_Score   3.885e-06   1.67e-06      2.324      0.024     5.3e-07    7.24e-06\n",
       "Price_Score  -7.632e-06   1.84e-06     -4.155      0.000   -1.13e-05   -3.95e-06\n",
       "RAM_GB           0.0079      0.002      3.954      0.000       0.004       0.012\n",
       "==============================================================================\n",
       "Omnibus:                        2.831   Durbin-Watson:                   1.211\n",
       "Prob(Omnibus):                  0.243   Jarque-Bera (JB):                2.139\n",
       "Skew:                           0.465   Prob(JB):                        0.343\n",
       "Kurtosis:                       3.187   Cond. No.                     2.73e+04\n",
       "==============================================================================\n",
       "\n",
       "Warnings:\n",
       "[1] Standard Errors assume that the covariance matrix of the errors is correctly specified.\n",
       "[2] The condition number is large, 2.73e+04. This might indicate that there are\n",
       "strong multicollinearity or other numerical problems.\n",
       "\"\"\""
      ]
     },
     "execution_count": 158,
     "metadata": {},
     "output_type": "execute_result"
    }
   ],
   "source": [
    "#model with ALL variables. r-squared = .769            with unedited RAM.788\n",
    "f = 'Price~Single_Score+Multi_Score+Price_Score+RAM_GB'\n",
    "model=smf.ols(formula=f, data=data2).fit()\n",
    "model.summary()"
   ]
  },
  {
   "cell_type": "code",
   "execution_count": 159,
   "metadata": {},
   "outputs": [
    {
     "data": {
      "text/plain": [
       "Intercept       0.029816\n",
       "Single_Score   -0.000005\n",
       "Multi_Score     0.000004\n",
       "Price_Score    -0.000008\n",
       "RAM_GB          0.007869\n",
       "dtype: float64"
      ]
     },
     "execution_count": 159,
     "metadata": {},
     "output_type": "execute_result"
    }
   ],
   "source": [
    "model.params"
   ]
  },
  {
   "cell_type": "code",
   "execution_count": 160,
   "metadata": {
    "scrolled": false
   },
   "outputs": [
    {
     "data": {
      "text/html": [
       "<table class=\"simpletable\">\n",
       "<caption>OLS Regression Results</caption>\n",
       "<tr>\n",
       "  <th>Dep. Variable:</th>          <td>Price</td>      <th>  R-squared:         </th> <td>   0.692</td>\n",
       "</tr>\n",
       "<tr>\n",
       "  <th>Model:</th>                   <td>OLS</td>       <th>  Adj. R-squared:    </th> <td>   0.675</td>\n",
       "</tr>\n",
       "<tr>\n",
       "  <th>Method:</th>             <td>Least Squares</td>  <th>  F-statistic:       </th> <td>   39.76</td>\n",
       "</tr>\n",
       "<tr>\n",
       "  <th>Date:</th>             <td>Thu, 18 Apr 2019</td> <th>  Prob (F-statistic):</th> <td>1.34e-13</td>\n",
       "</tr>\n",
       "<tr>\n",
       "  <th>Time:</th>                 <td>15:56:35</td>     <th>  Log-Likelihood:    </th> <td>  171.57</td>\n",
       "</tr>\n",
       "<tr>\n",
       "  <th>No. Observations:</th>      <td>    57</td>      <th>  AIC:               </th> <td>  -335.1</td>\n",
       "</tr>\n",
       "<tr>\n",
       "  <th>Df Residuals:</th>          <td>    53</td>      <th>  BIC:               </th> <td>  -327.0</td>\n",
       "</tr>\n",
       "<tr>\n",
       "  <th>Df Model:</th>              <td>     3</td>      <th>                     </th>     <td> </td>   \n",
       "</tr>\n",
       "<tr>\n",
       "  <th>Covariance Type:</th>      <td>nonrobust</td>    <th>                     </th>     <td> </td>   \n",
       "</tr>\n",
       "</table>\n",
       "<table class=\"simpletable\">\n",
       "<tr>\n",
       "        <td></td>          <th>coef</th>     <th>std err</th>      <th>t</th>      <th>P>|t|</th>  <th>[0.025</th>    <th>0.975]</th>  \n",
       "</tr>\n",
       "<tr>\n",
       "  <th>Intercept</th>    <td>    0.0235</td> <td>    0.009</td> <td>    2.497</td> <td> 0.016</td> <td>    0.005</td> <td>    0.042</td>\n",
       "</tr>\n",
       "<tr>\n",
       "  <th>Single_Score</th> <td>-1.085e-05</td> <td> 3.51e-06</td> <td>   -3.095</td> <td> 0.003</td> <td>-1.79e-05</td> <td>-3.82e-06</td>\n",
       "</tr>\n",
       "<tr>\n",
       "  <th>Multi_Score</th>  <td> 2.567e-06</td> <td> 1.88e-06</td> <td>    1.368</td> <td> 0.177</td> <td> -1.2e-06</td> <td> 6.33e-06</td>\n",
       "</tr>\n",
       "<tr>\n",
       "  <th>RAM_GB</th>       <td>    0.0142</td> <td>    0.001</td> <td>    9.582</td> <td> 0.000</td> <td>    0.011</td> <td>    0.017</td>\n",
       "</tr>\n",
       "</table>\n",
       "<table class=\"simpletable\">\n",
       "<tr>\n",
       "  <th>Omnibus:</th>       <td> 3.778</td> <th>  Durbin-Watson:     </th> <td>   1.021</td>\n",
       "</tr>\n",
       "<tr>\n",
       "  <th>Prob(Omnibus):</th> <td> 0.151</td> <th>  Jarque-Bera (JB):  </th> <td>   2.945</td>\n",
       "</tr>\n",
       "<tr>\n",
       "  <th>Skew:</th>          <td> 0.538</td> <th>  Prob(JB):          </th> <td>   0.229</td>\n",
       "</tr>\n",
       "<tr>\n",
       "  <th>Kurtosis:</th>      <td> 3.284</td> <th>  Cond. No.          </th> <td>2.46e+04</td>\n",
       "</tr>\n",
       "</table><br/><br/>Warnings:<br/>[1] Standard Errors assume that the covariance matrix of the errors is correctly specified.<br/>[2] The condition number is large, 2.46e+04. This might indicate that there are<br/>strong multicollinearity or other numerical problems."
      ],
      "text/plain": [
       "<class 'statsmodels.iolib.summary.Summary'>\n",
       "\"\"\"\n",
       "                            OLS Regression Results                            \n",
       "==============================================================================\n",
       "Dep. Variable:                  Price   R-squared:                       0.692\n",
       "Model:                            OLS   Adj. R-squared:                  0.675\n",
       "Method:                 Least Squares   F-statistic:                     39.76\n",
       "Date:                Thu, 18 Apr 2019   Prob (F-statistic):           1.34e-13\n",
       "Time:                        15:56:35   Log-Likelihood:                 171.57\n",
       "No. Observations:                  57   AIC:                            -335.1\n",
       "Df Residuals:                      53   BIC:                            -327.0\n",
       "Df Model:                           3                                         \n",
       "Covariance Type:            nonrobust                                         \n",
       "================================================================================\n",
       "                   coef    std err          t      P>|t|      [0.025      0.975]\n",
       "--------------------------------------------------------------------------------\n",
       "Intercept        0.0235      0.009      2.497      0.016       0.005       0.042\n",
       "Single_Score -1.085e-05   3.51e-06     -3.095      0.003   -1.79e-05   -3.82e-06\n",
       "Multi_Score   2.567e-06   1.88e-06      1.368      0.177    -1.2e-06    6.33e-06\n",
       "RAM_GB           0.0142      0.001      9.582      0.000       0.011       0.017\n",
       "==============================================================================\n",
       "Omnibus:                        3.778   Durbin-Watson:                   1.021\n",
       "Prob(Omnibus):                  0.151   Jarque-Bera (JB):                2.945\n",
       "Skew:                           0.538   Prob(JB):                        0.229\n",
       "Kurtosis:                       3.284   Cond. No.                     2.46e+04\n",
       "==============================================================================\n",
       "\n",
       "Warnings:\n",
       "[1] Standard Errors assume that the covariance matrix of the errors is correctly specified.\n",
       "[2] The condition number is large, 2.46e+04. This might indicate that there are\n",
       "strong multicollinearity or other numerical problems.\n",
       "\"\"\""
      ]
     },
     "execution_count": 160,
     "metadata": {},
     "output_type": "execute_result"
    }
   ],
   "source": [
    "#dropping Price_Score drops r-squared to .692       unedited ram = .491\n",
    "f = 'Price~Single_Score+Multi_Score+RAM_GB'\n",
    "model=smf.ols(formula=f, data=data2).fit()\n",
    "model.summary()"
   ]
  },
  {
   "cell_type": "code",
   "execution_count": 162,
   "metadata": {
    "scrolled": true
   },
   "outputs": [
    {
     "data": {
      "text/html": [
       "<table class=\"simpletable\">\n",
       "<caption>OLS Regression Results</caption>\n",
       "<tr>\n",
       "  <th>Dep. Variable:</th>          <td>Price</td>      <th>  R-squared:         </th> <td>   0.681</td>\n",
       "</tr>\n",
       "<tr>\n",
       "  <th>Model:</th>                   <td>OLS</td>       <th>  Adj. R-squared:    </th> <td>   0.670</td>\n",
       "</tr>\n",
       "<tr>\n",
       "  <th>Method:</th>             <td>Least Squares</td>  <th>  F-statistic:       </th> <td>   57.77</td>\n",
       "</tr>\n",
       "<tr>\n",
       "  <th>Date:</th>             <td>Thu, 18 Apr 2019</td> <th>  Prob (F-statistic):</th> <td>3.84e-14</td>\n",
       "</tr>\n",
       "<tr>\n",
       "  <th>Time:</th>                 <td>15:58:46</td>     <th>  Log-Likelihood:    </th> <td>  170.58</td>\n",
       "</tr>\n",
       "<tr>\n",
       "  <th>No. Observations:</th>      <td>    57</td>      <th>  AIC:               </th> <td>  -335.2</td>\n",
       "</tr>\n",
       "<tr>\n",
       "  <th>Df Residuals:</th>          <td>    54</td>      <th>  BIC:               </th> <td>  -329.0</td>\n",
       "</tr>\n",
       "<tr>\n",
       "  <th>Df Model:</th>              <td>     2</td>      <th>                     </th>     <td> </td>   \n",
       "</tr>\n",
       "<tr>\n",
       "  <th>Covariance Type:</th>      <td>nonrobust</td>    <th>                     </th>     <td> </td>   \n",
       "</tr>\n",
       "</table>\n",
       "<table class=\"simpletable\">\n",
       "<tr>\n",
       "        <td></td>          <th>coef</th>     <th>std err</th>      <th>t</th>      <th>P>|t|</th>  <th>[0.025</th>    <th>0.975]</th>  \n",
       "</tr>\n",
       "<tr>\n",
       "  <th>Intercept</th>    <td>    0.0226</td> <td>    0.009</td> <td>    2.382</td> <td> 0.021</td> <td>    0.004</td> <td>    0.042</td>\n",
       "</tr>\n",
       "<tr>\n",
       "  <th>Single_Score</th> <td>-8.311e-06</td> <td>    3e-06</td> <td>   -2.773</td> <td> 0.008</td> <td>-1.43e-05</td> <td> -2.3e-06</td>\n",
       "</tr>\n",
       "<tr>\n",
       "  <th>RAM_GB</th>       <td>    0.0147</td> <td>    0.001</td> <td>   10.286</td> <td> 0.000</td> <td>    0.012</td> <td>    0.018</td>\n",
       "</tr>\n",
       "</table>\n",
       "<table class=\"simpletable\">\n",
       "<tr>\n",
       "  <th>Omnibus:</th>       <td> 1.425</td> <th>  Durbin-Watson:     </th> <td>   1.013</td>\n",
       "</tr>\n",
       "<tr>\n",
       "  <th>Prob(Omnibus):</th> <td> 0.490</td> <th>  Jarque-Bera (JB):  </th> <td>   1.117</td>\n",
       "</tr>\n",
       "<tr>\n",
       "  <th>Skew:</th>          <td> 0.343</td> <th>  Prob(JB):          </th> <td>   0.572</td>\n",
       "</tr>\n",
       "<tr>\n",
       "  <th>Kurtosis:</th>      <td> 2.969</td> <th>  Cond. No.          </th> <td>1.69e+04</td>\n",
       "</tr>\n",
       "</table><br/><br/>Warnings:<br/>[1] Standard Errors assume that the covariance matrix of the errors is correctly specified.<br/>[2] The condition number is large, 1.69e+04. This might indicate that there are<br/>strong multicollinearity or other numerical problems."
      ],
      "text/plain": [
       "<class 'statsmodels.iolib.summary.Summary'>\n",
       "\"\"\"\n",
       "                            OLS Regression Results                            \n",
       "==============================================================================\n",
       "Dep. Variable:                  Price   R-squared:                       0.681\n",
       "Model:                            OLS   Adj. R-squared:                  0.670\n",
       "Method:                 Least Squares   F-statistic:                     57.77\n",
       "Date:                Thu, 18 Apr 2019   Prob (F-statistic):           3.84e-14\n",
       "Time:                        15:58:46   Log-Likelihood:                 170.58\n",
       "No. Observations:                  57   AIC:                            -335.2\n",
       "Df Residuals:                      54   BIC:                            -329.0\n",
       "Df Model:                           2                                         \n",
       "Covariance Type:            nonrobust                                         \n",
       "================================================================================\n",
       "                   coef    std err          t      P>|t|      [0.025      0.975]\n",
       "--------------------------------------------------------------------------------\n",
       "Intercept        0.0226      0.009      2.382      0.021       0.004       0.042\n",
       "Single_Score -8.311e-06      3e-06     -2.773      0.008   -1.43e-05    -2.3e-06\n",
       "RAM_GB           0.0147      0.001     10.286      0.000       0.012       0.018\n",
       "==============================================================================\n",
       "Omnibus:                        1.425   Durbin-Watson:                   1.013\n",
       "Prob(Omnibus):                  0.490   Jarque-Bera (JB):                1.117\n",
       "Skew:                           0.343   Prob(JB):                        0.572\n",
       "Kurtosis:                       2.969   Cond. No.                     1.69e+04\n",
       "==============================================================================\n",
       "\n",
       "Warnings:\n",
       "[1] Standard Errors assume that the covariance matrix of the errors is correctly specified.\n",
       "[2] The condition number is large, 1.69e+04. This might indicate that there are\n",
       "strong multicollinearity or other numerical problems.\n",
       "\"\"\""
      ]
     },
     "execution_count": 162,
     "metadata": {},
     "output_type": "execute_result"
    }
   ],
   "source": [
    "#dropped multi_score and price_score r-squared = .681          unedited RAM r-squared:.431\n",
    "f = 'Price~Single_Score+RAM_GB'\n",
    "model=smf.ols(formula=f, data=data2).fit()\n",
    "model.summary()"
   ]
  },
  {
   "cell_type": "code",
   "execution_count": 163,
   "metadata": {},
   "outputs": [
    {
     "data": {
      "text/plain": [
       "Intercept       0.022556\n",
       "Single_Score   -0.000008\n",
       "RAM_GB          0.014719\n",
       "dtype: float64"
      ]
     },
     "execution_count": 163,
     "metadata": {},
     "output_type": "execute_result"
    }
   ],
   "source": [
    "model.params"
   ]
  },
  {
   "cell_type": "code",
   "execution_count": 164,
   "metadata": {
    "scrolled": true
   },
   "outputs": [
    {
     "data": {
      "text/html": [
       "<div>\n",
       "<style scoped>\n",
       "    .dataframe tbody tr th:only-of-type {\n",
       "        vertical-align: middle;\n",
       "    }\n",
       "\n",
       "    .dataframe tbody tr th {\n",
       "        vertical-align: top;\n",
       "    }\n",
       "\n",
       "    .dataframe thead th {\n",
       "        text-align: right;\n",
       "    }\n",
       "</style>\n",
       "<table border=\"1\" class=\"dataframe\">\n",
       "  <thead>\n",
       "    <tr style=\"text-align: right;\">\n",
       "      <th></th>\n",
       "      <th>Provider_1&amp;1</th>\n",
       "      <th>Provider_Amazon Web Services</th>\n",
       "      <th>Provider_DigitalOcean</th>\n",
       "      <th>Provider_Exoscale</th>\n",
       "      <th>Provider_Google Cloud Platform</th>\n",
       "      <th>Provider_IBM Softlayer</th>\n",
       "      <th>Provider_Joyent</th>\n",
       "      <th>Provider_Linode</th>\n",
       "      <th>Provider_Microsoft Azure</th>\n",
       "      <th>Provider_OVH Group</th>\n",
       "      <th>Provider_T-Systems Open Telekom Cloud</th>\n",
       "      <th>Provider_UpCloud</th>\n",
       "      <th>Provider_Vultr</th>\n",
       "    </tr>\n",
       "  </thead>\n",
       "  <tbody>\n",
       "    <tr>\n",
       "      <th>0</th>\n",
       "      <td>1</td>\n",
       "      <td>0</td>\n",
       "      <td>0</td>\n",
       "      <td>0</td>\n",
       "      <td>0</td>\n",
       "      <td>0</td>\n",
       "      <td>0</td>\n",
       "      <td>0</td>\n",
       "      <td>0</td>\n",
       "      <td>0</td>\n",
       "      <td>0</td>\n",
       "      <td>0</td>\n",
       "      <td>0</td>\n",
       "    </tr>\n",
       "    <tr>\n",
       "      <th>1</th>\n",
       "      <td>1</td>\n",
       "      <td>0</td>\n",
       "      <td>0</td>\n",
       "      <td>0</td>\n",
       "      <td>0</td>\n",
       "      <td>0</td>\n",
       "      <td>0</td>\n",
       "      <td>0</td>\n",
       "      <td>0</td>\n",
       "      <td>0</td>\n",
       "      <td>0</td>\n",
       "      <td>0</td>\n",
       "      <td>0</td>\n",
       "    </tr>\n",
       "    <tr>\n",
       "      <th>2</th>\n",
       "      <td>1</td>\n",
       "      <td>0</td>\n",
       "      <td>0</td>\n",
       "      <td>0</td>\n",
       "      <td>0</td>\n",
       "      <td>0</td>\n",
       "      <td>0</td>\n",
       "      <td>0</td>\n",
       "      <td>0</td>\n",
       "      <td>0</td>\n",
       "      <td>0</td>\n",
       "      <td>0</td>\n",
       "      <td>0</td>\n",
       "    </tr>\n",
       "    <tr>\n",
       "      <th>3</th>\n",
       "      <td>1</td>\n",
       "      <td>0</td>\n",
       "      <td>0</td>\n",
       "      <td>0</td>\n",
       "      <td>0</td>\n",
       "      <td>0</td>\n",
       "      <td>0</td>\n",
       "      <td>0</td>\n",
       "      <td>0</td>\n",
       "      <td>0</td>\n",
       "      <td>0</td>\n",
       "      <td>0</td>\n",
       "      <td>0</td>\n",
       "    </tr>\n",
       "    <tr>\n",
       "      <th>4</th>\n",
       "      <td>0</td>\n",
       "      <td>1</td>\n",
       "      <td>0</td>\n",
       "      <td>0</td>\n",
       "      <td>0</td>\n",
       "      <td>0</td>\n",
       "      <td>0</td>\n",
       "      <td>0</td>\n",
       "      <td>0</td>\n",
       "      <td>0</td>\n",
       "      <td>0</td>\n",
       "      <td>0</td>\n",
       "      <td>0</td>\n",
       "    </tr>\n",
       "  </tbody>\n",
       "</table>\n",
       "</div>"
      ],
      "text/plain": [
       "   Provider_1&1  Provider_Amazon Web Services  Provider_DigitalOcean  \\\n",
       "0             1                             0                      0   \n",
       "1             1                             0                      0   \n",
       "2             1                             0                      0   \n",
       "3             1                             0                      0   \n",
       "4             0                             1                      0   \n",
       "\n",
       "   Provider_Exoscale  Provider_Google Cloud Platform  Provider_IBM Softlayer  \\\n",
       "0                  0                               0                       0   \n",
       "1                  0                               0                       0   \n",
       "2                  0                               0                       0   \n",
       "3                  0                               0                       0   \n",
       "4                  0                               0                       0   \n",
       "\n",
       "   Provider_Joyent  Provider_Linode  Provider_Microsoft Azure  \\\n",
       "0                0                0                         0   \n",
       "1                0                0                         0   \n",
       "2                0                0                         0   \n",
       "3                0                0                         0   \n",
       "4                0                0                         0   \n",
       "\n",
       "   Provider_OVH Group  Provider_T-Systems Open Telekom Cloud  \\\n",
       "0                   0                                      0   \n",
       "1                   0                                      0   \n",
       "2                   0                                      0   \n",
       "3                   0                                      0   \n",
       "4                   0                                      0   \n",
       "\n",
       "   Provider_UpCloud  Provider_Vultr  \n",
       "0                 0               0  \n",
       "1                 0               0  \n",
       "2                 0               0  \n",
       "3                 0               0  \n",
       "4                 0               0  "
      ]
     },
     "execution_count": 164,
     "metadata": {},
     "output_type": "execute_result"
    }
   ],
   "source": [
    "#turn a categorical column into multiple dummy columns\n",
    "#turning Provider (categorical column) into multiple dummy columns\n",
    "prov_dummy = pd.get_dummies(data2['Provider'],prefix = 'Provider')\n",
    "prov_dummy.head()"
   ]
  },
  {
   "cell_type": "code",
   "execution_count": 165,
   "metadata": {
    "scrolled": false
   },
   "outputs": [
    {
     "data": {
      "text/plain": [
       "Index(['Location', 'Provider', 'Category', 'VM', 'CPU', 'RAM_GB',\n",
       "       'Single_Score', 'Multi_Score', 'Price', 'Price_Score', 'Provider_1&1',\n",
       "       'Provider_Amazon Web Services', 'Provider_DigitalOcean',\n",
       "       'Provider_Exoscale', 'Provider_Google Cloud Platform',\n",
       "       'Provider_IBM Softlayer', 'Provider_Joyent', 'Provider_Linode',\n",
       "       'Provider_Microsoft Azure', 'Provider_OVH Group',\n",
       "       'Provider_T-Systems Open Telekom Cloud', 'Provider_UpCloud',\n",
       "       'Provider_Vultr'],\n",
       "      dtype='object')"
      ]
     },
     "execution_count": 165,
     "metadata": {},
     "output_type": "execute_result"
    }
   ],
   "source": [
    "#concating data + prov_dummy into one table named data_dummies\n",
    "data_dummies = pd.concat([data2, prov_dummy], axis = 1)\n",
    "data_dummies.columns"
   ]
  },
  {
   "cell_type": "code",
   "execution_count": 166,
   "metadata": {},
   "outputs": [],
   "source": [
    "#renaming column titles to get rid of spaces in names\n",
    "data_dummies.rename(index=str, columns={'Provider_1&1': 'Provider_1', 'Provider_Amazon Web Services': 'Provider_AWS', 'Provider_Google Cloud Platform': 'Provider_Google',\n",
    "       'Provider_IBM Softlayer': 'Provider_IBM', 'Provider_Microsoft Azure': 'Provider_Azure', 'Provider_OVH Group': 'Provider_OVH_Group',\n",
    "       'Provider_T-Systems Open Telekom Cloud': 'Provider_TSystems'}, inplace=True)\n"
   ]
  },
  {
   "cell_type": "code",
   "execution_count": 167,
   "metadata": {
    "scrolled": false
   },
   "outputs": [
    {
     "data": {
      "text/plain": [
       "Index(['Location', 'Provider', 'Category', 'VM', 'CPU', 'RAM_GB',\n",
       "       'Single_Score', 'Multi_Score', 'Price', 'Price_Score', 'Provider_1',\n",
       "       'Provider_AWS', 'Provider_DigitalOcean', 'Provider_Exoscale',\n",
       "       'Provider_Google', 'Provider_IBM', 'Provider_Joyent', 'Provider_Linode',\n",
       "       'Provider_Azure', 'Provider_OVH_Group', 'Provider_TSystems',\n",
       "       'Provider_UpCloud', 'Provider_Vultr'],\n",
       "      dtype='object')"
      ]
     },
     "execution_count": 167,
     "metadata": {},
     "output_type": "execute_result"
    }
   ],
   "source": [
    "data_dummies.columns"
   ]
  },
  {
   "cell_type": "code",
   "execution_count": 168,
   "metadata": {
    "scrolled": false
   },
   "outputs": [
    {
     "data": {
      "text/html": [
       "<table class=\"simpletable\">\n",
       "<caption>OLS Regression Results</caption>\n",
       "<tr>\n",
       "  <th>Dep. Variable:</th>          <td>Price</td>      <th>  R-squared:         </th> <td>   0.941</td>\n",
       "</tr>\n",
       "<tr>\n",
       "  <th>Model:</th>                   <td>OLS</td>       <th>  Adj. R-squared:    </th> <td>   0.921</td>\n",
       "</tr>\n",
       "<tr>\n",
       "  <th>Method:</th>             <td>Least Squares</td>  <th>  F-statistic:       </th> <td>   47.62</td>\n",
       "</tr>\n",
       "<tr>\n",
       "  <th>Date:</th>             <td>Thu, 18 Apr 2019</td> <th>  Prob (F-statistic):</th> <td>3.54e-21</td>\n",
       "</tr>\n",
       "<tr>\n",
       "  <th>Time:</th>                 <td>15:59:35</td>     <th>  Log-Likelihood:    </th> <td>  218.51</td>\n",
       "</tr>\n",
       "<tr>\n",
       "  <th>No. Observations:</th>      <td>    57</td>      <th>  AIC:               </th> <td>  -407.0</td>\n",
       "</tr>\n",
       "<tr>\n",
       "  <th>Df Residuals:</th>          <td>    42</td>      <th>  BIC:               </th> <td>  -376.4</td>\n",
       "</tr>\n",
       "<tr>\n",
       "  <th>Df Model:</th>              <td>    14</td>      <th>                     </th>     <td> </td>   \n",
       "</tr>\n",
       "<tr>\n",
       "  <th>Covariance Type:</th>      <td>nonrobust</td>    <th>                     </th>     <td> </td>   \n",
       "</tr>\n",
       "</table>\n",
       "<table class=\"simpletable\">\n",
       "<tr>\n",
       "            <td></td>               <th>coef</th>     <th>std err</th>      <th>t</th>      <th>P>|t|</th>  <th>[0.025</th>    <th>0.975]</th>  \n",
       "</tr>\n",
       "<tr>\n",
       "  <th>Intercept</th>             <td>    0.0230</td> <td>    0.006</td> <td>    4.001</td> <td> 0.000</td> <td>    0.011</td> <td>    0.035</td>\n",
       "</tr>\n",
       "<tr>\n",
       "  <th>Single_Score</th>          <td> 5.232e-06</td> <td> 2.21e-06</td> <td>    2.363</td> <td> 0.023</td> <td> 7.63e-07</td> <td>  9.7e-06</td>\n",
       "</tr>\n",
       "<tr>\n",
       "  <th>Multi_Score</th>           <td>-8.885e-07</td> <td> 1.17e-06</td> <td>   -0.757</td> <td> 0.453</td> <td>-3.26e-06</td> <td> 1.48e-06</td>\n",
       "</tr>\n",
       "<tr>\n",
       "  <th>Price_Score</th>           <td>-5.421e-06</td> <td> 1.12e-06</td> <td>   -4.837</td> <td> 0.000</td> <td>-7.68e-06</td> <td>-3.16e-06</td>\n",
       "</tr>\n",
       "<tr>\n",
       "  <th>Provider_1</th>            <td>   -0.0083</td> <td>    0.003</td> <td>   -2.542</td> <td> 0.015</td> <td>   -0.015</td> <td>   -0.002</td>\n",
       "</tr>\n",
       "<tr>\n",
       "  <th>Provider_AWS</th>          <td>   -0.0091</td> <td>    0.003</td> <td>   -2.952</td> <td> 0.005</td> <td>   -0.015</td> <td>   -0.003</td>\n",
       "</tr>\n",
       "<tr>\n",
       "  <th>Provider_DigitalOcean</th> <td>   -0.0085</td> <td>    0.002</td> <td>   -3.761</td> <td> 0.001</td> <td>   -0.013</td> <td>   -0.004</td>\n",
       "</tr>\n",
       "<tr>\n",
       "  <th>Provider_Exoscale</th>     <td>   -0.0097</td> <td>    0.006</td> <td>   -1.496</td> <td> 0.142</td> <td>   -0.023</td> <td>    0.003</td>\n",
       "</tr>\n",
       "<tr>\n",
       "  <th>Provider_Google</th>       <td>    0.0090</td> <td>    0.003</td> <td>    3.229</td> <td> 0.002</td> <td>    0.003</td> <td>    0.015</td>\n",
       "</tr>\n",
       "<tr>\n",
       "  <th>Provider_IBM</th>          <td>    0.0072</td> <td>    0.003</td> <td>    2.628</td> <td> 0.012</td> <td>    0.002</td> <td>    0.013</td>\n",
       "</tr>\n",
       "<tr>\n",
       "  <th>Provider_Joyent</th>       <td>    0.0445</td> <td>    0.004</td> <td>   10.487</td> <td> 0.000</td> <td>    0.036</td> <td>    0.053</td>\n",
       "</tr>\n",
       "<tr>\n",
       "  <th>Provider_Linode</th>       <td>   -0.0097</td> <td>    0.003</td> <td>   -3.133</td> <td> 0.003</td> <td>   -0.016</td> <td>   -0.003</td>\n",
       "</tr>\n",
       "<tr>\n",
       "  <th>Provider_Azure</th>        <td>    0.0246</td> <td>    0.003</td> <td>    9.163</td> <td> 0.000</td> <td>    0.019</td> <td>    0.030</td>\n",
       "</tr>\n",
       "<tr>\n",
       "  <th>Provider_OVH_Group</th>    <td>-5.262e-19</td> <td>    1e-18</td> <td>   -0.526</td> <td> 0.602</td> <td>-2.54e-18</td> <td> 1.49e-18</td>\n",
       "</tr>\n",
       "<tr>\n",
       "  <th>Provider_TSystems</th>     <td>    0.0004</td> <td>    0.004</td> <td>    0.104</td> <td> 0.918</td> <td>   -0.007</td> <td>    0.008</td>\n",
       "</tr>\n",
       "<tr>\n",
       "  <th>Provider_UpCloud</th>      <td>   -0.0085</td> <td>    0.003</td> <td>   -2.496</td> <td> 0.017</td> <td>   -0.015</td> <td>   -0.002</td>\n",
       "</tr>\n",
       "<tr>\n",
       "  <th>Provider_Vultr</th>        <td>   -0.0089</td> <td>    0.003</td> <td>   -2.561</td> <td> 0.014</td> <td>   -0.016</td> <td>   -0.002</td>\n",
       "</tr>\n",
       "</table>\n",
       "<table class=\"simpletable\">\n",
       "<tr>\n",
       "  <th>Omnibus:</th>       <td> 6.728</td> <th>  Durbin-Watson:     </th> <td>   1.717</td>\n",
       "</tr>\n",
       "<tr>\n",
       "  <th>Prob(Omnibus):</th> <td> 0.035</td> <th>  Jarque-Bera (JB):  </th> <td>  11.450</td>\n",
       "</tr>\n",
       "<tr>\n",
       "  <th>Skew:</th>          <td>-0.066</td> <th>  Prob(JB):          </th> <td> 0.00326</td>\n",
       "</tr>\n",
       "<tr>\n",
       "  <th>Kurtosis:</th>      <td> 5.192</td> <th>  Cond. No.          </th> <td>1.92e+22</td>\n",
       "</tr>\n",
       "</table><br/><br/>Warnings:<br/>[1] Standard Errors assume that the covariance matrix of the errors is correctly specified.<br/>[2] The smallest eigenvalue is 3.35e-36. This might indicate that there are<br/>strong multicollinearity problems or that the design matrix is singular."
      ],
      "text/plain": [
       "<class 'statsmodels.iolib.summary.Summary'>\n",
       "\"\"\"\n",
       "                            OLS Regression Results                            \n",
       "==============================================================================\n",
       "Dep. Variable:                  Price   R-squared:                       0.941\n",
       "Model:                            OLS   Adj. R-squared:                  0.921\n",
       "Method:                 Least Squares   F-statistic:                     47.62\n",
       "Date:                Thu, 18 Apr 2019   Prob (F-statistic):           3.54e-21\n",
       "Time:                        15:59:35   Log-Likelihood:                 218.51\n",
       "No. Observations:                  57   AIC:                            -407.0\n",
       "Df Residuals:                      42   BIC:                            -376.4\n",
       "Df Model:                          14                                         \n",
       "Covariance Type:            nonrobust                                         \n",
       "=========================================================================================\n",
       "                            coef    std err          t      P>|t|      [0.025      0.975]\n",
       "-----------------------------------------------------------------------------------------\n",
       "Intercept                 0.0230      0.006      4.001      0.000       0.011       0.035\n",
       "Single_Score           5.232e-06   2.21e-06      2.363      0.023    7.63e-07     9.7e-06\n",
       "Multi_Score           -8.885e-07   1.17e-06     -0.757      0.453   -3.26e-06    1.48e-06\n",
       "Price_Score           -5.421e-06   1.12e-06     -4.837      0.000   -7.68e-06   -3.16e-06\n",
       "Provider_1               -0.0083      0.003     -2.542      0.015      -0.015      -0.002\n",
       "Provider_AWS             -0.0091      0.003     -2.952      0.005      -0.015      -0.003\n",
       "Provider_DigitalOcean    -0.0085      0.002     -3.761      0.001      -0.013      -0.004\n",
       "Provider_Exoscale        -0.0097      0.006     -1.496      0.142      -0.023       0.003\n",
       "Provider_Google           0.0090      0.003      3.229      0.002       0.003       0.015\n",
       "Provider_IBM              0.0072      0.003      2.628      0.012       0.002       0.013\n",
       "Provider_Joyent           0.0445      0.004     10.487      0.000       0.036       0.053\n",
       "Provider_Linode          -0.0097      0.003     -3.133      0.003      -0.016      -0.003\n",
       "Provider_Azure            0.0246      0.003      9.163      0.000       0.019       0.030\n",
       "Provider_OVH_Group    -5.262e-19      1e-18     -0.526      0.602   -2.54e-18    1.49e-18\n",
       "Provider_TSystems         0.0004      0.004      0.104      0.918      -0.007       0.008\n",
       "Provider_UpCloud         -0.0085      0.003     -2.496      0.017      -0.015      -0.002\n",
       "Provider_Vultr           -0.0089      0.003     -2.561      0.014      -0.016      -0.002\n",
       "==============================================================================\n",
       "Omnibus:                        6.728   Durbin-Watson:                   1.717\n",
       "Prob(Omnibus):                  0.035   Jarque-Bera (JB):               11.450\n",
       "Skew:                          -0.066   Prob(JB):                      0.00326\n",
       "Kurtosis:                       5.192   Cond. No.                     1.92e+22\n",
       "==============================================================================\n",
       "\n",
       "Warnings:\n",
       "[1] Standard Errors assume that the covariance matrix of the errors is correctly specified.\n",
       "[2] The smallest eigenvalue is 3.35e-36. This might indicate that there are\n",
       "strong multicollinearity problems or that the design matrix is singular.\n",
       "\"\"\""
      ]
     },
     "execution_count": 168,
     "metadata": {},
     "output_type": "execute_result"
    }
   ],
   "source": [
    "#adding providers as dummy variables WITH ALL ORIGINAL VARIABLES\n",
    "f = 'Price~Single_Score+Multi_Score+Price_Score+Provider_1+Provider_AWS+Provider_DigitalOcean+Provider_Exoscale+Provider_Google+Provider_IBM+Provider_Joyent+Provider_Linode+Provider_Azure+Provider_OVH_Group+Provider_TSystems+Provider_UpCloud+Provider_Vultr'\n",
    "model=smf.ols(formula=f, data=data_dummies).fit()\n",
    "model.summary()"
   ]
  },
  {
   "cell_type": "code",
   "execution_count": 204,
   "metadata": {
    "scrolled": false
   },
   "outputs": [
    {
     "data": {
      "text/html": [
       "<table class=\"simpletable\">\n",
       "<caption>OLS Regression Results</caption>\n",
       "<tr>\n",
       "  <th>Dep. Variable:</th>          <td>Price</td>      <th>  R-squared:         </th> <td>   0.945</td>\n",
       "</tr>\n",
       "<tr>\n",
       "  <th>Model:</th>                   <td>OLS</td>       <th>  Adj. R-squared:    </th> <td>   0.928</td>\n",
       "</tr>\n",
       "<tr>\n",
       "  <th>Method:</th>             <td>Least Squares</td>  <th>  F-statistic:       </th> <td>   56.93</td>\n",
       "</tr>\n",
       "<tr>\n",
       "  <th>Date:</th>             <td>Thu, 18 Apr 2019</td> <th>  Prob (F-statistic):</th> <td>9.43e-23</td>\n",
       "</tr>\n",
       "<tr>\n",
       "  <th>Time:</th>                 <td>16:23:41</td>     <th>  Log-Likelihood:    </th> <td>  220.68</td>\n",
       "</tr>\n",
       "<tr>\n",
       "  <th>No. Observations:</th>      <td>    57</td>      <th>  AIC:               </th> <td>  -413.4</td>\n",
       "</tr>\n",
       "<tr>\n",
       "  <th>Df Residuals:</th>          <td>    43</td>      <th>  BIC:               </th> <td>  -384.8</td>\n",
       "</tr>\n",
       "<tr>\n",
       "  <th>Df Model:</th>              <td>    13</td>      <th>                     </th>     <td> </td>   \n",
       "</tr>\n",
       "<tr>\n",
       "  <th>Covariance Type:</th>      <td>nonrobust</td>    <th>                     </th>     <td> </td>   \n",
       "</tr>\n",
       "</table>\n",
       "<table class=\"simpletable\">\n",
       "<tr>\n",
       "            <td></td>               <th>coef</th>     <th>std err</th>      <th>t</th>      <th>P>|t|</th>  <th>[0.025</th>    <th>0.975]</th>  \n",
       "</tr>\n",
       "<tr>\n",
       "  <th>Intercept</th>             <td>    0.0157</td> <td>    0.005</td> <td>    2.938</td> <td> 0.005</td> <td>    0.005</td> <td>    0.026</td>\n",
       "</tr>\n",
       "<tr>\n",
       "  <th>Single_Score</th>          <td>-4.685e-07</td> <td> 1.98e-06</td> <td>   -0.236</td> <td> 0.815</td> <td>-4.47e-06</td> <td> 3.53e-06</td>\n",
       "</tr>\n",
       "<tr>\n",
       "  <th>RAM_GB</th>                <td>    0.0058</td> <td>    0.001</td> <td>    5.604</td> <td> 0.000</td> <td>    0.004</td> <td>    0.008</td>\n",
       "</tr>\n",
       "<tr>\n",
       "  <th>Provider_1</th>            <td>   -0.0087</td> <td>    0.003</td> <td>   -2.893</td> <td> 0.006</td> <td>   -0.015</td> <td>   -0.003</td>\n",
       "</tr>\n",
       "<tr>\n",
       "  <th>Provider_AWS</th>          <td>   -0.0053</td> <td>    0.003</td> <td>   -1.771</td> <td> 0.084</td> <td>   -0.011</td> <td>    0.001</td>\n",
       "</tr>\n",
       "<tr>\n",
       "  <th>Provider_DigitalOcean</th> <td>   -0.0097</td> <td>    0.002</td> <td>   -4.622</td> <td> 0.000</td> <td>   -0.014</td> <td>   -0.005</td>\n",
       "</tr>\n",
       "<tr>\n",
       "  <th>Provider_Exoscale</th>     <td>   -0.0065</td> <td>    0.006</td> <td>   -1.037</td> <td> 0.305</td> <td>   -0.019</td> <td>    0.006</td>\n",
       "</tr>\n",
       "<tr>\n",
       "  <th>Provider_Google</th>       <td>    0.0088</td> <td>    0.003</td> <td>    3.362</td> <td> 0.002</td> <td>    0.004</td> <td>    0.014</td>\n",
       "</tr>\n",
       "<tr>\n",
       "  <th>Provider_IBM</th>          <td>    0.0108</td> <td>    0.002</td> <td>    4.559</td> <td> 0.000</td> <td>    0.006</td> <td>    0.016</td>\n",
       "</tr>\n",
       "<tr>\n",
       "  <th>Provider_Joyent</th>       <td>    0.0383</td> <td>    0.003</td> <td>   11.132</td> <td> 0.000</td> <td>    0.031</td> <td>    0.045</td>\n",
       "</tr>\n",
       "<tr>\n",
       "  <th>Provider_Linode</th>       <td>   -0.0113</td> <td>    0.003</td> <td>   -3.955</td> <td> 0.000</td> <td>   -0.017</td> <td>   -0.006</td>\n",
       "</tr>\n",
       "<tr>\n",
       "  <th>Provider_Azure</th>        <td>    0.0239</td> <td>    0.003</td> <td>    9.304</td> <td> 0.000</td> <td>    0.019</td> <td>    0.029</td>\n",
       "</tr>\n",
       "<tr>\n",
       "  <th>Provider_OVH_Group</th>    <td>-5.015e-19</td> <td> 5.33e-19</td> <td>   -0.942</td> <td> 0.352</td> <td>-1.58e-18</td> <td> 5.73e-19</td>\n",
       "</tr>\n",
       "<tr>\n",
       "  <th>Provider_TSystems</th>     <td>   -0.0011</td> <td>    0.003</td> <td>   -0.316</td> <td> 0.754</td> <td>   -0.008</td> <td>    0.006</td>\n",
       "</tr>\n",
       "<tr>\n",
       "  <th>Provider_UpCloud</th>      <td>   -0.0118</td> <td>    0.003</td> <td>   -3.984</td> <td> 0.000</td> <td>   -0.018</td> <td>   -0.006</td>\n",
       "</tr>\n",
       "<tr>\n",
       "  <th>Provider_Vultr</th>        <td>   -0.0118</td> <td>    0.003</td> <td>   -3.819</td> <td> 0.000</td> <td>   -0.018</td> <td>   -0.006</td>\n",
       "</tr>\n",
       "</table>\n",
       "<table class=\"simpletable\">\n",
       "<tr>\n",
       "  <th>Omnibus:</th>       <td>10.726</td> <th>  Durbin-Watson:     </th> <td>   1.448</td>\n",
       "</tr>\n",
       "<tr>\n",
       "  <th>Prob(Omnibus):</th> <td> 0.005</td> <th>  Jarque-Bera (JB):  </th> <td>  11.523</td>\n",
       "</tr>\n",
       "<tr>\n",
       "  <th>Skew:</th>          <td>-0.808</td> <th>  Prob(JB):          </th> <td> 0.00315</td>\n",
       "</tr>\n",
       "<tr>\n",
       "  <th>Kurtosis:</th>      <td> 4.497</td> <th>  Cond. No.          </th> <td>2.74e+20</td>\n",
       "</tr>\n",
       "</table><br/><br/>Warnings:<br/>[1] Standard Errors assume that the covariance matrix of the errors is correctly specified.<br/>[2] The smallest eigenvalue is 6.63e-33. This might indicate that there are<br/>strong multicollinearity problems or that the design matrix is singular."
      ],
      "text/plain": [
       "<class 'statsmodels.iolib.summary.Summary'>\n",
       "\"\"\"\n",
       "                            OLS Regression Results                            \n",
       "==============================================================================\n",
       "Dep. Variable:                  Price   R-squared:                       0.945\n",
       "Model:                            OLS   Adj. R-squared:                  0.928\n",
       "Method:                 Least Squares   F-statistic:                     56.93\n",
       "Date:                Thu, 18 Apr 2019   Prob (F-statistic):           9.43e-23\n",
       "Time:                        16:23:41   Log-Likelihood:                 220.68\n",
       "No. Observations:                  57   AIC:                            -413.4\n",
       "Df Residuals:                      43   BIC:                            -384.8\n",
       "Df Model:                          13                                         \n",
       "Covariance Type:            nonrobust                                         \n",
       "=========================================================================================\n",
       "                            coef    std err          t      P>|t|      [0.025      0.975]\n",
       "-----------------------------------------------------------------------------------------\n",
       "Intercept                 0.0157      0.005      2.938      0.005       0.005       0.026\n",
       "Single_Score          -4.685e-07   1.98e-06     -0.236      0.815   -4.47e-06    3.53e-06\n",
       "RAM_GB                    0.0058      0.001      5.604      0.000       0.004       0.008\n",
       "Provider_1               -0.0087      0.003     -2.893      0.006      -0.015      -0.003\n",
       "Provider_AWS             -0.0053      0.003     -1.771      0.084      -0.011       0.001\n",
       "Provider_DigitalOcean    -0.0097      0.002     -4.622      0.000      -0.014      -0.005\n",
       "Provider_Exoscale        -0.0065      0.006     -1.037      0.305      -0.019       0.006\n",
       "Provider_Google           0.0088      0.003      3.362      0.002       0.004       0.014\n",
       "Provider_IBM              0.0108      0.002      4.559      0.000       0.006       0.016\n",
       "Provider_Joyent           0.0383      0.003     11.132      0.000       0.031       0.045\n",
       "Provider_Linode          -0.0113      0.003     -3.955      0.000      -0.017      -0.006\n",
       "Provider_Azure            0.0239      0.003      9.304      0.000       0.019       0.029\n",
       "Provider_OVH_Group    -5.015e-19   5.33e-19     -0.942      0.352   -1.58e-18    5.73e-19\n",
       "Provider_TSystems        -0.0011      0.003     -0.316      0.754      -0.008       0.006\n",
       "Provider_UpCloud         -0.0118      0.003     -3.984      0.000      -0.018      -0.006\n",
       "Provider_Vultr           -0.0118      0.003     -3.819      0.000      -0.018      -0.006\n",
       "==============================================================================\n",
       "Omnibus:                       10.726   Durbin-Watson:                   1.448\n",
       "Prob(Omnibus):                  0.005   Jarque-Bera (JB):               11.523\n",
       "Skew:                          -0.808   Prob(JB):                      0.00315\n",
       "Kurtosis:                       4.497   Cond. No.                     2.74e+20\n",
       "==============================================================================\n",
       "\n",
       "Warnings:\n",
       "[1] Standard Errors assume that the covariance matrix of the errors is correctly specified.\n",
       "[2] The smallest eigenvalue is 6.63e-33. This might indicate that there are\n",
       "strong multicollinearity problems or that the design matrix is singular.\n",
       "\"\"\""
      ]
     },
     "execution_count": 204,
     "metadata": {},
     "output_type": "execute_result"
    }
   ],
   "source": [
    "#this model compares Price, Single_Score, RAM_GB and all the providers\n",
    "#dropped multi_score and price_score \n",
    "# r-squared went from .941 to .945\n",
    "f = 'Price~Single_Score+RAM_GB+Provider_1+Provider_AWS+Provider_DigitalOcean+Provider_Exoscale+Provider_Google+Provider_IBM+Provider_Joyent+Provider_Linode+Provider_Azure+Provider_OVH_Group+Provider_TSystems+Provider_UpCloud+Provider_Vultr'\n",
    "model=smf.ols(formula=f, data=data_dummies).fit()\n",
    "model.summary()"
   ]
  },
  {
   "cell_type": "code",
   "execution_count": 205,
   "metadata": {
    "scrolled": false
   },
   "outputs": [
    {
     "data": {
      "text/plain": [
       "Intercept                1.569884e-02\n",
       "Single_Score            -4.685469e-07\n",
       "RAM_GB                   5.765334e-03\n",
       "Provider_1              -8.718642e-03\n",
       "Provider_AWS            -5.318677e-03\n",
       "Provider_DigitalOcean   -9.658422e-03\n",
       "Provider_Exoscale       -6.498153e-03\n",
       "Provider_Google          8.840433e-03\n",
       "Provider_IBM             1.083715e-02\n",
       "Provider_Joyent          3.826264e-02\n",
       "Provider_Linode         -1.126299e-02\n",
       "Provider_Azure           2.390622e-02\n",
       "Provider_OVH_Group      -5.015317e-19\n",
       "Provider_TSystems       -1.080189e-03\n",
       "Provider_UpCloud        -1.184070e-02\n",
       "Provider_Vultr          -1.176983e-02\n",
       "dtype: float64"
      ]
     },
     "execution_count": 205,
     "metadata": {},
     "output_type": "execute_result"
    }
   ],
   "source": [
    "model.params"
   ]
  },
  {
   "cell_type": "code",
   "execution_count": 209,
   "metadata": {},
   "outputs": [
    {
     "ename": "TypeError",
     "evalue": "'int' object is not iterable",
     "output_type": "error",
     "traceback": [
      "\u001b[0;31m---------------------------------------------------------------------------\u001b[0m",
      "\u001b[0;31mTypeError\u001b[0m                                 Traceback (most recent call last)",
      "\u001b[0;32m<ipython-input-209-413fe36f6200>\u001b[0m in \u001b[0;36m<module>\u001b[0;34m\u001b[0m\n\u001b[1;32m      2\u001b[0m \u001b[0mlen\u001b[0m\u001b[0;34m(\u001b[0m\u001b[0mmodel\u001b[0m\u001b[0;34m.\u001b[0m\u001b[0mparams\u001b[0m\u001b[0;34m)\u001b[0m\u001b[0;34m\u001b[0m\u001b[0;34m\u001b[0m\u001b[0m\n\u001b[1;32m      3\u001b[0m \u001b[0;34m\u001b[0m\u001b[0m\n\u001b[0;32m----> 4\u001b[0;31m \u001b[0;32mfor\u001b[0m \u001b[0mi\u001b[0m \u001b[0;32min\u001b[0m \u001b[0mlen\u001b[0m\u001b[0;34m(\u001b[0m\u001b[0mmodel\u001b[0m\u001b[0;34m.\u001b[0m\u001b[0mparams\u001b[0m\u001b[0;34m)\u001b[0m\u001b[0;34m:\u001b[0m\u001b[0;34m\u001b[0m\u001b[0;34m\u001b[0m\u001b[0m\n\u001b[0m\u001b[1;32m      5\u001b[0m     \u001b[0;32mwhile\u001b[0m \u001b[0mi\u001b[0m\u001b[0;34m+\u001b[0m\u001b[0;36m1\u001b[0m \u001b[0;34m<\u001b[0m \u001b[0mlen\u001b[0m\u001b[0;34m(\u001b[0m\u001b[0mmodel\u001b[0m\u001b[0;34m.\u001b[0m\u001b[0mparams\u001b[0m\u001b[0;34m)\u001b[0m\u001b[0;34m:\u001b[0m\u001b[0;34m\u001b[0m\u001b[0;34m\u001b[0m\u001b[0m\n\u001b[1;32m      6\u001b[0m         \u001b[0mY_plot\u001b[0m \u001b[0;34m=\u001b[0m \u001b[0mmodel\u001b[0m\u001b[0;34m.\u001b[0m\u001b[0mparams\u001b[0m\u001b[0;34m[\u001b[0m\u001b[0;36m0\u001b[0m\u001b[0;34m]\u001b[0m \u001b[0;34m+\u001b[0m \u001b[0mX_plot\u001b[0m\u001b[0;34m*\u001b[0m\u001b[0mmodel\u001b[0m\u001b[0;34m.\u001b[0m\u001b[0mparams\u001b[0m\u001b[0;34m[\u001b[0m\u001b[0mi\u001b[0m\u001b[0;34m+\u001b[0m\u001b[0;36m1\u001b[0m\u001b[0;34m]\u001b[0m\u001b[0;34m\u001b[0m\u001b[0;34m\u001b[0m\u001b[0m\n",
      "\u001b[0;31mTypeError\u001b[0m: 'int' object is not iterable"
     ]
    }
   ],
   "source": [
    "#write for loop to add all \"features\" to model\n",
    "len(model.params)\n",
    "\n",
    "for i in len(model.params):\n",
    "    while i+1 < len(model.params):\n",
    "        Y_plot = model.params[0] + X_plot*model.params[i+1]\n",
    "print(Y_plot)"
   ]
  },
  {
   "cell_type": "code",
   "execution_count": 188,
   "metadata": {},
   "outputs": [
    {
     "data": {
      "image/png": "[encoded data removed]",
      "text/plain": [
       "<Figure size 432x288 with 1 Axes>"
      ]
     },
     "metadata": {},
     "output_type": "display_data"
    }
   ],
   "source": [
    "#create scatterplot of data\n",
    "plt.scatter(data2.RAM_GB,data2.Price)\n",
    "\n",
    "#use model to create a the line of best fit\n",
    "X_plot = np.linspace(0,5,250)\n",
    "Y_plot = X_plot*model.params[1] + model.params[0]\n",
    "plt.scatter(X_plot, Y_plot)\n",
    "\n",
    "plt.show()"
   ]
  },
  {
   "cell_type": "code",
   "execution_count": null,
   "metadata": {},
   "outputs": [],
   "source": [
    "#too many parameters?  trying again before the dummy variables"
   ]
  },
  {
   "cell_type": "code",
   "execution_count": 191,
   "metadata": {
    "scrolled": false
   },
   "outputs": [
    {
     "data": {
      "text/html": [
       "<table class=\"simpletable\">\n",
       "<caption>OLS Regression Results</caption>\n",
       "<tr>\n",
       "  <th>Dep. Variable:</th>          <td>Price</td>      <th>  R-squared:         </th> <td>   0.681</td>\n",
       "</tr>\n",
       "<tr>\n",
       "  <th>Model:</th>                   <td>OLS</td>       <th>  Adj. R-squared:    </th> <td>   0.670</td>\n",
       "</tr>\n",
       "<tr>\n",
       "  <th>Method:</th>             <td>Least Squares</td>  <th>  F-statistic:       </th> <td>   57.77</td>\n",
       "</tr>\n",
       "<tr>\n",
       "  <th>Date:</th>             <td>Thu, 18 Apr 2019</td> <th>  Prob (F-statistic):</th> <td>3.84e-14</td>\n",
       "</tr>\n",
       "<tr>\n",
       "  <th>Time:</th>                 <td>16:16:27</td>     <th>  Log-Likelihood:    </th> <td>  170.58</td>\n",
       "</tr>\n",
       "<tr>\n",
       "  <th>No. Observations:</th>      <td>    57</td>      <th>  AIC:               </th> <td>  -335.2</td>\n",
       "</tr>\n",
       "<tr>\n",
       "  <th>Df Residuals:</th>          <td>    54</td>      <th>  BIC:               </th> <td>  -329.0</td>\n",
       "</tr>\n",
       "<tr>\n",
       "  <th>Df Model:</th>              <td>     2</td>      <th>                     </th>     <td> </td>   \n",
       "</tr>\n",
       "<tr>\n",
       "  <th>Covariance Type:</th>      <td>nonrobust</td>    <th>                     </th>     <td> </td>   \n",
       "</tr>\n",
       "</table>\n",
       "<table class=\"simpletable\">\n",
       "<tr>\n",
       "        <td></td>          <th>coef</th>     <th>std err</th>      <th>t</th>      <th>P>|t|</th>  <th>[0.025</th>    <th>0.975]</th>  \n",
       "</tr>\n",
       "<tr>\n",
       "  <th>Intercept</th>    <td>    0.0226</td> <td>    0.009</td> <td>    2.382</td> <td> 0.021</td> <td>    0.004</td> <td>    0.042</td>\n",
       "</tr>\n",
       "<tr>\n",
       "  <th>Single_Score</th> <td>-8.311e-06</td> <td>    3e-06</td> <td>   -2.773</td> <td> 0.008</td> <td>-1.43e-05</td> <td> -2.3e-06</td>\n",
       "</tr>\n",
       "<tr>\n",
       "  <th>RAM_GB</th>       <td>    0.0147</td> <td>    0.001</td> <td>   10.286</td> <td> 0.000</td> <td>    0.012</td> <td>    0.018</td>\n",
       "</tr>\n",
       "</table>\n",
       "<table class=\"simpletable\">\n",
       "<tr>\n",
       "  <th>Omnibus:</th>       <td> 1.425</td> <th>  Durbin-Watson:     </th> <td>   1.013</td>\n",
       "</tr>\n",
       "<tr>\n",
       "  <th>Prob(Omnibus):</th> <td> 0.490</td> <th>  Jarque-Bera (JB):  </th> <td>   1.117</td>\n",
       "</tr>\n",
       "<tr>\n",
       "  <th>Skew:</th>          <td> 0.343</td> <th>  Prob(JB):          </th> <td>   0.572</td>\n",
       "</tr>\n",
       "<tr>\n",
       "  <th>Kurtosis:</th>      <td> 2.969</td> <th>  Cond. No.          </th> <td>1.69e+04</td>\n",
       "</tr>\n",
       "</table><br/><br/>Warnings:<br/>[1] Standard Errors assume that the covariance matrix of the errors is correctly specified.<br/>[2] The condition number is large, 1.69e+04. This might indicate that there are<br/>strong multicollinearity or other numerical problems."
      ],
      "text/plain": [
       "<class 'statsmodels.iolib.summary.Summary'>\n",
       "\"\"\"\n",
       "                            OLS Regression Results                            \n",
       "==============================================================================\n",
       "Dep. Variable:                  Price   R-squared:                       0.681\n",
       "Model:                            OLS   Adj. R-squared:                  0.670\n",
       "Method:                 Least Squares   F-statistic:                     57.77\n",
       "Date:                Thu, 18 Apr 2019   Prob (F-statistic):           3.84e-14\n",
       "Time:                        16:16:27   Log-Likelihood:                 170.58\n",
       "No. Observations:                  57   AIC:                            -335.2\n",
       "Df Residuals:                      54   BIC:                            -329.0\n",
       "Df Model:                           2                                         \n",
       "Covariance Type:            nonrobust                                         \n",
       "================================================================================\n",
       "                   coef    std err          t      P>|t|      [0.025      0.975]\n",
       "--------------------------------------------------------------------------------\n",
       "Intercept        0.0226      0.009      2.382      0.021       0.004       0.042\n",
       "Single_Score -8.311e-06      3e-06     -2.773      0.008   -1.43e-05    -2.3e-06\n",
       "RAM_GB           0.0147      0.001     10.286      0.000       0.012       0.018\n",
       "==============================================================================\n",
       "Omnibus:                        1.425   Durbin-Watson:                   1.013\n",
       "Prob(Omnibus):                  0.490   Jarque-Bera (JB):                1.117\n",
       "Skew:                           0.343   Prob(JB):                        0.572\n",
       "Kurtosis:                       2.969   Cond. No.                     1.69e+04\n",
       "==============================================================================\n",
       "\n",
       "Warnings:\n",
       "[1] Standard Errors assume that the covariance matrix of the errors is correctly specified.\n",
       "[2] The condition number is large, 1.69e+04. This might indicate that there are\n",
       "strong multicollinearity or other numerical problems.\n",
       "\"\"\""
      ]
     },
     "execution_count": 191,
     "metadata": {},
     "output_type": "execute_result"
    }
   ],
   "source": [
    "#dropped multi_score and price_score r-squared = .681          unedited RAM r-squared:.431\n",
    "f = 'Price~Single_Score+RAM_GB'\n",
    "model=smf.ols(formula=f, data=data2).fit()\n",
    "model.summary()"
   ]
  },
  {
   "cell_type": "code",
   "execution_count": 195,
   "metadata": {},
   "outputs": [
    {
     "data": {
      "text/plain": [
       "Intercept       0.022556\n",
       "Single_Score   -0.000008\n",
       "RAM_GB          0.014719\n",
       "dtype: float64"
      ]
     },
     "execution_count": 195,
     "metadata": {},
     "output_type": "execute_result"
    }
   ],
   "source": [
    "model.params"
   ]
  },
  {
   "cell_type": "code",
   "execution_count": 201,
   "metadata": {},
   "outputs": [
    {
     "data": {
      "image/png": "[encoded data removed]",
      "text/plain": [
       "<Figure size 432x288 with 1 Axes>"
      ]
     },
     "metadata": {},
     "output_type": "display_data"
    }
   ],
   "source": [
    "#create scatterplot of data\n",
    "plt.scatter(data2.RAM_GB,data2.Price)\n",
    "\n",
    "#use model to create a the line of best fit\n",
    "X_plot = np.linspace(0,5,250)\n",
    "Y_plot = X_plot*model.params[1] + X_plot*model.params[2] + model.params[0]\n",
    "plt.scatter(X_plot, Y_plot)\n",
    "\n",
    "plt.show()"
   ]
  },
  {
   "cell_type": "code",
   "execution_count": null,
   "metadata": {},
   "outputs": [],
   "source": [
    "from statsmodels.stats.multicomp import pairwise_tukeyhsd\n",
    "from statsmodels.stats.multicomp import MultiComparison\n",
    "\n",
    "mc = MultiComparison(data2['RAM_GB'],data2['Price'])\n",
    "mc_results = mc.tukeyhsd()\n",
    "print(mc_results)"
   ]
  }
 ],
 "metadata": {
  "kernelspec": {
   "display_name": "Python 3",
   "language": "python",
   "name": "python3"
  },
  "language_info": {
   "codemirror_mode": {
    "name": "ipython",
    "version": 3
   },
   "file_extension": ".py",
   "mimetype": "text/x-python",
   "name": "python",
   "nbconvert_exporter": "python",
   "pygments_lexer": "ipython3",
   "version": "3.7.1"
  }
 },
 "nbformat": 4,
 "nbformat_minor": 2
}
